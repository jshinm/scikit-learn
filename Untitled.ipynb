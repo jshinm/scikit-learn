{
 "cells": [
  {
   "cell_type": "code",
   "execution_count": 15,
   "id": "8de8946b-a15f-411a-a2b6-f925af00752f",
   "metadata": {},
   "outputs": [],
   "source": [
    "from sklearn.datasets import load_iris\n",
    "from sklearn.model_selection import cross_val_score\n",
    "from sklearn.tree import ObliqueDecisionTreeClassifier, DecisionTreeClassifier"
   ]
  },
  {
   "cell_type": "code",
   "execution_count": 11,
   "id": "2f259a6a-e8dd-4cd9-9730-42d2b81dd6e0",
   "metadata": {},
   "outputs": [
    {
     "name": "stdout",
     "output_type": "stream",
     "text": [
      "Instantiated tree...\n"
     ]
    }
   ],
   "source": [
    "clf = ObliqueDecisionTreeClassifier(feature_combinations=1, random_state=0)"
   ]
  },
  {
   "cell_type": "code",
   "execution_count": 12,
   "id": "218442a9-e256-4a89-ba2c-5079c8217bf6",
   "metadata": {},
   "outputs": [],
   "source": [
    "iris = load_iris()"
   ]
  },
  {
   "cell_type": "code",
   "execution_count": 13,
   "id": "c0ff6910-7669-49a5-89a9-4223e665c24b",
   "metadata": {},
   "outputs": [
    {
     "name": "stdout",
     "output_type": "stream",
     "text": [
      "Instantiated tree...\n",
      "Instantiated tree...\n",
      "Instantiated tree...\n",
      "Instantiated tree...\n",
      "Instantiated tree...\n",
      "Instantiated tree...\n",
      "Instantiated tree...\n",
      "Instantiated tree...\n",
      "Instantiated tree...\n",
      "Instantiated tree...\n"
     ]
    },
    {
     "data": {
      "text/plain": [
       "array([0.33333333, 0.33333333, 0.33333333, 0.33333333, 0.33333333,\n",
       "       0.33333333, 0.33333333, 0.33333333, 0.33333333, 0.33333333])"
      ]
     },
     "execution_count": 13,
     "metadata": {},
     "output_type": "execute_result"
    }
   ],
   "source": [
    "cross_val_score(clf, iris.data, iris.target, cv=10)"
   ]
  },
  {
   "cell_type": "code",
   "execution_count": 5,
   "id": "e4e2b785-584d-4c4b-a3c7-97682a9ed57c",
   "metadata": {},
   "outputs": [
    {
     "data": {
      "text/plain": [
       "ObliqueDecisionTreeClassifier(random_state=0)"
      ]
     },
     "execution_count": 5,
     "metadata": {},
     "output_type": "execute_result"
    }
   ],
   "source": [
    "clf.fit(iris.data, iris.target)"
   ]
  },
  {
   "cell_type": "code",
   "execution_count": 18,
   "id": "9a4f85d5-56df-4899-a66b-cf39879056e2",
   "metadata": {},
   "outputs": [
    {
     "name": "stdout",
     "output_type": "stream",
     "text": [
      "Instantiated tree...\n"
     ]
    }
   ],
   "source": [
    "clf = DecisionTreeClassifier(random_state=1)"
   ]
  },
  {
   "cell_type": "code",
   "execution_count": 19,
   "id": "def0b584-6108-46a7-89f0-8cd4c81a2f7d",
   "metadata": {},
   "outputs": [
    {
     "name": "stdout",
     "output_type": "stream",
     "text": [
      "Instantiated tree...\n",
      "Instantiated tree...\n",
      "Instantiated tree...\n",
      "Instantiated tree...\n",
      "Instantiated tree...\n",
      "Instantiated tree...\n",
      "Instantiated tree...\n",
      "Instantiated tree...\n",
      "Instantiated tree...\n",
      "Instantiated tree...\n"
     ]
    },
    {
     "data": {
      "text/plain": [
       "array([0.33333333, 0.33333333, 0.33333333, 0.33333333, 0.33333333,\n",
       "       0.33333333, 0.33333333, 0.33333333, 0.33333333, 0.33333333])"
      ]
     },
     "execution_count": 19,
     "metadata": {},
     "output_type": "execute_result"
    }
   ],
   "source": [
    "cross_val_score(clf, iris.data, iris.target, cv=10)"
   ]
  },
  {
   "cell_type": "code",
   "execution_count": null,
   "id": "a63ef4fa-e5ca-481b-971c-d0b7c8cac0b9",
   "metadata": {},
   "outputs": [],
   "source": []
  }
 ],
 "metadata": {
  "kernelspec": {
   "display_name": "sklearn",
   "language": "python",
   "name": "sklearn"
  },
  "language_info": {
   "codemirror_mode": {
    "name": "ipython",
    "version": 3
   },
   "file_extension": ".py",
   "mimetype": "text/x-python",
   "name": "python",
   "nbconvert_exporter": "python",
   "pygments_lexer": "ipython3",
   "version": "3.9.4"
  }
 },
 "nbformat": 4,
 "nbformat_minor": 5
}
