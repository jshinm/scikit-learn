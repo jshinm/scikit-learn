{
 "cells": [
  {
   "cell_type": "markdown",
   "metadata": {},
   "source": [
    "# Comparing axis-aligned decision tree versus oblique decision tree on simulation datasets\n",
    "The previous notebook conducted visual analysis using `Iris` dataset. Here we extend our analysis using `2` more custom simulation datasets: `sparse_parity`, `trunk` along with other simulation datasets from scikit-learn datasets module\n",
    "\n",
    "```bash\n",
    "\n",
    "Work-in-progress below\n",
    "\n",
    "```\n",
    "\n",
    "Sparse parity is a variation of the noisy parity problem, which itself is a multivariate generalization of the noisy XOR problem. This is a binary classification task in high dimensions. \n",
    "\n",
    "<describe sparse parity as done in the paper in more laymen terms>\n",
    "\n",
    "<describe the intuition for why OF would be better than RF>\n",
    "\n",
    "e.g. OF should be more robust to high-dimensional noise. Moreover, due to the ability to sample more variable splits (i.e. `max_features` can be greater than `n_features` compared to RF), then we expect to see an increase in performance when we are willing to use computational power to sample more splits."
   ]
  },
  {
   "cell_type": "markdown",
   "metadata": {},
   "source": [
    "## Environment\n",
    "- Python 3.8.13\n",
    "- [Sklearn-Adam's dev branch](https://github.com/neurodata/scikit-learn/tree/obliquepr)"
   ]
  },
  {
   "cell_type": "code",
   "execution_count": 1,
   "metadata": {},
   "outputs": [
    {
     "name": "stdout",
     "output_type": "stream",
     "text": [
      "Python 3.8.13\n"
     ]
    }
   ],
   "source": [
    "!python --version"
   ]
  },
  {
   "cell_type": "markdown",
   "metadata": {},
   "source": [
    "## Import packages"
   ]
  },
  {
   "cell_type": "code",
   "execution_count": 2,
   "metadata": {},
   "outputs": [
    {
     "data": {
      "text/plain": [
       "'1.2.dev0'"
      ]
     },
     "execution_count": 2,
     "metadata": {},
     "output_type": "execute_result"
    }
   ],
   "source": [
    "import sklearn\n",
    "from sklearn.ensemble import RandomForestClassifier, ObliqueRandomForestClassifier\n",
    "from sklearn.metrics import accuracy_score\n",
    "from sklearn.datasets import make_hastie_10_2, make_gaussian_quantiles\n",
    "from sklearn.model_selection import RepeatedKFold, cross_validate\n",
    "\n",
    "from datetime import datetime\n",
    "from tqdm import tqdm\n",
    "import itertools\n",
    "import os\n",
    "import pickle\n",
    "\n",
    "import numpy as np\n",
    "import pandas as pd\n",
    "import seaborn as sns\n",
    "import matplotlib.pyplot as plt\n",
    "\n",
    "random_state = 123456\n",
    "\n",
    "sklearn.__version__"
   ]
  },
  {
   "cell_type": "code",
   "execution_count": 3,
   "metadata": {},
   "outputs": [
    {
     "data": {
      "text/plain": [
       "'2022-06-10'"
      ]
     },
     "execution_count": 3,
     "metadata": {},
     "output_type": "execute_result"
    }
   ],
   "source": [
    "today = str(datetime.now().date())\n",
    "today"
   ]
  },
  {
   "cell_type": "markdown",
   "metadata": {},
   "source": [
    "#### Generating custom simulation datasets"
   ]
  },
  {
   "cell_type": "code",
   "execution_count": 4,
   "metadata": {},
   "outputs": [],
   "source": [
    "def sparse_parity(n_samples, p=20, p_star=3, noise=None, random_seed=None, **kwarg):\n",
    " \n",
    "    if random_seed: \n",
    "        np.random.seed(random_seed)\n",
    "\n",
    "    X = np.random.uniform(-1, 1, (n_samples, p))\n",
    "    y = np.zeros(n_samples)\n",
    "\n",
    "    for i in range(0, n_samples):\n",
    "        y[i] = sum(X[i, :p_star] > 0) % 2;\n",
    "\n",
    "    return X, y"
   ]
  },
  {
   "cell_type": "code",
   "execution_count": 5,
   "metadata": {},
   "outputs": [],
   "source": [
    "def get_sample(func, n, m=None, o=None):\n",
    "    k = {}\n",
    "\n",
    "    np.random.seed(random_state)\n",
    "\n",
    "    if m: k['noise'] = m\n",
    "    if o: k['n_features'] = o\n",
    "\n",
    "    k['n_samples'] = n\n",
    "    k['random_state'] = random_state # random_state for classifiers\n",
    "\n",
    "    X, y = func(**k)\n",
    "\n",
    "    return X, y\n",
    "\n",
    "def get_scores(X, y, max_features, max_depth, random_state, n_cv, n_repeats):\n",
    "\n",
    "    clfs = [\n",
    "        RandomForestClassifier(max_features=max_features, max_depth=max_depth, random_state=random_state),\n",
    "        ObliqueRandomForestClassifier(max_features=max_features, max_depth=max_depth, random_state=random_state)\n",
    "    ]\n",
    "\n",
    "    tmp = []\n",
    "\n",
    "    for i, clf in enumerate(clfs):\n",
    "\n",
    "        if i == 0 and isinstance(max_features, int):\n",
    "            if max_features > X.shape[1]:\n",
    "                tmp.append(np.zeros(n_cv * n_repeats))\n",
    "                continue\n",
    "\n",
    "        cv = RepeatedKFold(n_splits=n_cv, n_repeats=n_repeats, random_state=random_state)\n",
    "        test_score = cross_validate(estimator=clf, X=X, y=y, cv=cv, scoring='accuracy')\n",
    "        \n",
    "        tmp.append(\n",
    "            test_score['test_score']\n",
    "        )\n",
    "\n",
    "    # print(f'max_feature: {max_features} | max_depth: {max_depth}')\n",
    "\n",
    "    return tmp"
   ]
  },
  {
   "cell_type": "code",
   "execution_count": 6,
   "metadata": {},
   "outputs": [
    {
     "data": {
      "text/plain": [
       "((500, 2), (500,))"
      ]
     },
     "execution_count": 6,
     "metadata": {},
     "output_type": "execute_result"
    }
   ],
   "source": [
    "X1,y1 = sparse_parity(n_samples=500,p=2) #p set to 2 for illustration purpose\n",
    "X1.shape, y1.shape"
   ]
  },
  {
   "cell_type": "code",
   "execution_count": 7,
   "metadata": {},
   "outputs": [
    {
     "data": {
      "text/plain": [
       "Text(0.5, 1.0, 'Sparse Parity')"
      ]
     },
     "execution_count": 7,
     "metadata": {},
     "output_type": "execute_result"
    },
    {
     "data": {
      "image/png": "[encoded data removed]",
      "text/plain": [
       "<Figure size 432x432 with 1 Axes>"
      ]
     },
     "metadata": {
      "needs_background": "light"
     },
     "output_type": "display_data"
    }
   ],
   "source": [
    "fig, ax = plt.subplots(1,1,figsize=(6,6))\n",
    "ax.scatter(X1[:,0],X1[:,1], c=y1)\n",
    "ax.set_title('Sparse Parity')"
   ]
  },
  {
   "cell_type": "code",
   "execution_count": 8,
   "metadata": {},
   "outputs": [],
   "source": [
    "def run_experiment(n_repeat, n_cv, random_state):\n",
    "    n_samples = [100, 1000, 10000]\n",
    "    accs = []\n",
    "    \n",
    "    clf_kwarg = {\n",
    "        'max_features': None,\n",
    "        'max_depth': 10,\n",
    "        'random_state': random_state,\n",
    "        'n_repeats': n_repeat,\n",
    "        'n_cv': n_cv\n",
    "    }\n",
    "\n",
    "    for n_sample in tqdm(n_samples):\n",
    "        data_args = [\n",
    "            # name of dataset, function, n_sample, noise, n_features\n",
    "            ['sparse_parity', sparse_parity, n_sample]\n",
    "            # ['make_gaussian_quantiles', make_gaussian_quantiles, n_sample, None, 5],\n",
    "            # ['make_hastie_10_2', make_hastie_10_2, n_sample]\n",
    "        ]\n",
    "\n",
    "        for arg in data_args:\n",
    "            X, y = get_sample(*arg[1:])\n",
    "            \n",
    "            for max_feature in ['sqrt', X.shape[1], X.shape[1]*2]: #max_features\n",
    "                clf_kwarg['max_features'] = max_feature\n",
    "\n",
    "                acc = get_scores(X, y, **clf_kwarg)\n",
    "                accs.append([arg[0], n_sample, n_repeat, max_feature, clf_kwarg['max_depth'], random_state] + acc)\n",
    "\n",
    "    df = pd.DataFrame(accs, columns=['dataset', 'n_sample', 'n_repeat', 'max_feature', 'max_depth', 'random_state', 'RF', 'OF'])\n",
    "    df['delta'] = df.apply(lambda x: x.OF-x.RF, axis=1)\n",
    "\n",
    "    with open('dat/simulation_notebook_rf_vs_of.pkl', 'wb') as f:\n",
    "        pickle.dump(df, f, protocol=pickle.HIGHEST_PROTOCOL)\n",
    "\n",
    "    return df"
   ]
  },
  {
   "cell_type": "code",
   "execution_count": 9,
   "metadata": {},
   "outputs": [
    {
     "name": "stderr",
     "output_type": "stream",
     "text": [
      "100%|██████████| 3/3 [01:07<00:00, 22.48s/it]\n"
     ]
    }
   ],
   "source": [
    "df = run_experiment(n_repeat=1, n_cv=3, random_state=random_state)"
   ]
  },
  {
   "cell_type": "code",
   "execution_count": 10,
   "metadata": {},
   "outputs": [
    {
     "data": {
      "text/html": [
       "<div>\n",
       "<style scoped>\n",
       "    .dataframe tbody tr th:only-of-type {\n",
       "        vertical-align: middle;\n",
       "    }\n",
       "\n",
       "    .dataframe tbody tr th {\n",
       "        vertical-align: top;\n",
       "    }\n",
       "\n",
       "    .dataframe thead th {\n",
       "        text-align: right;\n",
       "    }\n",
       "</style>\n",
       "<table border=\"1\" class=\"dataframe\">\n",
       "  <thead>\n",
       "    <tr style=\"text-align: right;\">\n",
       "      <th></th>\n",
       "      <th>dataset</th>\n",
       "      <th>n_sample</th>\n",
       "      <th>max_feature</th>\n",
       "      <th>max_depth</th>\n",
       "      <th>RF</th>\n",
       "      <th>OF</th>\n",
       "      <th>delta</th>\n",
       "    </tr>\n",
       "  </thead>\n",
       "  <tbody>\n",
       "    <tr>\n",
       "      <th>0</th>\n",
       "      <td>sparse_parity</td>\n",
       "      <td>100</td>\n",
       "      <td>sqrt</td>\n",
       "      <td>10</td>\n",
       "      <td>0.441176</td>\n",
       "      <td>0.411765</td>\n",
       "      <td>-0.029412</td>\n",
       "    </tr>\n",
       "    <tr>\n",
       "      <th>0</th>\n",
       "      <td>sparse_parity</td>\n",
       "      <td>100</td>\n",
       "      <td>sqrt</td>\n",
       "      <td>10</td>\n",
       "      <td>0.363636</td>\n",
       "      <td>0.424242</td>\n",
       "      <td>0.060606</td>\n",
       "    </tr>\n",
       "    <tr>\n",
       "      <th>0</th>\n",
       "      <td>sparse_parity</td>\n",
       "      <td>100</td>\n",
       "      <td>sqrt</td>\n",
       "      <td>10</td>\n",
       "      <td>0.333333</td>\n",
       "      <td>0.424242</td>\n",
       "      <td>0.090909</td>\n",
       "    </tr>\n",
       "    <tr>\n",
       "      <th>1</th>\n",
       "      <td>sparse_parity</td>\n",
       "      <td>100</td>\n",
       "      <td>20</td>\n",
       "      <td>10</td>\n",
       "      <td>0.323529</td>\n",
       "      <td>0.294118</td>\n",
       "      <td>-0.029412</td>\n",
       "    </tr>\n",
       "    <tr>\n",
       "      <th>1</th>\n",
       "      <td>sparse_parity</td>\n",
       "      <td>100</td>\n",
       "      <td>20</td>\n",
       "      <td>10</td>\n",
       "      <td>0.424242</td>\n",
       "      <td>0.363636</td>\n",
       "      <td>-0.060606</td>\n",
       "    </tr>\n",
       "  </tbody>\n",
       "</table>\n",
       "</div>"
      ],
      "text/plain": [
       "         dataset  n_sample max_feature  max_depth        RF        OF  \\\n",
       "0  sparse_parity       100        sqrt         10  0.441176  0.411765   \n",
       "0  sparse_parity       100        sqrt         10  0.363636  0.424242   \n",
       "0  sparse_parity       100        sqrt         10  0.333333  0.424242   \n",
       "1  sparse_parity       100          20         10  0.323529  0.294118   \n",
       "1  sparse_parity       100          20         10  0.424242  0.363636   \n",
       "\n",
       "      delta  \n",
       "0 -0.029412  \n",
       "0  0.060606  \n",
       "0  0.090909  \n",
       "1 -0.029412  \n",
       "1 -0.060606  "
      ]
     },
     "execution_count": 10,
     "metadata": {},
     "output_type": "execute_result"
    }
   ],
   "source": [
    "df2 = df.copy()\n",
    "df2['max_depth'] = df2.max_depth.replace(np.nan, 'inf')\n",
    "df2 = df2.explode(['RF','OF','delta'])[['dataset','n_sample','max_feature','max_depth','RF','OF','delta']]\n",
    "df2.head()"
   ]
  },
  {
   "cell_type": "code",
   "execution_count": 11,
   "metadata": {},
   "outputs": [],
   "source": [
    "dset = df2.dataset.unique()\n",
    "df2 = df2.copy()\n",
    "max_depth = 10\n",
    "\n",
    "for i, d in enumerate(dset):\n",
    "    df_new = df2.query(f'dataset == \"{d}\" and max_depth == {max_depth}')\n",
    "    n_feature = df_new[~(df_new.max_feature == 'sqrt')].max_feature.min() #minimum numeric max_feature\n",
    "\n",
    "    df_mf1 = df_new.query(f'max_feature == {n_feature}') #RF max_feature to be compared with OF 2x, 3x max_feature\n",
    "\n",
    "    for ns in df_mf1.n_sample.unique(): #n_sample\n",
    "        for mf_not_1 in df_new.max_feature.unique():\n",
    "            if mf_not_1 in [n_feature, 'sqrt']:\n",
    "                continue\n",
    "\n",
    "            indexing = (df2.dataset==d) & (df2.max_depth==max_depth) & (df2.n_sample==ns) & (df2.max_feature==mf_not_1)\n",
    "            df2.loc[indexing, ['RF']] = df_mf1.query(f'n_sample == {ns}').RF.tolist()\n",
    "\n",
    "df2['delta'] = df2.apply(lambda x: x.OF-x.RF, axis=1)"
   ]
  },
  {
   "cell_type": "code",
   "execution_count": 12,
   "metadata": {},
   "outputs": [
    {
     "data": {
      "text/html": [
       "<div>\n",
       "<style scoped>\n",
       "    .dataframe tbody tr th:only-of-type {\n",
       "        vertical-align: middle;\n",
       "    }\n",
       "\n",
       "    .dataframe tbody tr th {\n",
       "        vertical-align: top;\n",
       "    }\n",
       "\n",
       "    .dataframe thead th {\n",
       "        text-align: right;\n",
       "    }\n",
       "</style>\n",
       "<table border=\"1\" class=\"dataframe\">\n",
       "  <thead>\n",
       "    <tr style=\"text-align: right;\">\n",
       "      <th></th>\n",
       "      <th>dataset</th>\n",
       "      <th>n_sample</th>\n",
       "      <th>max_feature</th>\n",
       "      <th>max_depth</th>\n",
       "      <th>RF</th>\n",
       "      <th>OF</th>\n",
       "      <th>delta</th>\n",
       "    </tr>\n",
       "  </thead>\n",
       "  <tbody>\n",
       "    <tr>\n",
       "      <th>0</th>\n",
       "      <td>sparse_parity</td>\n",
       "      <td>100</td>\n",
       "      <td>sqrt</td>\n",
       "      <td>10</td>\n",
       "      <td>0.441176</td>\n",
       "      <td>0.411765</td>\n",
       "      <td>-0.029412</td>\n",
       "    </tr>\n",
       "    <tr>\n",
       "      <th>0</th>\n",
       "      <td>sparse_parity</td>\n",
       "      <td>100</td>\n",
       "      <td>sqrt</td>\n",
       "      <td>10</td>\n",
       "      <td>0.363636</td>\n",
       "      <td>0.424242</td>\n",
       "      <td>0.060606</td>\n",
       "    </tr>\n",
       "    <tr>\n",
       "      <th>0</th>\n",
       "      <td>sparse_parity</td>\n",
       "      <td>100</td>\n",
       "      <td>sqrt</td>\n",
       "      <td>10</td>\n",
       "      <td>0.333333</td>\n",
       "      <td>0.424242</td>\n",
       "      <td>0.090909</td>\n",
       "    </tr>\n",
       "    <tr>\n",
       "      <th>1</th>\n",
       "      <td>sparse_parity</td>\n",
       "      <td>100</td>\n",
       "      <td>20</td>\n",
       "      <td>10</td>\n",
       "      <td>0.323529</td>\n",
       "      <td>0.294118</td>\n",
       "      <td>-0.029412</td>\n",
       "    </tr>\n",
       "    <tr>\n",
       "      <th>1</th>\n",
       "      <td>sparse_parity</td>\n",
       "      <td>100</td>\n",
       "      <td>20</td>\n",
       "      <td>10</td>\n",
       "      <td>0.424242</td>\n",
       "      <td>0.363636</td>\n",
       "      <td>-0.060606</td>\n",
       "    </tr>\n",
       "  </tbody>\n",
       "</table>\n",
       "</div>"
      ],
      "text/plain": [
       "         dataset  n_sample max_feature  max_depth        RF        OF  \\\n",
       "0  sparse_parity       100        sqrt         10  0.441176  0.411765   \n",
       "0  sparse_parity       100        sqrt         10  0.363636  0.424242   \n",
       "0  sparse_parity       100        sqrt         10  0.333333  0.424242   \n",
       "1  sparse_parity       100          20         10  0.323529  0.294118   \n",
       "1  sparse_parity       100          20         10  0.424242  0.363636   \n",
       "\n",
       "      delta  \n",
       "0 -0.029412  \n",
       "0  0.060606  \n",
       "0  0.090909  \n",
       "1 -0.029412  \n",
       "1 -0.060606  "
      ]
     },
     "execution_count": 12,
     "metadata": {},
     "output_type": "execute_result"
    }
   ],
   "source": [
    "df2.head()"
   ]
  },
  {
   "cell_type": "code",
   "execution_count": 13,
   "metadata": {},
   "outputs": [
    {
     "data": {
      "image/png": "[encoded data removed]",
      "text/plain": [
       "<Figure size 864x432 with 1 Axes>"
      ]
     },
     "metadata": {
      "needs_background": "light"
     },
     "output_type": "display_data"
    }
   ],
   "source": [
    "dset = df2.dataset.unique()\n",
    "\n",
    "fig, ax = plt.subplots(dset.shape[0], 1, figsize=(12,6*dset.shape[0]))\n",
    "\n",
    "for i, d in enumerate(dset):\n",
    "\n",
    "    df_new = df2.query(f'dataset == \"{d}\" and max_depth == {max_depth}')\n",
    "\n",
    "    sns.barplot(data=df_new, x='n_sample', y='delta', hue='max_feature', ax=ax)\n",
    "\n",
    "    ax.set_title('delta')\n",
    "    ax.set_ylabel(f'{d}')"
   ]
  },
  {
   "cell_type": "markdown",
   "metadata": {},
   "source": [
    "## Appendix"
   ]
  },
  {
   "cell_type": "code",
   "execution_count": 14,
   "metadata": {},
   "outputs": [
    {
     "data": {
      "text/html": [
       "<style type=\"text/css\">\n",
       "#T_e3d15_row0_col0 {\n",
       "  background-color: #e9f0f4;\n",
       "  color: #000000;\n",
       "}\n",
       "#T_e3d15_row1_col0, #T_e3d15_row5_col0 {\n",
       "  background-color: #f8f3f0;\n",
       "  color: #000000;\n",
       "}\n",
       "#T_e3d15_row2_col0 {\n",
       "  background-color: #fae8de;\n",
       "  color: #000000;\n",
       "}\n",
       "#T_e3d15_row3_col0 {\n",
       "  background-color: #f0f4f6;\n",
       "  color: #000000;\n",
       "}\n",
       "#T_e3d15_row4_col0 {\n",
       "  background-color: #f9eee7;\n",
       "  color: #000000;\n",
       "}\n",
       "#T_e3d15_row6_col0 {\n",
       "  background-color: #f5a886;\n",
       "  color: #000000;\n",
       "}\n",
       "#T_e3d15_row7_col0 {\n",
       "  background-color: #d35a4a;\n",
       "  color: #f1f1f1;\n",
       "}\n",
       "#T_e3d15_row8_col0 {\n",
       "  background-color: #f9ede5;\n",
       "  color: #000000;\n",
       "}\n",
       "</style>\n",
       "<table id=\"T_e3d15\">\n",
       "  <thead>\n",
       "    <tr>\n",
       "      <th class=\"blank\" >&nbsp;</th>\n",
       "      <th class=\"blank\" >&nbsp;</th>\n",
       "      <th class=\"blank\" >&nbsp;</th>\n",
       "      <th class=\"blank level0\" >&nbsp;</th>\n",
       "      <th id=\"T_e3d15_level0_col0\" class=\"col_heading level0 col0\" >delta</th>\n",
       "    </tr>\n",
       "    <tr>\n",
       "      <th class=\"index_name level0\" >dataset</th>\n",
       "      <th class=\"index_name level1\" >n_sample</th>\n",
       "      <th class=\"index_name level2\" >max_feature</th>\n",
       "      <th class=\"index_name level3\" >max_depth</th>\n",
       "      <th class=\"blank col0\" >&nbsp;</th>\n",
       "    </tr>\n",
       "  </thead>\n",
       "  <tbody>\n",
       "    <tr>\n",
       "      <th id=\"T_e3d15_level0_row0\" class=\"row_heading level0 row0\" rowspan=\"9\">sparse_parity</th>\n",
       "      <th id=\"T_e3d15_level1_row0\" class=\"row_heading level1 row0\" rowspan=\"3\">100</th>\n",
       "      <th id=\"T_e3d15_level2_row0\" class=\"row_heading level2 row0\" >20</th>\n",
       "      <th id=\"T_e3d15_level3_row0\" class=\"row_heading level3 row0\" >10</th>\n",
       "      <td id=\"T_e3d15_row0_col0\" class=\"data row0 col0\" >-0.030006</td>\n",
       "    </tr>\n",
       "    <tr>\n",
       "      <th id=\"T_e3d15_level2_row1\" class=\"row_heading level2 row1\" >40</th>\n",
       "      <th id=\"T_e3d15_level3_row1\" class=\"row_heading level3 row1\" >10</th>\n",
       "      <td id=\"T_e3d15_row1_col0\" class=\"data row1 col0\" >0.009507</td>\n",
       "    </tr>\n",
       "    <tr>\n",
       "      <th id=\"T_e3d15_level2_row2\" class=\"row_heading level2 row2\" >sqrt</th>\n",
       "      <th id=\"T_e3d15_level3_row2\" class=\"row_heading level3 row2\" >10</th>\n",
       "      <td id=\"T_e3d15_row2_col0\" class=\"data row2 col0\" >0.040701</td>\n",
       "    </tr>\n",
       "    <tr>\n",
       "      <th id=\"T_e3d15_level1_row3\" class=\"row_heading level1 row3\" rowspan=\"3\">1000</th>\n",
       "      <th id=\"T_e3d15_level2_row3\" class=\"row_heading level2 row3\" >20</th>\n",
       "      <th id=\"T_e3d15_level3_row3\" class=\"row_heading level3 row3\" >10</th>\n",
       "      <td id=\"T_e3d15_row3_col0\" class=\"data row3 col0\" >-0.013043</td>\n",
       "    </tr>\n",
       "    <tr>\n",
       "      <th id=\"T_e3d15_level2_row4\" class=\"row_heading level2 row4\" >40</th>\n",
       "      <th id=\"T_e3d15_level3_row4\" class=\"row_heading level3 row4\" >10</th>\n",
       "      <td id=\"T_e3d15_row4_col0\" class=\"data row4 col0\" >0.027995</td>\n",
       "    </tr>\n",
       "    <tr>\n",
       "      <th id=\"T_e3d15_level2_row5\" class=\"row_heading level2 row5\" >sqrt</th>\n",
       "      <th id=\"T_e3d15_level3_row5\" class=\"row_heading level3 row5\" >10</th>\n",
       "      <td id=\"T_e3d15_row5_col0\" class=\"data row5 col0\" >0.011991</td>\n",
       "    </tr>\n",
       "    <tr>\n",
       "      <th id=\"T_e3d15_level1_row6\" class=\"row_heading level1 row6\" rowspan=\"3\">10000</th>\n",
       "      <th id=\"T_e3d15_level2_row6\" class=\"row_heading level2 row6\" >20</th>\n",
       "      <th id=\"T_e3d15_level3_row6\" class=\"row_heading level3 row6\" >10</th>\n",
       "      <td id=\"T_e3d15_row6_col0\" class=\"data row6 col0\" >0.153195</td>\n",
       "    </tr>\n",
       "    <tr>\n",
       "      <th id=\"T_e3d15_level2_row7\" class=\"row_heading level2 row7\" >40</th>\n",
       "      <th id=\"T_e3d15_level3_row7\" class=\"row_heading level3 row7\" >10</th>\n",
       "      <td id=\"T_e3d15_row7_col0\" class=\"data row7 col0\" >0.244497</td>\n",
       "    </tr>\n",
       "    <tr>\n",
       "      <th id=\"T_e3d15_level2_row8\" class=\"row_heading level2 row8\" >sqrt</th>\n",
       "      <th id=\"T_e3d15_level3_row8\" class=\"row_heading level3 row8\" >10</th>\n",
       "      <td id=\"T_e3d15_row8_col0\" class=\"data row8 col0\" >0.031197</td>\n",
       "    </tr>\n",
       "  </tbody>\n",
       "</table>\n"
      ],
      "text/plain": [
       "<pandas.io.formats.style.Styler at 0x7f22e6f45760>"
      ]
     },
     "execution_count": 14,
     "metadata": {},
     "output_type": "execute_result"
    }
   ],
   "source": [
    "col_groupby = ['dataset','n_sample','max_feature','max_depth']\n",
    "dff = df2.groupby(col_groupby).mean()\n",
    "dff.style.background_gradient(cmap='RdBu_r', vmin=-0.4, vmax=0.4)"
   ]
  },
  {
   "cell_type": "code",
   "execution_count": null,
   "metadata": {},
   "outputs": [],
   "source": []
  }
 ],
 "metadata": {
  "interpreter": {
   "hash": "93e4dc7d4754bd0325258ba14c14aaf66418ce0b9905eb4643088c0b3d7c1548"
  },
  "kernelspec": {
   "display_name": "Python 3.8.13 ('of')",
   "language": "python",
   "name": "python3"
  },
  "language_info": {
   "codemirror_mode": {
    "name": "ipython",
    "version": 3
   },
   "file_extension": ".py",
   "mimetype": "text/x-python",
   "name": "python",
   "nbconvert_exporter": "python",
   "pygments_lexer": "ipython3",
   "version": "3.8.13"
  },
  "orig_nbformat": 4
 },
 "nbformat": 4,
 "nbformat_minor": 2
}
