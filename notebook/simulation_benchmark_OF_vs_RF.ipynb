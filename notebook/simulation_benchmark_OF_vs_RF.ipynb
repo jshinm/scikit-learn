{
 "cells": [
  {
   "cell_type": "markdown",
   "metadata": {},
   "source": [
    "# Comparing axis-aligned random forest versus oblique forest on simulation datasets\n",
    "The previous notebook conducted visual analysis using `Iris` dataset. Here we extend our analysis using custom simulation dataset: `sparse_parity`, from which OF demonstrates significant performance improvement over RF. Additionally, we prepared two toy datasets from scikit-learn dataset module, `make_hastie_10_2` and `make_gaussain_quantiles`, that also simulates high-dimentionality problems. OF also outperforms RF on these datasets but in lesser degree."
   ]
  },
  {
   "cell_type": "markdown",
   "metadata": {},
   "source": [
    "### Environment\n",
    "- Python 3.8.13\n",
    "- [Sklearn-Adam's dev branch](https://github.com/neurodata/scikit-learn/tree/obliquepr)"
   ]
  },
  {
   "cell_type": "code",
   "execution_count": 1,
   "metadata": {},
   "outputs": [
    {
     "name": "stdout",
     "output_type": "stream",
     "text": [
      "Python 3.8.13\n"
     ]
    }
   ],
   "source": [
    "!python --version"
   ]
  },
  {
   "cell_type": "markdown",
   "metadata": {},
   "source": [
    "### Import packages"
   ]
  },
  {
   "cell_type": "code",
   "execution_count": 2,
   "metadata": {},
   "outputs": [
    {
     "data": {
      "text/plain": [
       "'1.2.dev0'"
      ]
     },
     "execution_count": 2,
     "metadata": {},
     "output_type": "execute_result"
    }
   ],
   "source": [
    "import sklearn\n",
    "from sklearn.ensemble import RandomForestClassifier, ObliqueRandomForestClassifier\n",
    "from sklearn.metrics import accuracy_score\n",
    "from sklearn.datasets import make_hastie_10_2, make_gaussian_quantiles #imported in case of testing\n",
    "from sklearn.model_selection import RepeatedKFold, cross_validate\n",
    "\n",
    "from datetime import datetime\n",
    "from tqdm import tqdm\n",
    "import itertools\n",
    "import os\n",
    "import pickle\n",
    "\n",
    "import numpy as np\n",
    "import pandas as pd\n",
    "import seaborn as sns\n",
    "import matplotlib.pyplot as plt\n",
    "\n",
    "random_state = 123456\n",
    "\n",
    "sklearn.__version__"
   ]
  },
  {
   "cell_type": "code",
   "execution_count": 3,
   "metadata": {},
   "outputs": [
    {
     "data": {
      "text/plain": [
       "'2022-06-15'"
      ]
     },
     "execution_count": 3,
     "metadata": {},
     "output_type": "execute_result"
    }
   ],
   "source": [
    "today = str(datetime.now().date())\n",
    "today"
   ]
  },
  {
   "cell_type": "markdown",
   "metadata": {},
   "source": [
    "### Generating sparse parity simulation data\n",
    "Sparse parity is a variation of the noisy parity problem, which itself is a multivariate generalization of the noisy XOR problem. This is a binary classification task in high dimensions. The simulation will generate uniformly distributed `n_samples` number of sample points in the range of -1 and +1 with `p` number of features. `p*` is a parameter used to limit features that carry information about the class. The informative binary label is then defined as 1 if there are odd number of the sum of data `X` across first `p*` features that are greater than 0, otherwise the label is defined as 0. The simulation is further detailed in our [publication](https://epubs.siam.org/doi/epdf/10.1137/1.9781611974973.56)."
   ]
  },
  {
   "cell_type": "code",
   "execution_count": 4,
   "metadata": {},
   "outputs": [],
   "source": [
    "def sparse_parity(n_samples, p=20, p_star=3, random_seed=None, **kwarg):\n",
    " \n",
    "    if random_seed: \n",
    "        np.random.seed(random_seed)\n",
    "\n",
    "    X = np.random.uniform(-1, 1, (n_samples, p))\n",
    "    y = np.zeros(n_samples)\n",
    "\n",
    "    for i in range(0, n_samples):\n",
    "        y[i] = sum(X[i, :p_star] > 0) % 2;\n",
    "\n",
    "    return X, y"
   ]
  },
  {
   "cell_type": "code",
   "execution_count": 5,
   "metadata": {},
   "outputs": [],
   "source": [
    "def get_sample(func, n, m=None, o=None):\n",
    "    k = {}\n",
    "\n",
    "    np.random.seed(random_state)\n",
    "\n",
    "    if m: k['noise'] = m\n",
    "    if o: k['n_features'] = o\n",
    "\n",
    "    k['n_samples'] = n\n",
    "    k['random_state'] = random_state # random_state for classifiers\n",
    "\n",
    "    X, y = func(**k)\n",
    "\n",
    "    return X, y\n",
    "\n",
    "def get_scores(X, y, max_features, max_depth, random_state, n_cv, n_repeats):\n",
    "\n",
    "    clfs = [\n",
    "        RandomForestClassifier(max_features=max_features, max_depth=max_depth, random_state=random_state),\n",
    "        ObliqueRandomForestClassifier(max_features=max_features, max_depth=max_depth, random_state=random_state)\n",
    "    ]\n",
    "\n",
    "    tmp = []\n",
    "\n",
    "    for i, clf in enumerate(clfs):\n",
    "\n",
    "        # if i == 0 and isinstance(max_features, int):\n",
    "            # if max_features > X.shape[1]:\n",
    "            #     tmp.append(np.zeros(n_cv * n_repeats))\n",
    "            #     continue\n",
    "\n",
    "        cv = RepeatedKFold(n_splits=n_cv, n_repeats=n_repeats, random_state=random_state)\n",
    "        test_score = cross_validate(estimator=clf, X=X, y=y, cv=cv, scoring='accuracy')\n",
    "        \n",
    "        tmp.append(\n",
    "            test_score['test_score']\n",
    "        )\n",
    "\n",
    "    # print(f'max_feature: {max_features} | max_depth: {max_depth}')\n",
    "\n",
    "    return tmp"
   ]
  },
  {
   "cell_type": "code",
   "execution_count": 6,
   "metadata": {},
   "outputs": [
    {
     "data": {
      "text/plain": [
       "((500, 2), (500,), (5000, 3), (5000,))"
      ]
     },
     "execution_count": 6,
     "metadata": {},
     "output_type": "execute_result"
    }
   ],
   "source": [
    "X1,y1 = sparse_parity(n_samples=500,p=2,p_star=2)\n",
    "X2,y2 = sparse_parity(n_samples=5000,p=3,p_star=3)\n",
    "X1.shape, y1.shape, X2.shape, y2.shape"
   ]
  },
  {
   "cell_type": "markdown",
   "metadata": {},
   "source": [
    "### Visualization of sparse parity at low dimension\n",
    "At `p=2`, sparse partiy becomes noisy XOR problem (left). Adding one more dimension makes the 3D XOR problem (right)."
   ]
  },
  {
   "cell_type": "code",
   "execution_count": 7,
   "metadata": {},
   "outputs": [
    {
     "data": {
      "text/plain": [
       "Text(0.5, 0.92, 'Sparse Parity at p=3')"
      ]
     },
     "execution_count": 7,
     "metadata": {},
     "output_type": "execute_result"
    },
    {
     "data": {
      "image/png": "[encoded data removed]",
      "text/plain": [
       "<Figure size 864x432 with 2 Axes>"
      ]
     },
     "metadata": {
      "needs_background": "light"
     },
     "output_type": "display_data"
    }
   ],
   "source": [
    "fig = plt.figure(figsize=(12,6))\n",
    "ax = fig.add_subplot(121)\n",
    "ax.scatter(X1[:,0],X1[:,1], c=y1, cmap='PRGn')\n",
    "ax.set_title('Sparse Parity at p=2')\n",
    "\n",
    "ax = fig.add_subplot(122, projection='3d')\n",
    "ax.scatter(X2[:,0],X2[:,1],X2[:,2], c=y2, cmap='PRGn')\n",
    "ax.set_title('Sparse Parity at p=3')"
   ]
  },
  {
   "cell_type": "code",
   "execution_count": 8,
   "metadata": {},
   "outputs": [],
   "source": [
    "def run_experiment(n_repeat, n_cv, random_state):\n",
    "    n_samples = [100, 1000, 10000]\n",
    "    accs = []\n",
    "    \n",
    "    clf_kwarg = {\n",
    "        'max_features': None,\n",
    "        'max_depth': 10,\n",
    "        'random_state': random_state,\n",
    "        'n_repeats': n_repeat,\n",
    "        'n_cv': n_cv\n",
    "    }\n",
    "\n",
    "    for n_sample in tqdm(n_samples):\n",
    "        data_args = [\n",
    "            # name of dataset, function, n_sample, noise, n_features\n",
    "            ['sparse_parity', sparse_parity, n_sample],\n",
    "\n",
    "            #sklearn toy datasets can also be test by decommenting these lines\n",
    "            # ['make_gaussian_quantiles', make_gaussian_quantiles, n_sample, None, 5], \n",
    "            # ['make_hastie_10_2', make_hastie_10_2, n_sample]\n",
    "        ]\n",
    "\n",
    "        for arg in data_args:\n",
    "            X, y = get_sample(*arg[1:])\n",
    "            \n",
    "            for max_feature in ['sqrt', X.shape[1], X.shape[1]*2]: #max_features\n",
    "                clf_kwarg['max_features'] = max_feature\n",
    "\n",
    "                acc = get_scores(X, y, **clf_kwarg)\n",
    "                accs.append([arg[0], n_sample, n_repeat, max_feature, clf_kwarg['max_depth'], random_state] + acc)\n",
    "\n",
    "    df = pd.DataFrame(accs, columns=['dataset', 'n_sample', 'n_repeat', 'max_feature', 'max_depth', 'random_state', 'RF', 'OF'])\n",
    "    df['delta'] = df.apply(lambda x: x.OF-x.RF, axis=1)\n",
    "\n",
    "    # with open('dat/simulation_notebook_rf_vs_of.pkl', 'wb') as f:\n",
    "    #     pickle.dump(df, f, protocol=pickle.HIGHEST_PROTOCOL)\n",
    "\n",
    "    return df"
   ]
  },
  {
   "cell_type": "code",
   "execution_count": 9,
   "metadata": {},
   "outputs": [
    {
     "name": "stderr",
     "output_type": "stream",
     "text": [
      "100%|██████████| 3/3 [01:27<00:00, 29.12s/it]\n"
     ]
    }
   ],
   "source": [
    "df = run_experiment(n_repeat=1, n_cv=3, random_state=random_state)"
   ]
  },
  {
   "cell_type": "code",
   "execution_count": 10,
   "metadata": {},
   "outputs": [
    {
     "data": {
      "text/html": [
       "<div>\n",
       "<style scoped>\n",
       "    .dataframe tbody tr th:only-of-type {\n",
       "        vertical-align: middle;\n",
       "    }\n",
       "\n",
       "    .dataframe tbody tr th {\n",
       "        vertical-align: top;\n",
       "    }\n",
       "\n",
       "    .dataframe thead th {\n",
       "        text-align: right;\n",
       "    }\n",
       "</style>\n",
       "<table border=\"1\" class=\"dataframe\">\n",
       "  <thead>\n",
       "    <tr style=\"text-align: right;\">\n",
       "      <th></th>\n",
       "      <th>dataset</th>\n",
       "      <th>n_sample</th>\n",
       "      <th>max_feature</th>\n",
       "      <th>max_depth</th>\n",
       "      <th>RF</th>\n",
       "      <th>OF</th>\n",
       "      <th>delta</th>\n",
       "    </tr>\n",
       "  </thead>\n",
       "  <tbody>\n",
       "    <tr>\n",
       "      <th>0</th>\n",
       "      <td>sparse_parity</td>\n",
       "      <td>100</td>\n",
       "      <td>sqrt</td>\n",
       "      <td>10</td>\n",
       "      <td>0.441176</td>\n",
       "      <td>0.411765</td>\n",
       "      <td>-0.029412</td>\n",
       "    </tr>\n",
       "    <tr>\n",
       "      <th>0</th>\n",
       "      <td>sparse_parity</td>\n",
       "      <td>100</td>\n",
       "      <td>sqrt</td>\n",
       "      <td>10</td>\n",
       "      <td>0.363636</td>\n",
       "      <td>0.424242</td>\n",
       "      <td>0.060606</td>\n",
       "    </tr>\n",
       "    <tr>\n",
       "      <th>0</th>\n",
       "      <td>sparse_parity</td>\n",
       "      <td>100</td>\n",
       "      <td>sqrt</td>\n",
       "      <td>10</td>\n",
       "      <td>0.333333</td>\n",
       "      <td>0.424242</td>\n",
       "      <td>0.090909</td>\n",
       "    </tr>\n",
       "    <tr>\n",
       "      <th>1</th>\n",
       "      <td>sparse_parity</td>\n",
       "      <td>100</td>\n",
       "      <td>20</td>\n",
       "      <td>10</td>\n",
       "      <td>0.323529</td>\n",
       "      <td>0.294118</td>\n",
       "      <td>-0.029412</td>\n",
       "    </tr>\n",
       "    <tr>\n",
       "      <th>1</th>\n",
       "      <td>sparse_parity</td>\n",
       "      <td>100</td>\n",
       "      <td>20</td>\n",
       "      <td>10</td>\n",
       "      <td>0.424242</td>\n",
       "      <td>0.363636</td>\n",
       "      <td>-0.060606</td>\n",
       "    </tr>\n",
       "  </tbody>\n",
       "</table>\n",
       "</div>"
      ],
      "text/plain": [
       "         dataset  n_sample max_feature  max_depth        RF        OF  \\\n",
       "0  sparse_parity       100        sqrt         10  0.441176  0.411765   \n",
       "0  sparse_parity       100        sqrt         10  0.363636  0.424242   \n",
       "0  sparse_parity       100        sqrt         10  0.333333  0.424242   \n",
       "1  sparse_parity       100          20         10  0.323529  0.294118   \n",
       "1  sparse_parity       100          20         10  0.424242  0.363636   \n",
       "\n",
       "      delta  \n",
       "0 -0.029412  \n",
       "0  0.060606  \n",
       "0  0.090909  \n",
       "1 -0.029412  \n",
       "1 -0.060606  "
      ]
     },
     "execution_count": 10,
     "metadata": {},
     "output_type": "execute_result"
    }
   ],
   "source": [
    "df2 = df.copy()\n",
    "df2['max_depth'] = df2.max_depth.replace(np.nan, 'inf')\n",
    "df2 = df2.explode(['RF','OF','delta'])[['dataset','n_sample','max_feature','max_depth','RF','OF','delta']]\n",
    "df2.head()"
   ]
  },
  {
   "cell_type": "code",
   "execution_count": 11,
   "metadata": {},
   "outputs": [],
   "source": [
    "dset = df2.dataset.unique()\n",
    "max_depth = 10\n",
    "\n",
    "# for i, d in enumerate(dset):\n",
    "#     df_new = df2.query(f'dataset == \"{d}\" and max_depth == {max_depth}')\n",
    "#     n_feature = df_new[~(df_new.max_feature == 'sqrt')].max_feature.min() #minimum numeric max_feature\n",
    "\n",
    "#     df_mf1 = df_new.query(f'max_feature == {n_feature}') #RF max_feature to be compared with OF 2x, 3x max_feature\n",
    "\n",
    "#     for ns in df_mf1.n_sample.unique(): #n_sample\n",
    "#         for mf_not_1 in df_new.max_feature.unique():\n",
    "#             if mf_not_1 in [n_feature, 'sqrt']:\n",
    "#                 continue\n",
    "\n",
    "#             indexing = (df2.dataset==d) & (df2.max_depth==max_depth) & (df2.n_sample==ns) & (df2.max_feature==mf_not_1)\n",
    "#             df2.loc[indexing, ['RF']] = df_mf1.query(f'n_sample == {ns}').RF.tolist()\n",
    "\n",
    "df2['delta'] = df2.apply(lambda x: x.OF-x.RF, axis=1)"
   ]
  },
  {
   "cell_type": "code",
   "execution_count": 12,
   "metadata": {},
   "outputs": [
    {
     "data": {
      "text/html": [
       "<div>\n",
       "<style scoped>\n",
       "    .dataframe tbody tr th:only-of-type {\n",
       "        vertical-align: middle;\n",
       "    }\n",
       "\n",
       "    .dataframe tbody tr th {\n",
       "        vertical-align: top;\n",
       "    }\n",
       "\n",
       "    .dataframe thead th {\n",
       "        text-align: right;\n",
       "    }\n",
       "</style>\n",
       "<table border=\"1\" class=\"dataframe\">\n",
       "  <thead>\n",
       "    <tr style=\"text-align: right;\">\n",
       "      <th></th>\n",
       "      <th>dataset</th>\n",
       "      <th>n_sample</th>\n",
       "      <th>max_feature</th>\n",
       "      <th>max_depth</th>\n",
       "      <th>RF</th>\n",
       "      <th>OF</th>\n",
       "      <th>delta</th>\n",
       "    </tr>\n",
       "  </thead>\n",
       "  <tbody>\n",
       "    <tr>\n",
       "      <th>0</th>\n",
       "      <td>sparse_parity</td>\n",
       "      <td>100</td>\n",
       "      <td>sqrt</td>\n",
       "      <td>10</td>\n",
       "      <td>0.441176</td>\n",
       "      <td>0.411765</td>\n",
       "      <td>-0.029412</td>\n",
       "    </tr>\n",
       "    <tr>\n",
       "      <th>0</th>\n",
       "      <td>sparse_parity</td>\n",
       "      <td>100</td>\n",
       "      <td>sqrt</td>\n",
       "      <td>10</td>\n",
       "      <td>0.363636</td>\n",
       "      <td>0.424242</td>\n",
       "      <td>0.060606</td>\n",
       "    </tr>\n",
       "    <tr>\n",
       "      <th>0</th>\n",
       "      <td>sparse_parity</td>\n",
       "      <td>100</td>\n",
       "      <td>sqrt</td>\n",
       "      <td>10</td>\n",
       "      <td>0.333333</td>\n",
       "      <td>0.424242</td>\n",
       "      <td>0.090909</td>\n",
       "    </tr>\n",
       "    <tr>\n",
       "      <th>1</th>\n",
       "      <td>sparse_parity</td>\n",
       "      <td>100</td>\n",
       "      <td>20</td>\n",
       "      <td>10</td>\n",
       "      <td>0.323529</td>\n",
       "      <td>0.294118</td>\n",
       "      <td>-0.029412</td>\n",
       "    </tr>\n",
       "    <tr>\n",
       "      <th>1</th>\n",
       "      <td>sparse_parity</td>\n",
       "      <td>100</td>\n",
       "      <td>20</td>\n",
       "      <td>10</td>\n",
       "      <td>0.424242</td>\n",
       "      <td>0.363636</td>\n",
       "      <td>-0.060606</td>\n",
       "    </tr>\n",
       "  </tbody>\n",
       "</table>\n",
       "</div>"
      ],
      "text/plain": [
       "         dataset  n_sample max_feature  max_depth        RF        OF  \\\n",
       "0  sparse_parity       100        sqrt         10  0.441176  0.411765   \n",
       "0  sparse_parity       100        sqrt         10  0.363636  0.424242   \n",
       "0  sparse_parity       100        sqrt         10  0.333333  0.424242   \n",
       "1  sparse_parity       100          20         10  0.323529  0.294118   \n",
       "1  sparse_parity       100          20         10  0.424242  0.363636   \n",
       "\n",
       "      delta  \n",
       "0 -0.029412  \n",
       "0  0.060606  \n",
       "0  0.090909  \n",
       "1 -0.029412  \n",
       "1 -0.060606  "
      ]
     },
     "execution_count": 12,
     "metadata": {},
     "output_type": "execute_result"
    }
   ],
   "source": [
    "df2.head()"
   ]
  },
  {
   "cell_type": "markdown",
   "metadata": {},
   "source": [
    "### Base Model Result\n",
    "Three settings of the `max_features` are compared and their corresponding delta accuracy between OF and RF is shown as a bar plot. After a meaningful number of data is simulated (i.e., `n_samples` > 10^4), OF starts to outperform RF significantly across all `max_features` settings especially when `max_feature` is greater than or equal to `n_features`.\n",
    "\n",
    "The most likely reason for this is because OF should be more robust to high-dimensional noise. Moreover, due to the ability to sample more variable splits (i.e. `max_features` can be greater than `n_features` compared to RF), then we expect to see an increase in performance when we are willing to use computational power to sample more splits."
   ]
  },
  {
   "cell_type": "code",
   "execution_count": 13,
   "metadata": {},
   "outputs": [
    {
     "data": {
      "image/png": "[encoded data removed]",
      "text/plain": [
       "<Figure size 1296x432 with 3 Axes>"
      ]
     },
     "metadata": {
      "needs_background": "light"
     },
     "output_type": "display_data"
    }
   ],
   "source": [
    "dset = df2.dataset.unique() #get the list of dataset loaded\n",
    "\n",
    "ncols = 3\n",
    "\n",
    "fig, ax = plt.subplots(dset.shape[0], ncols, figsize=(6*ncols, 6*dset.shape[0]))\n",
    "\n",
    "for i, d in enumerate(dset):\n",
    "    df_new = df2.query(f'dataset == \"{d}\" and max_depth == {max_depth}')\n",
    "\n",
    "    for idx, y_dat in enumerate(['delta', 'RF', 'OF']):\n",
    "        sns.boxplot(data=df_new, x='n_sample', y=y_dat, hue='max_feature', ax=ax[idx])\n",
    "\n",
    "    ax[0].set_title(r'$\\Delta$ Accuracy (OF - RF)', fontsize=20)\n",
    "    ax[0].axhline(y=0, ls='--', color='black', alpha=0.3)\n",
    "    ax[1].set_title(r'RF', fontsize=20)\n",
    "    ax[2].set_title(r'OF', fontsize=20)\n",
    "\n",
    "    for nc in range(ncols):\n",
    "        ax[nc].set_ylabel('')\n",
    "        if nc > 0:\n",
    "            ax[nc].set_ylim(0.28,1.0)"
   ]
  },
  {
   "cell_type": "markdown",
   "metadata": {},
   "source": [
    "### Optimized Model Comparison via Grid Searching\n",
    "The following is the optimized result from grid searching best paramters of two features: `max_features`, `n_estimators`"
   ]
  },
  {
   "cell_type": "code",
   "execution_count": 14,
   "metadata": {},
   "outputs": [],
   "source": [
    "from sklearn.model_selection import RandomizedSearchCV\n",
    "\n",
    "params = {\n",
    "    'max_features': ['sqrt', None, 40],\n",
    "    'n_estimators': [1,5,10,20],\n",
    "    'max_depth': [1,2,5,10,None]\n",
    "}\n",
    "\n",
    "df_cv = pd.DataFrame()\n",
    "\n",
    "feat_cols = list(params.keys())+['mean_test_score','clf']\n",
    "\n",
    "clfs = [\n",
    "    RandomForestClassifier(random_state=random_state),\n",
    "    ObliqueRandomForestClassifier(random_state=random_state)\n",
    "]\n",
    "\n",
    "X, y = get_sample(sparse_parity, 10000)\n",
    "\n",
    "for clf, clf_lab in zip(clfs, ['RF', 'OF']):\n",
    "    search = RandomizedSearchCV(estimator=clf, param_distributions=params, n_iter=20, random_state=random_state)\n",
    "    search.fit(X, y)\n",
    "\n",
    "    df_tmp = pd.DataFrame(search.cv_results_)\n",
    "    df_tmp.columns = [i.replace('param_','') for i in df_tmp.columns]\n",
    "    df_tmp['clf'] = clf_lab\n",
    "    df_tmp.fillna('None', inplace=True)\n",
    "    df_tmp['mean_test_score'] = df_tmp.apply(lambda x: round(x['mean_test_score'], 3), axis=1)\n",
    "    df_cv = pd.concat([df_cv, df_tmp])"
   ]
  },
  {
   "cell_type": "code",
   "execution_count": 15,
   "metadata": {},
   "outputs": [
    {
     "data": {
      "text/html": [
       "<div>\n",
       "<style scoped>\n",
       "    .dataframe tbody tr th:only-of-type {\n",
       "        vertical-align: middle;\n",
       "    }\n",
       "\n",
       "    .dataframe tbody tr th {\n",
       "        vertical-align: top;\n",
       "    }\n",
       "\n",
       "    .dataframe thead th {\n",
       "        text-align: right;\n",
       "    }\n",
       "</style>\n",
       "<table border=\"1\" class=\"dataframe\">\n",
       "  <thead>\n",
       "    <tr style=\"text-align: right;\">\n",
       "      <th></th>\n",
       "      <th>max_features</th>\n",
       "      <th>n_estimators</th>\n",
       "      <th>max_depth</th>\n",
       "      <th>mean_test_score</th>\n",
       "      <th>clf</th>\n",
       "    </tr>\n",
       "  </thead>\n",
       "  <tbody>\n",
       "    <tr>\n",
       "      <th>0</th>\n",
       "      <td>40</td>\n",
       "      <td>20</td>\n",
       "      <td>None</td>\n",
       "      <td>0.756</td>\n",
       "      <td>RF</td>\n",
       "    </tr>\n",
       "    <tr>\n",
       "      <th>1</th>\n",
       "      <td>40</td>\n",
       "      <td>10</td>\n",
       "      <td>10</td>\n",
       "      <td>0.721</td>\n",
       "      <td>RF</td>\n",
       "    </tr>\n",
       "    <tr>\n",
       "      <th>2</th>\n",
       "      <td>40</td>\n",
       "      <td>5</td>\n",
       "      <td>10</td>\n",
       "      <td>0.710</td>\n",
       "      <td>RF</td>\n",
       "    </tr>\n",
       "    <tr>\n",
       "      <th>3</th>\n",
       "      <td>None</td>\n",
       "      <td>5</td>\n",
       "      <td>10</td>\n",
       "      <td>0.710</td>\n",
       "      <td>RF</td>\n",
       "    </tr>\n",
       "    <tr>\n",
       "      <th>4</th>\n",
       "      <td>40</td>\n",
       "      <td>10</td>\n",
       "      <td>None</td>\n",
       "      <td>0.709</td>\n",
       "      <td>RF</td>\n",
       "    </tr>\n",
       "  </tbody>\n",
       "</table>\n",
       "</div>"
      ],
      "text/plain": [
       "  max_features  n_estimators max_depth  mean_test_score clf\n",
       "0           40            20      None            0.756  RF\n",
       "1           40            10        10            0.721  RF\n",
       "2           40             5        10            0.710  RF\n",
       "3         None             5        10            0.710  RF\n",
       "4           40            10      None            0.709  RF"
      ]
     },
     "execution_count": 15,
     "metadata": {},
     "output_type": "execute_result"
    }
   ],
   "source": [
    "df_cv_rf = df_cv[feat_cols].query('clf == \"RF\"').sort_values(by='mean_test_score', ascending=False).reset_index(drop=True)\n",
    "df_cv_rf.head()"
   ]
  },
  {
   "cell_type": "code",
   "execution_count": 16,
   "metadata": {},
   "outputs": [
    {
     "data": {
      "text/html": [
       "<div>\n",
       "<style scoped>\n",
       "    .dataframe tbody tr th:only-of-type {\n",
       "        vertical-align: middle;\n",
       "    }\n",
       "\n",
       "    .dataframe tbody tr th {\n",
       "        vertical-align: top;\n",
       "    }\n",
       "\n",
       "    .dataframe thead th {\n",
       "        text-align: right;\n",
       "    }\n",
       "</style>\n",
       "<table border=\"1\" class=\"dataframe\">\n",
       "  <thead>\n",
       "    <tr style=\"text-align: right;\">\n",
       "      <th></th>\n",
       "      <th>max_features</th>\n",
       "      <th>n_estimators</th>\n",
       "      <th>max_depth</th>\n",
       "      <th>mean_test_score</th>\n",
       "      <th>clf</th>\n",
       "    </tr>\n",
       "  </thead>\n",
       "  <tbody>\n",
       "    <tr>\n",
       "      <th>0</th>\n",
       "      <td>40</td>\n",
       "      <td>20</td>\n",
       "      <td>None</td>\n",
       "      <td>0.954</td>\n",
       "      <td>OF</td>\n",
       "    </tr>\n",
       "    <tr>\n",
       "      <th>1</th>\n",
       "      <td>40</td>\n",
       "      <td>10</td>\n",
       "      <td>None</td>\n",
       "      <td>0.917</td>\n",
       "      <td>OF</td>\n",
       "    </tr>\n",
       "    <tr>\n",
       "      <th>2</th>\n",
       "      <td>40</td>\n",
       "      <td>10</td>\n",
       "      <td>10</td>\n",
       "      <td>0.850</td>\n",
       "      <td>OF</td>\n",
       "    </tr>\n",
       "    <tr>\n",
       "      <th>3</th>\n",
       "      <td>40</td>\n",
       "      <td>5</td>\n",
       "      <td>10</td>\n",
       "      <td>0.763</td>\n",
       "      <td>OF</td>\n",
       "    </tr>\n",
       "    <tr>\n",
       "      <th>4</th>\n",
       "      <td>40</td>\n",
       "      <td>20</td>\n",
       "      <td>5</td>\n",
       "      <td>0.682</td>\n",
       "      <td>OF</td>\n",
       "    </tr>\n",
       "  </tbody>\n",
       "</table>\n",
       "</div>"
      ],
      "text/plain": [
       "  max_features  n_estimators max_depth  mean_test_score clf\n",
       "0           40            20      None            0.954  OF\n",
       "1           40            10      None            0.917  OF\n",
       "2           40            10        10            0.850  OF\n",
       "3           40             5        10            0.763  OF\n",
       "4           40            20         5            0.682  OF"
      ]
     },
     "execution_count": 16,
     "metadata": {},
     "output_type": "execute_result"
    }
   ],
   "source": [
    "df_cv_of = df_cv[feat_cols].query('clf == \"OF\"').sort_values(by='mean_test_score', ascending=False).reset_index(drop=True)\n",
    "df_cv_of.head()"
   ]
  },
  {
   "cell_type": "markdown",
   "metadata": {},
   "source": [
    "### Visualization of parameterized grid search result"
   ]
  },
  {
   "cell_type": "code",
   "execution_count": 17,
   "metadata": {},
   "outputs": [
    {
     "data": {
      "application/vnd.plotly.v1+json": {
       "config": {
        "plotlyServerURL": "https://plot.ly"
       },
       "data": [
        {
         "dimensions": [
          {
           "label": "max_features",
           "values": [
            40,
            40,
            40,
            "None",
            40,
            "sqrt",
            "None",
            40,
            "None",
            "sqrt",
            "sqrt",
            "sqrt",
            40,
            40,
            "sqrt",
            "None",
            "sqrt",
            "None",
            "sqrt",
            "sqrt"
           ]
          },
          {
           "label": "n_estimators",
           "values": [
            20,
            10,
            5,
            5,
            10,
            20,
            20,
            20,
            5,
            20,
            5,
            1,
            5,
            5,
            10,
            1,
            1,
            20,
            1,
            20
           ]
          },
          {
           "label": "max_depth",
           "values": [
            "None",
            10,
            10,
            10,
            "None",
            "None",
            5,
            5,
            5,
            10,
            5,
            5,
            1,
            2,
            5,
            5,
            1,
            2,
            "None",
            2
           ]
          },
          {
           "label": "mean_test_score",
           "values": [
            0.756,
            0.721,
            0.71,
            0.71,
            0.709,
            0.637,
            0.603,
            0.603,
            0.597,
            0.576,
            0.512,
            0.51,
            0.51,
            0.509,
            0.508,
            0.506,
            0.504,
            0.504,
            0.502,
            0.502
           ]
          }
         ],
         "domain": {
          "x": [
           0,
           1
          ],
          "y": [
           0,
           1
          ]
         },
         "line": {
          "color": [
           0.756,
           0.721,
           0.71,
           0.71,
           0.709,
           0.637,
           0.603,
           0.603,
           0.597,
           0.576,
           0.512,
           0.51,
           0.51,
           0.509,
           0.508,
           0.506,
           0.504,
           0.504,
           0.502,
           0.502
          ],
          "coloraxis": "coloraxis"
         },
         "name": "",
         "type": "parcats"
        }
       ],
       "layout": {
        "coloraxis": {
         "colorbar": {
          "title": {
           "text": "mean_test_score"
          }
         },
         "colorscale": [
          [
           0,
           "#0d0887"
          ],
          [
           0.1111111111111111,
           "#46039f"
          ],
          [
           0.2222222222222222,
           "#7201a8"
          ],
          [
           0.3333333333333333,
           "#9c179e"
          ],
          [
           0.4444444444444444,
           "#bd3786"
          ],
          [
           0.5555555555555556,
           "#d8576b"
          ],
          [
           0.6666666666666666,
           "#ed7953"
          ],
          [
           0.7777777777777778,
           "#fb9f3a"
          ],
          [
           0.8888888888888888,
           "#fdca26"
          ],
          [
           1,
           "#f0f921"
          ]
         ]
        },
        "legend": {
         "tracegroupgap": 0
        },
        "margin": {
         "t": 60
        },
        "template": {
         "data": {
          "bar": [
           {
            "error_x": {
             "color": "#2a3f5f"
            },
            "error_y": {
             "color": "#2a3f5f"
            },
            "marker": {
             "line": {
              "color": "#E5ECF6",
              "width": 0.5
             },
             "pattern": {
              "fillmode": "overlay",
              "size": 10,
              "solidity": 0.2
             }
            },
            "type": "bar"
           }
          ],
          "barpolar": [
           {
            "marker": {
             "line": {
              "color": "#E5ECF6",
              "width": 0.5
             },
             "pattern": {
              "fillmode": "overlay",
              "size": 10,
              "solidity": 0.2
             }
            },
            "type": "barpolar"
           }
          ],
          "carpet": [
           {
            "aaxis": {
             "endlinecolor": "#2a3f5f",
             "gridcolor": "white",
             "linecolor": "white",
             "minorgridcolor": "white",
             "startlinecolor": "#2a3f5f"
            },
            "baxis": {
             "endlinecolor": "#2a3f5f",
             "gridcolor": "white",
             "linecolor": "white",
             "minorgridcolor": "white",
             "startlinecolor": "#2a3f5f"
            },
            "type": "carpet"
           }
          ],
          "choropleth": [
           {
            "colorbar": {
             "outlinewidth": 0,
             "ticks": ""
            },
            "type": "choropleth"
           }
          ],
          "contour": [
           {
            "colorbar": {
             "outlinewidth": 0,
             "ticks": ""
            },
            "colorscale": [
             [
              0,
              "#0d0887"
             ],
             [
              0.1111111111111111,
              "#46039f"
             ],
             [
              0.2222222222222222,
              "#7201a8"
             ],
             [
              0.3333333333333333,
              "#9c179e"
             ],
             [
              0.4444444444444444,
              "#bd3786"
             ],
             [
              0.5555555555555556,
              "#d8576b"
             ],
             [
              0.6666666666666666,
              "#ed7953"
             ],
             [
              0.7777777777777778,
              "#fb9f3a"
             ],
             [
              0.8888888888888888,
              "#fdca26"
             ],
             [
              1,
              "#f0f921"
             ]
            ],
            "type": "contour"
           }
          ],
          "contourcarpet": [
           {
            "colorbar": {
             "outlinewidth": 0,
             "ticks": ""
            },
            "type": "contourcarpet"
           }
          ],
          "heatmap": [
           {
            "colorbar": {
             "outlinewidth": 0,
             "ticks": ""
            },
            "colorscale": [
             [
              0,
              "#0d0887"
             ],
             [
              0.1111111111111111,
              "#46039f"
             ],
             [
              0.2222222222222222,
              "#7201a8"
             ],
             [
              0.3333333333333333,
              "#9c179e"
             ],
             [
              0.4444444444444444,
              "#bd3786"
             ],
             [
              0.5555555555555556,
              "#d8576b"
             ],
             [
              0.6666666666666666,
              "#ed7953"
             ],
             [
              0.7777777777777778,
              "#fb9f3a"
             ],
             [
              0.8888888888888888,
              "#fdca26"
             ],
             [
              1,
              "#f0f921"
             ]
            ],
            "type": "heatmap"
           }
          ],
          "heatmapgl": [
           {
            "colorbar": {
             "outlinewidth": 0,
             "ticks": ""
            },
            "colorscale": [
             [
              0,
              "#0d0887"
             ],
             [
              0.1111111111111111,
              "#46039f"
             ],
             [
              0.2222222222222222,
              "#7201a8"
             ],
             [
              0.3333333333333333,
              "#9c179e"
             ],
             [
              0.4444444444444444,
              "#bd3786"
             ],
             [
              0.5555555555555556,
              "#d8576b"
             ],
             [
              0.6666666666666666,
              "#ed7953"
             ],
             [
              0.7777777777777778,
              "#fb9f3a"
             ],
             [
              0.8888888888888888,
              "#fdca26"
             ],
             [
              1,
              "#f0f921"
             ]
            ],
            "type": "heatmapgl"
           }
          ],
          "histogram": [
           {
            "marker": {
             "pattern": {
              "fillmode": "overlay",
              "size": 10,
              "solidity": 0.2
             }
            },
            "type": "histogram"
           }
          ],
          "histogram2d": [
           {
            "colorbar": {
             "outlinewidth": 0,
             "ticks": ""
            },
            "colorscale": [
             [
              0,
              "#0d0887"
             ],
             [
              0.1111111111111111,
              "#46039f"
             ],
             [
              0.2222222222222222,
              "#7201a8"
             ],
             [
              0.3333333333333333,
              "#9c179e"
             ],
             [
              0.4444444444444444,
              "#bd3786"
             ],
             [
              0.5555555555555556,
              "#d8576b"
             ],
             [
              0.6666666666666666,
              "#ed7953"
             ],
             [
              0.7777777777777778,
              "#fb9f3a"
             ],
             [
              0.8888888888888888,
              "#fdca26"
             ],
             [
              1,
              "#f0f921"
             ]
            ],
            "type": "histogram2d"
           }
          ],
          "histogram2dcontour": [
           {
            "colorbar": {
             "outlinewidth": 0,
             "ticks": ""
            },
            "colorscale": [
             [
              0,
              "#0d0887"
             ],
             [
              0.1111111111111111,
              "#46039f"
             ],
             [
              0.2222222222222222,
              "#7201a8"
             ],
             [
              0.3333333333333333,
              "#9c179e"
             ],
             [
              0.4444444444444444,
              "#bd3786"
             ],
             [
              0.5555555555555556,
              "#d8576b"
             ],
             [
              0.6666666666666666,
              "#ed7953"
             ],
             [
              0.7777777777777778,
              "#fb9f3a"
             ],
             [
              0.8888888888888888,
              "#fdca26"
             ],
             [
              1,
              "#f0f921"
             ]
            ],
            "type": "histogram2dcontour"
           }
          ],
          "mesh3d": [
           {
            "colorbar": {
             "outlinewidth": 0,
             "ticks": ""
            },
            "type": "mesh3d"
           }
          ],
          "parcoords": [
           {
            "line": {
             "colorbar": {
              "outlinewidth": 0,
              "ticks": ""
             }
            },
            "type": "parcoords"
           }
          ],
          "pie": [
           {
            "automargin": true,
            "type": "pie"
           }
          ],
          "scatter": [
           {
            "fillpattern": {
             "fillmode": "overlay",
             "size": 10,
             "solidity": 0.2
            },
            "type": "scatter"
           }
          ],
          "scatter3d": [
           {
            "line": {
             "colorbar": {
              "outlinewidth": 0,
              "ticks": ""
             }
            },
            "marker": {
             "colorbar": {
              "outlinewidth": 0,
              "ticks": ""
             }
            },
            "type": "scatter3d"
           }
          ],
          "scattercarpet": [
           {
            "marker": {
             "colorbar": {
              "outlinewidth": 0,
              "ticks": ""
             }
            },
            "type": "scattercarpet"
           }
          ],
          "scattergeo": [
           {
            "marker": {
             "colorbar": {
              "outlinewidth": 0,
              "ticks": ""
             }
            },
            "type": "scattergeo"
           }
          ],
          "scattergl": [
           {
            "marker": {
             "colorbar": {
              "outlinewidth": 0,
              "ticks": ""
             }
            },
            "type": "scattergl"
           }
          ],
          "scattermapbox": [
           {
            "marker": {
             "colorbar": {
              "outlinewidth": 0,
              "ticks": ""
             }
            },
            "type": "scattermapbox"
           }
          ],
          "scatterpolar": [
           {
            "marker": {
             "colorbar": {
              "outlinewidth": 0,
              "ticks": ""
             }
            },
            "type": "scatterpolar"
           }
          ],
          "scatterpolargl": [
           {
            "marker": {
             "colorbar": {
              "outlinewidth": 0,
              "ticks": ""
             }
            },
            "type": "scatterpolargl"
           }
          ],
          "scatterternary": [
           {
            "marker": {
             "colorbar": {
              "outlinewidth": 0,
              "ticks": ""
             }
            },
            "type": "scatterternary"
           }
          ],
          "surface": [
           {
            "colorbar": {
             "outlinewidth": 0,
             "ticks": ""
            },
            "colorscale": [
             [
              0,
              "#0d0887"
             ],
             [
              0.1111111111111111,
              "#46039f"
             ],
             [
              0.2222222222222222,
              "#7201a8"
             ],
             [
              0.3333333333333333,
              "#9c179e"
             ],
             [
              0.4444444444444444,
              "#bd3786"
             ],
             [
              0.5555555555555556,
              "#d8576b"
             ],
             [
              0.6666666666666666,
              "#ed7953"
             ],
             [
              0.7777777777777778,
              "#fb9f3a"
             ],
             [
              0.8888888888888888,
              "#fdca26"
             ],
             [
              1,
              "#f0f921"
             ]
            ],
            "type": "surface"
           }
          ],
          "table": [
           {
            "cells": {
             "fill": {
              "color": "#EBF0F8"
             },
             "line": {
              "color": "white"
             }
            },
            "header": {
             "fill": {
              "color": "#C8D4E3"
             },
             "line": {
              "color": "white"
             }
            },
            "type": "table"
           }
          ]
         },
         "layout": {
          "annotationdefaults": {
           "arrowcolor": "#2a3f5f",
           "arrowhead": 0,
           "arrowwidth": 1
          },
          "autotypenumbers": "strict",
          "coloraxis": {
           "colorbar": {
            "outlinewidth": 0,
            "ticks": ""
           }
          },
          "colorscale": {
           "diverging": [
            [
             0,
             "#8e0152"
            ],
            [
             0.1,
             "#c51b7d"
            ],
            [
             0.2,
             "#de77ae"
            ],
            [
             0.3,
             "#f1b6da"
            ],
            [
             0.4,
             "#fde0ef"
            ],
            [
             0.5,
             "#f7f7f7"
            ],
            [
             0.6,
             "#e6f5d0"
            ],
            [
             0.7,
             "#b8e186"
            ],
            [
             0.8,
             "#7fbc41"
            ],
            [
             0.9,
             "#4d9221"
            ],
            [
             1,
             "#276419"
            ]
           ],
           "sequential": [
            [
             0,
             "#0d0887"
            ],
            [
             0.1111111111111111,
             "#46039f"
            ],
            [
             0.2222222222222222,
             "#7201a8"
            ],
            [
             0.3333333333333333,
             "#9c179e"
            ],
            [
             0.4444444444444444,
             "#bd3786"
            ],
            [
             0.5555555555555556,
             "#d8576b"
            ],
            [
             0.6666666666666666,
             "#ed7953"
            ],
            [
             0.7777777777777778,
             "#fb9f3a"
            ],
            [
             0.8888888888888888,
             "#fdca26"
            ],
            [
             1,
             "#f0f921"
            ]
           ],
           "sequentialminus": [
            [
             0,
             "#0d0887"
            ],
            [
             0.1111111111111111,
             "#46039f"
            ],
            [
             0.2222222222222222,
             "#7201a8"
            ],
            [
             0.3333333333333333,
             "#9c179e"
            ],
            [
             0.4444444444444444,
             "#bd3786"
            ],
            [
             0.5555555555555556,
             "#d8576b"
            ],
            [
             0.6666666666666666,
             "#ed7953"
            ],
            [
             0.7777777777777778,
             "#fb9f3a"
            ],
            [
             0.8888888888888888,
             "#fdca26"
            ],
            [
             1,
             "#f0f921"
            ]
           ]
          },
          "colorway": [
           "#636efa",
           "#EF553B",
           "#00cc96",
           "#ab63fa",
           "#FFA15A",
           "#19d3f3",
           "#FF6692",
           "#B6E880",
           "#FF97FF",
           "#FECB52"
          ],
          "font": {
           "color": "#2a3f5f"
          },
          "geo": {
           "bgcolor": "white",
           "lakecolor": "white",
           "landcolor": "#E5ECF6",
           "showlakes": true,
           "showland": true,
           "subunitcolor": "white"
          },
          "hoverlabel": {
           "align": "left"
          },
          "hovermode": "closest",
          "mapbox": {
           "style": "light"
          },
          "paper_bgcolor": "white",
          "plot_bgcolor": "#E5ECF6",
          "polar": {
           "angularaxis": {
            "gridcolor": "white",
            "linecolor": "white",
            "ticks": ""
           },
           "bgcolor": "#E5ECF6",
           "radialaxis": {
            "gridcolor": "white",
            "linecolor": "white",
            "ticks": ""
           }
          },
          "scene": {
           "xaxis": {
            "backgroundcolor": "#E5ECF6",
            "gridcolor": "white",
            "gridwidth": 2,
            "linecolor": "white",
            "showbackground": true,
            "ticks": "",
            "zerolinecolor": "white"
           },
           "yaxis": {
            "backgroundcolor": "#E5ECF6",
            "gridcolor": "white",
            "gridwidth": 2,
            "linecolor": "white",
            "showbackground": true,
            "ticks": "",
            "zerolinecolor": "white"
           },
           "zaxis": {
            "backgroundcolor": "#E5ECF6",
            "gridcolor": "white",
            "gridwidth": 2,
            "linecolor": "white",
            "showbackground": true,
            "ticks": "",
            "zerolinecolor": "white"
           }
          },
          "shapedefaults": {
           "line": {
            "color": "#2a3f5f"
           }
          },
          "ternary": {
           "aaxis": {
            "gridcolor": "white",
            "linecolor": "white",
            "ticks": ""
           },
           "baxis": {
            "gridcolor": "white",
            "linecolor": "white",
            "ticks": ""
           },
           "bgcolor": "#E5ECF6",
           "caxis": {
            "gridcolor": "white",
            "linecolor": "white",
            "ticks": ""
           }
          },
          "title": {
           "x": 0.05
          },
          "xaxis": {
           "automargin": true,
           "gridcolor": "white",
           "linecolor": "white",
           "ticks": "",
           "title": {
            "standoff": 15
           },
           "zerolinecolor": "white",
           "zerolinewidth": 2
          },
          "yaxis": {
           "automargin": true,
           "gridcolor": "white",
           "linecolor": "white",
           "ticks": "",
           "title": {
            "standoff": 15
           },
           "zerolinecolor": "white",
           "zerolinewidth": 2
          }
         }
        }
       }
      }
     },
     "metadata": {},
     "output_type": "display_data"
    }
   ],
   "source": [
    "import plotly.express as px\n",
    "\n",
    "fig = px.parallel_categories(\n",
    "    df_cv_rf.iloc[:,:-1],\n",
    "    color='mean_test_score'\n",
    ")\n",
    "fig.show()"
   ]
  },
  {
   "cell_type": "code",
   "execution_count": 18,
   "metadata": {},
   "outputs": [
    {
     "data": {
      "application/vnd.plotly.v1+json": {
       "config": {
        "plotlyServerURL": "https://plot.ly"
       },
       "data": [
        {
         "dimensions": [
          {
           "label": "max_features",
           "values": [
            40,
            40,
            40,
            40,
            40,
            "None",
            "sqrt",
            "None",
            "sqrt",
            "None",
            40,
            "sqrt",
            "None",
            "None",
            40,
            "sqrt",
            "sqrt",
            "sqrt",
            "sqrt",
            "sqrt"
           ]
          },
          {
           "label": "n_estimators",
           "values": [
            20,
            10,
            10,
            5,
            20,
            5,
            20,
            20,
            20,
            5,
            5,
            1,
            20,
            1,
            5,
            10,
            20,
            1,
            5,
            1
           ]
          },
          {
           "label": "max_depth",
           "values": [
            "None",
            "None",
            10,
            10,
            5,
            10,
            "None",
            5,
            10,
            5,
            2,
            "None",
            2,
            5,
            1,
            5,
            2,
            5,
            5,
            1
           ]
          },
          {
           "label": "mean_test_score",
           "values": [
            0.954,
            0.917,
            0.85,
            0.763,
            0.682,
            0.623,
            0.601,
            0.567,
            0.566,
            0.542,
            0.513,
            0.513,
            0.508,
            0.507,
            0.506,
            0.506,
            0.504,
            0.503,
            0.502,
            0.5
           ]
          }
         ],
         "domain": {
          "x": [
           0,
           1
          ],
          "y": [
           0,
           1
          ]
         },
         "line": {
          "color": [
           0.954,
           0.917,
           0.85,
           0.763,
           0.682,
           0.623,
           0.601,
           0.567,
           0.566,
           0.542,
           0.513,
           0.513,
           0.508,
           0.507,
           0.506,
           0.506,
           0.504,
           0.503,
           0.502,
           0.5
          ],
          "coloraxis": "coloraxis"
         },
         "name": "",
         "type": "parcats"
        }
       ],
       "layout": {
        "coloraxis": {
         "colorbar": {
          "title": {
           "text": "mean_test_score"
          }
         },
         "colorscale": [
          [
           0,
           "#0d0887"
          ],
          [
           0.1111111111111111,
           "#46039f"
          ],
          [
           0.2222222222222222,
           "#7201a8"
          ],
          [
           0.3333333333333333,
           "#9c179e"
          ],
          [
           0.4444444444444444,
           "#bd3786"
          ],
          [
           0.5555555555555556,
           "#d8576b"
          ],
          [
           0.6666666666666666,
           "#ed7953"
          ],
          [
           0.7777777777777778,
           "#fb9f3a"
          ],
          [
           0.8888888888888888,
           "#fdca26"
          ],
          [
           1,
           "#f0f921"
          ]
         ]
        },
        "legend": {
         "tracegroupgap": 0
        },
        "margin": {
         "t": 60
        },
        "template": {
         "data": {
          "bar": [
           {
            "error_x": {
             "color": "#2a3f5f"
            },
            "error_y": {
             "color": "#2a3f5f"
            },
            "marker": {
             "line": {
              "color": "#E5ECF6",
              "width": 0.5
             },
             "pattern": {
              "fillmode": "overlay",
              "size": 10,
              "solidity": 0.2
             }
            },
            "type": "bar"
           }
          ],
          "barpolar": [
           {
            "marker": {
             "line": {
              "color": "#E5ECF6",
              "width": 0.5
             },
             "pattern": {
              "fillmode": "overlay",
              "size": 10,
              "solidity": 0.2
             }
            },
            "type": "barpolar"
           }
          ],
          "carpet": [
           {
            "aaxis": {
             "endlinecolor": "#2a3f5f",
             "gridcolor": "white",
             "linecolor": "white",
             "minorgridcolor": "white",
             "startlinecolor": "#2a3f5f"
            },
            "baxis": {
             "endlinecolor": "#2a3f5f",
             "gridcolor": "white",
             "linecolor": "white",
             "minorgridcolor": "white",
             "startlinecolor": "#2a3f5f"
            },
            "type": "carpet"
           }
          ],
          "choropleth": [
           {
            "colorbar": {
             "outlinewidth": 0,
             "ticks": ""
            },
            "type": "choropleth"
           }
          ],
          "contour": [
           {
            "colorbar": {
             "outlinewidth": 0,
             "ticks": ""
            },
            "colorscale": [
             [
              0,
              "#0d0887"
             ],
             [
              0.1111111111111111,
              "#46039f"
             ],
             [
              0.2222222222222222,
              "#7201a8"
             ],
             [
              0.3333333333333333,
              "#9c179e"
             ],
             [
              0.4444444444444444,
              "#bd3786"
             ],
             [
              0.5555555555555556,
              "#d8576b"
             ],
             [
              0.6666666666666666,
              "#ed7953"
             ],
             [
              0.7777777777777778,
              "#fb9f3a"
             ],
             [
              0.8888888888888888,
              "#fdca26"
             ],
             [
              1,
              "#f0f921"
             ]
            ],
            "type": "contour"
           }
          ],
          "contourcarpet": [
           {
            "colorbar": {
             "outlinewidth": 0,
             "ticks": ""
            },
            "type": "contourcarpet"
           }
          ],
          "heatmap": [
           {
            "colorbar": {
             "outlinewidth": 0,
             "ticks": ""
            },
            "colorscale": [
             [
              0,
              "#0d0887"
             ],
             [
              0.1111111111111111,
              "#46039f"
             ],
             [
              0.2222222222222222,
              "#7201a8"
             ],
             [
              0.3333333333333333,
              "#9c179e"
             ],
             [
              0.4444444444444444,
              "#bd3786"
             ],
             [
              0.5555555555555556,
              "#d8576b"
             ],
             [
              0.6666666666666666,
              "#ed7953"
             ],
             [
              0.7777777777777778,
              "#fb9f3a"
             ],
             [
              0.8888888888888888,
              "#fdca26"
             ],
             [
              1,
              "#f0f921"
             ]
            ],
            "type": "heatmap"
           }
          ],
          "heatmapgl": [
           {
            "colorbar": {
             "outlinewidth": 0,
             "ticks": ""
            },
            "colorscale": [
             [
              0,
              "#0d0887"
             ],
             [
              0.1111111111111111,
              "#46039f"
             ],
             [
              0.2222222222222222,
              "#7201a8"
             ],
             [
              0.3333333333333333,
              "#9c179e"
             ],
             [
              0.4444444444444444,
              "#bd3786"
             ],
             [
              0.5555555555555556,
              "#d8576b"
             ],
             [
              0.6666666666666666,
              "#ed7953"
             ],
             [
              0.7777777777777778,
              "#fb9f3a"
             ],
             [
              0.8888888888888888,
              "#fdca26"
             ],
             [
              1,
              "#f0f921"
             ]
            ],
            "type": "heatmapgl"
           }
          ],
          "histogram": [
           {
            "marker": {
             "pattern": {
              "fillmode": "overlay",
              "size": 10,
              "solidity": 0.2
             }
            },
            "type": "histogram"
           }
          ],
          "histogram2d": [
           {
            "colorbar": {
             "outlinewidth": 0,
             "ticks": ""
            },
            "colorscale": [
             [
              0,
              "#0d0887"
             ],
             [
              0.1111111111111111,
              "#46039f"
             ],
             [
              0.2222222222222222,
              "#7201a8"
             ],
             [
              0.3333333333333333,
              "#9c179e"
             ],
             [
              0.4444444444444444,
              "#bd3786"
             ],
             [
              0.5555555555555556,
              "#d8576b"
             ],
             [
              0.6666666666666666,
              "#ed7953"
             ],
             [
              0.7777777777777778,
              "#fb9f3a"
             ],
             [
              0.8888888888888888,
              "#fdca26"
             ],
             [
              1,
              "#f0f921"
             ]
            ],
            "type": "histogram2d"
           }
          ],
          "histogram2dcontour": [
           {
            "colorbar": {
             "outlinewidth": 0,
             "ticks": ""
            },
            "colorscale": [
             [
              0,
              "#0d0887"
             ],
             [
              0.1111111111111111,
              "#46039f"
             ],
             [
              0.2222222222222222,
              "#7201a8"
             ],
             [
              0.3333333333333333,
              "#9c179e"
             ],
             [
              0.4444444444444444,
              "#bd3786"
             ],
             [
              0.5555555555555556,
              "#d8576b"
             ],
             [
              0.6666666666666666,
              "#ed7953"
             ],
             [
              0.7777777777777778,
              "#fb9f3a"
             ],
             [
              0.8888888888888888,
              "#fdca26"
             ],
             [
              1,
              "#f0f921"
             ]
            ],
            "type": "histogram2dcontour"
           }
          ],
          "mesh3d": [
           {
            "colorbar": {
             "outlinewidth": 0,
             "ticks": ""
            },
            "type": "mesh3d"
           }
          ],
          "parcoords": [
           {
            "line": {
             "colorbar": {
              "outlinewidth": 0,
              "ticks": ""
             }
            },
            "type": "parcoords"
           }
          ],
          "pie": [
           {
            "automargin": true,
            "type": "pie"
           }
          ],
          "scatter": [
           {
            "fillpattern": {
             "fillmode": "overlay",
             "size": 10,
             "solidity": 0.2
            },
            "type": "scatter"
           }
          ],
          "scatter3d": [
           {
            "line": {
             "colorbar": {
              "outlinewidth": 0,
              "ticks": ""
             }
            },
            "marker": {
             "colorbar": {
              "outlinewidth": 0,
              "ticks": ""
             }
            },
            "type": "scatter3d"
           }
          ],
          "scattercarpet": [
           {
            "marker": {
             "colorbar": {
              "outlinewidth": 0,
              "ticks": ""
             }
            },
            "type": "scattercarpet"
           }
          ],
          "scattergeo": [
           {
            "marker": {
             "colorbar": {
              "outlinewidth": 0,
              "ticks": ""
             }
            },
            "type": "scattergeo"
           }
          ],
          "scattergl": [
           {
            "marker": {
             "colorbar": {
              "outlinewidth": 0,
              "ticks": ""
             }
            },
            "type": "scattergl"
           }
          ],
          "scattermapbox": [
           {
            "marker": {
             "colorbar": {
              "outlinewidth": 0,
              "ticks": ""
             }
            },
            "type": "scattermapbox"
           }
          ],
          "scatterpolar": [
           {
            "marker": {
             "colorbar": {
              "outlinewidth": 0,
              "ticks": ""
             }
            },
            "type": "scatterpolar"
           }
          ],
          "scatterpolargl": [
           {
            "marker": {
             "colorbar": {
              "outlinewidth": 0,
              "ticks": ""
             }
            },
            "type": "scatterpolargl"
           }
          ],
          "scatterternary": [
           {
            "marker": {
             "colorbar": {
              "outlinewidth": 0,
              "ticks": ""
             }
            },
            "type": "scatterternary"
           }
          ],
          "surface": [
           {
            "colorbar": {
             "outlinewidth": 0,
             "ticks": ""
            },
            "colorscale": [
             [
              0,
              "#0d0887"
             ],
             [
              0.1111111111111111,
              "#46039f"
             ],
             [
              0.2222222222222222,
              "#7201a8"
             ],
             [
              0.3333333333333333,
              "#9c179e"
             ],
             [
              0.4444444444444444,
              "#bd3786"
             ],
             [
              0.5555555555555556,
              "#d8576b"
             ],
             [
              0.6666666666666666,
              "#ed7953"
             ],
             [
              0.7777777777777778,
              "#fb9f3a"
             ],
             [
              0.8888888888888888,
              "#fdca26"
             ],
             [
              1,
              "#f0f921"
             ]
            ],
            "type": "surface"
           }
          ],
          "table": [
           {
            "cells": {
             "fill": {
              "color": "#EBF0F8"
             },
             "line": {
              "color": "white"
             }
            },
            "header": {
             "fill": {
              "color": "#C8D4E3"
             },
             "line": {
              "color": "white"
             }
            },
            "type": "table"
           }
          ]
         },
         "layout": {
          "annotationdefaults": {
           "arrowcolor": "#2a3f5f",
           "arrowhead": 0,
           "arrowwidth": 1
          },
          "autotypenumbers": "strict",
          "coloraxis": {
           "colorbar": {
            "outlinewidth": 0,
            "ticks": ""
           }
          },
          "colorscale": {
           "diverging": [
            [
             0,
             "#8e0152"
            ],
            [
             0.1,
             "#c51b7d"
            ],
            [
             0.2,
             "#de77ae"
            ],
            [
             0.3,
             "#f1b6da"
            ],
            [
             0.4,
             "#fde0ef"
            ],
            [
             0.5,
             "#f7f7f7"
            ],
            [
             0.6,
             "#e6f5d0"
            ],
            [
             0.7,
             "#b8e186"
            ],
            [
             0.8,
             "#7fbc41"
            ],
            [
             0.9,
             "#4d9221"
            ],
            [
             1,
             "#276419"
            ]
           ],
           "sequential": [
            [
             0,
             "#0d0887"
            ],
            [
             0.1111111111111111,
             "#46039f"
            ],
            [
             0.2222222222222222,
             "#7201a8"
            ],
            [
             0.3333333333333333,
             "#9c179e"
            ],
            [
             0.4444444444444444,
             "#bd3786"
            ],
            [
             0.5555555555555556,
             "#d8576b"
            ],
            [
             0.6666666666666666,
             "#ed7953"
            ],
            [
             0.7777777777777778,
             "#fb9f3a"
            ],
            [
             0.8888888888888888,
             "#fdca26"
            ],
            [
             1,
             "#f0f921"
            ]
           ],
           "sequentialminus": [
            [
             0,
             "#0d0887"
            ],
            [
             0.1111111111111111,
             "#46039f"
            ],
            [
             0.2222222222222222,
             "#7201a8"
            ],
            [
             0.3333333333333333,
             "#9c179e"
            ],
            [
             0.4444444444444444,
             "#bd3786"
            ],
            [
             0.5555555555555556,
             "#d8576b"
            ],
            [
             0.6666666666666666,
             "#ed7953"
            ],
            [
             0.7777777777777778,
             "#fb9f3a"
            ],
            [
             0.8888888888888888,
             "#fdca26"
            ],
            [
             1,
             "#f0f921"
            ]
           ]
          },
          "colorway": [
           "#636efa",
           "#EF553B",
           "#00cc96",
           "#ab63fa",
           "#FFA15A",
           "#19d3f3",
           "#FF6692",
           "#B6E880",
           "#FF97FF",
           "#FECB52"
          ],
          "font": {
           "color": "#2a3f5f"
          },
          "geo": {
           "bgcolor": "white",
           "lakecolor": "white",
           "landcolor": "#E5ECF6",
           "showlakes": true,
           "showland": true,
           "subunitcolor": "white"
          },
          "hoverlabel": {
           "align": "left"
          },
          "hovermode": "closest",
          "mapbox": {
           "style": "light"
          },
          "paper_bgcolor": "white",
          "plot_bgcolor": "#E5ECF6",
          "polar": {
           "angularaxis": {
            "gridcolor": "white",
            "linecolor": "white",
            "ticks": ""
           },
           "bgcolor": "#E5ECF6",
           "radialaxis": {
            "gridcolor": "white",
            "linecolor": "white",
            "ticks": ""
           }
          },
          "scene": {
           "xaxis": {
            "backgroundcolor": "#E5ECF6",
            "gridcolor": "white",
            "gridwidth": 2,
            "linecolor": "white",
            "showbackground": true,
            "ticks": "",
            "zerolinecolor": "white"
           },
           "yaxis": {
            "backgroundcolor": "#E5ECF6",
            "gridcolor": "white",
            "gridwidth": 2,
            "linecolor": "white",
            "showbackground": true,
            "ticks": "",
            "zerolinecolor": "white"
           },
           "zaxis": {
            "backgroundcolor": "#E5ECF6",
            "gridcolor": "white",
            "gridwidth": 2,
            "linecolor": "white",
            "showbackground": true,
            "ticks": "",
            "zerolinecolor": "white"
           }
          },
          "shapedefaults": {
           "line": {
            "color": "#2a3f5f"
           }
          },
          "ternary": {
           "aaxis": {
            "gridcolor": "white",
            "linecolor": "white",
            "ticks": ""
           },
           "baxis": {
            "gridcolor": "white",
            "linecolor": "white",
            "ticks": ""
           },
           "bgcolor": "#E5ECF6",
           "caxis": {
            "gridcolor": "white",
            "linecolor": "white",
            "ticks": ""
           }
          },
          "title": {
           "x": 0.05
          },
          "xaxis": {
           "automargin": true,
           "gridcolor": "white",
           "linecolor": "white",
           "ticks": "",
           "title": {
            "standoff": 15
           },
           "zerolinecolor": "white",
           "zerolinewidth": 2
          },
          "yaxis": {
           "automargin": true,
           "gridcolor": "white",
           "linecolor": "white",
           "ticks": "",
           "title": {
            "standoff": 15
           },
           "zerolinecolor": "white",
           "zerolinewidth": 2
          }
         }
        }
       }
      }
     },
     "metadata": {},
     "output_type": "display_data"
    }
   ],
   "source": [
    "px.parallel_categories(\n",
    "    df_cv_of.iloc[:,:-1],\n",
    "    color='mean_test_score'\n",
    ")"
   ]
  },
  {
   "cell_type": "markdown",
   "metadata": {},
   "source": [
    "### Appendix\n",
    "The actual values used to generate the above plots"
   ]
  },
  {
   "cell_type": "code",
   "execution_count": 19,
   "metadata": {},
   "outputs": [
    {
     "data": {
      "text/html": [
       "<style type=\"text/css\">\n",
       "#T_0af11_row0_col0 {\n",
       "  background-color: #e9f0f4;\n",
       "  color: #000000;\n",
       "}\n",
       "#T_0af11_row1_col0, #T_0af11_row5_col0 {\n",
       "  background-color: #f8f3f0;\n",
       "  color: #000000;\n",
       "}\n",
       "#T_0af11_row2_col0 {\n",
       "  background-color: #fae8de;\n",
       "  color: #000000;\n",
       "}\n",
       "#T_0af11_row3_col0 {\n",
       "  background-color: #f0f4f6;\n",
       "  color: #000000;\n",
       "}\n",
       "#T_0af11_row4_col0 {\n",
       "  background-color: #f9eee7;\n",
       "  color: #000000;\n",
       "}\n",
       "#T_0af11_row6_col0 {\n",
       "  background-color: #f5a886;\n",
       "  color: #000000;\n",
       "}\n",
       "#T_0af11_row7_col0 {\n",
       "  background-color: #d35a4a;\n",
       "  color: #f1f1f1;\n",
       "}\n",
       "#T_0af11_row8_col0 {\n",
       "  background-color: #f9ede5;\n",
       "  color: #000000;\n",
       "}\n",
       "</style>\n",
       "<table id=\"T_0af11\">\n",
       "  <thead>\n",
       "    <tr>\n",
       "      <th class=\"blank\" >&nbsp;</th>\n",
       "      <th class=\"blank\" >&nbsp;</th>\n",
       "      <th class=\"blank\" >&nbsp;</th>\n",
       "      <th class=\"blank level0\" >&nbsp;</th>\n",
       "      <th id=\"T_0af11_level0_col0\" class=\"col_heading level0 col0\" >delta</th>\n",
       "    </tr>\n",
       "    <tr>\n",
       "      <th class=\"index_name level0\" >dataset</th>\n",
       "      <th class=\"index_name level1\" >n_sample</th>\n",
       "      <th class=\"index_name level2\" >max_feature</th>\n",
       "      <th class=\"index_name level3\" >max_depth</th>\n",
       "      <th class=\"blank col0\" >&nbsp;</th>\n",
       "    </tr>\n",
       "  </thead>\n",
       "  <tbody>\n",
       "    <tr>\n",
       "      <th id=\"T_0af11_level0_row0\" class=\"row_heading level0 row0\" rowspan=\"9\">sparse_parity</th>\n",
       "      <th id=\"T_0af11_level1_row0\" class=\"row_heading level1 row0\" rowspan=\"3\">100</th>\n",
       "      <th id=\"T_0af11_level2_row0\" class=\"row_heading level2 row0\" >20</th>\n",
       "      <th id=\"T_0af11_level3_row0\" class=\"row_heading level3 row0\" >10</th>\n",
       "      <td id=\"T_0af11_row0_col0\" class=\"data row0 col0\" >-0.030006</td>\n",
       "    </tr>\n",
       "    <tr>\n",
       "      <th id=\"T_0af11_level2_row1\" class=\"row_heading level2 row1\" >40</th>\n",
       "      <th id=\"T_0af11_level3_row1\" class=\"row_heading level3 row1\" >10</th>\n",
       "      <td id=\"T_0af11_row1_col0\" class=\"data row1 col0\" >0.009507</td>\n",
       "    </tr>\n",
       "    <tr>\n",
       "      <th id=\"T_0af11_level2_row2\" class=\"row_heading level2 row2\" >sqrt</th>\n",
       "      <th id=\"T_0af11_level3_row2\" class=\"row_heading level3 row2\" >10</th>\n",
       "      <td id=\"T_0af11_row2_col0\" class=\"data row2 col0\" >0.040701</td>\n",
       "    </tr>\n",
       "    <tr>\n",
       "      <th id=\"T_0af11_level1_row3\" class=\"row_heading level1 row3\" rowspan=\"3\">1000</th>\n",
       "      <th id=\"T_0af11_level2_row3\" class=\"row_heading level2 row3\" >20</th>\n",
       "      <th id=\"T_0af11_level3_row3\" class=\"row_heading level3 row3\" >10</th>\n",
       "      <td id=\"T_0af11_row3_col0\" class=\"data row3 col0\" >-0.013043</td>\n",
       "    </tr>\n",
       "    <tr>\n",
       "      <th id=\"T_0af11_level2_row4\" class=\"row_heading level2 row4\" >40</th>\n",
       "      <th id=\"T_0af11_level3_row4\" class=\"row_heading level3 row4\" >10</th>\n",
       "      <td id=\"T_0af11_row4_col0\" class=\"data row4 col0\" >0.027995</td>\n",
       "    </tr>\n",
       "    <tr>\n",
       "      <th id=\"T_0af11_level2_row5\" class=\"row_heading level2 row5\" >sqrt</th>\n",
       "      <th id=\"T_0af11_level3_row5\" class=\"row_heading level3 row5\" >10</th>\n",
       "      <td id=\"T_0af11_row5_col0\" class=\"data row5 col0\" >0.011991</td>\n",
       "    </tr>\n",
       "    <tr>\n",
       "      <th id=\"T_0af11_level1_row6\" class=\"row_heading level1 row6\" rowspan=\"3\">10000</th>\n",
       "      <th id=\"T_0af11_level2_row6\" class=\"row_heading level2 row6\" >20</th>\n",
       "      <th id=\"T_0af11_level3_row6\" class=\"row_heading level3 row6\" >10</th>\n",
       "      <td id=\"T_0af11_row6_col0\" class=\"data row6 col0\" >0.153195</td>\n",
       "    </tr>\n",
       "    <tr>\n",
       "      <th id=\"T_0af11_level2_row7\" class=\"row_heading level2 row7\" >40</th>\n",
       "      <th id=\"T_0af11_level3_row7\" class=\"row_heading level3 row7\" >10</th>\n",
       "      <td id=\"T_0af11_row7_col0\" class=\"data row7 col0\" >0.244497</td>\n",
       "    </tr>\n",
       "    <tr>\n",
       "      <th id=\"T_0af11_level2_row8\" class=\"row_heading level2 row8\" >sqrt</th>\n",
       "      <th id=\"T_0af11_level3_row8\" class=\"row_heading level3 row8\" >10</th>\n",
       "      <td id=\"T_0af11_row8_col0\" class=\"data row8 col0\" >0.031197</td>\n",
       "    </tr>\n",
       "  </tbody>\n",
       "</table>\n"
      ],
      "text/plain": [
       "<pandas.io.formats.style.Styler at 0x7f950d613760>"
      ]
     },
     "execution_count": 19,
     "metadata": {},
     "output_type": "execute_result"
    }
   ],
   "source": [
    "col_groupby = ['dataset','n_sample','max_feature','max_depth']\n",
    "dff = df2.groupby(col_groupby).mean()\n",
    "dff.style.background_gradient(cmap='RdBu_r', vmin=-0.4, vmax=0.4)"
   ]
  },
  {
   "cell_type": "code",
   "execution_count": 20,
   "metadata": {},
   "outputs": [
    {
     "data": {
      "text/html": [
       "<div>\n",
       "<style scoped>\n",
       "    .dataframe tbody tr th:only-of-type {\n",
       "        vertical-align: middle;\n",
       "    }\n",
       "\n",
       "    .dataframe tbody tr th {\n",
       "        vertical-align: top;\n",
       "    }\n",
       "\n",
       "    .dataframe thead th {\n",
       "        text-align: right;\n",
       "    }\n",
       "</style>\n",
       "<table border=\"1\" class=\"dataframe\">\n",
       "  <thead>\n",
       "    <tr style=\"text-align: right;\">\n",
       "      <th></th>\n",
       "      <th>mean_fit_time</th>\n",
       "      <th>std_fit_time</th>\n",
       "      <th>mean_score_time</th>\n",
       "      <th>std_score_time</th>\n",
       "      <th>n_estimators</th>\n",
       "      <th>max_features</th>\n",
       "      <th>max_depth</th>\n",
       "      <th>params</th>\n",
       "      <th>split0_test_score</th>\n",
       "      <th>split1_test_score</th>\n",
       "      <th>split2_test_score</th>\n",
       "      <th>split3_test_score</th>\n",
       "      <th>split4_test_score</th>\n",
       "      <th>mean_test_score</th>\n",
       "      <th>std_test_score</th>\n",
       "      <th>rank_test_score</th>\n",
       "      <th>clf</th>\n",
       "    </tr>\n",
       "  </thead>\n",
       "  <tbody>\n",
       "    <tr>\n",
       "      <th>0</th>\n",
       "      <td>0.010716</td>\n",
       "      <td>0.000647</td>\n",
       "      <td>0.001152</td>\n",
       "      <td>0.000116</td>\n",
       "      <td>1</td>\n",
       "      <td>sqrt</td>\n",
       "      <td>5</td>\n",
       "      <td>{'n_estimators': 1, 'max_features': 'sqrt', 'm...</td>\n",
       "      <td>0.5075</td>\n",
       "      <td>0.5055</td>\n",
       "      <td>0.4995</td>\n",
       "      <td>0.5255</td>\n",
       "      <td>0.5115</td>\n",
       "      <td>0.510</td>\n",
       "      <td>0.008709</td>\n",
       "      <td>13</td>\n",
       "      <td>RF</td>\n",
       "    </tr>\n",
       "    <tr>\n",
       "      <th>1</th>\n",
       "      <td>0.356431</td>\n",
       "      <td>0.016461</td>\n",
       "      <td>0.003560</td>\n",
       "      <td>0.000132</td>\n",
       "      <td>5</td>\n",
       "      <td>None</td>\n",
       "      <td>10</td>\n",
       "      <td>{'n_estimators': 5, 'max_features': None, 'max...</td>\n",
       "      <td>0.5105</td>\n",
       "      <td>0.8325</td>\n",
       "      <td>0.8240</td>\n",
       "      <td>0.8190</td>\n",
       "      <td>0.5640</td>\n",
       "      <td>0.710</td>\n",
       "      <td>0.142126</td>\n",
       "      <td>3</td>\n",
       "      <td>RF</td>\n",
       "    </tr>\n",
       "    <tr>\n",
       "      <th>2</th>\n",
       "      <td>0.042247</td>\n",
       "      <td>0.001181</td>\n",
       "      <td>0.001183</td>\n",
       "      <td>0.000194</td>\n",
       "      <td>1</td>\n",
       "      <td>None</td>\n",
       "      <td>5</td>\n",
       "      <td>{'n_estimators': 1, 'max_features': None, 'max...</td>\n",
       "      <td>0.5075</td>\n",
       "      <td>0.5100</td>\n",
       "      <td>0.4960</td>\n",
       "      <td>0.4975</td>\n",
       "      <td>0.5205</td>\n",
       "      <td>0.506</td>\n",
       "      <td>0.008948</td>\n",
       "      <td>16</td>\n",
       "      <td>RF</td>\n",
       "    </tr>\n",
       "    <tr>\n",
       "      <th>3</th>\n",
       "      <td>1.186362</td>\n",
       "      <td>0.066177</td>\n",
       "      <td>0.010711</td>\n",
       "      <td>0.001202</td>\n",
       "      <td>10</td>\n",
       "      <td>40</td>\n",
       "      <td>None</td>\n",
       "      <td>{'n_estimators': 10, 'max_features': 40, 'max_...</td>\n",
       "      <td>0.6525</td>\n",
       "      <td>0.7255</td>\n",
       "      <td>0.8185</td>\n",
       "      <td>0.7260</td>\n",
       "      <td>0.6210</td>\n",
       "      <td>0.709</td>\n",
       "      <td>0.068538</td>\n",
       "      <td>5</td>\n",
       "      <td>RF</td>\n",
       "    </tr>\n",
       "    <tr>\n",
       "      <th>4</th>\n",
       "      <td>2.293337</td>\n",
       "      <td>0.069107</td>\n",
       "      <td>0.019566</td>\n",
       "      <td>0.000365</td>\n",
       "      <td>20</td>\n",
       "      <td>40</td>\n",
       "      <td>None</td>\n",
       "      <td>{'n_estimators': 20, 'max_features': 40, 'max_...</td>\n",
       "      <td>0.7330</td>\n",
       "      <td>0.8255</td>\n",
       "      <td>0.8955</td>\n",
       "      <td>0.6960</td>\n",
       "      <td>0.6320</td>\n",
       "      <td>0.756</td>\n",
       "      <td>0.093589</td>\n",
       "      <td>1</td>\n",
       "      <td>RF</td>\n",
       "    </tr>\n",
       "    <tr>\n",
       "      <th>5</th>\n",
       "      <td>0.086760</td>\n",
       "      <td>0.000167</td>\n",
       "      <td>0.001794</td>\n",
       "      <td>0.000319</td>\n",
       "      <td>5</td>\n",
       "      <td>40</td>\n",
       "      <td>2</td>\n",
       "      <td>{'n_estimators': 5, 'max_features': 40, 'max_d...</td>\n",
       "      <td>0.5195</td>\n",
       "      <td>0.5105</td>\n",
       "      <td>0.5005</td>\n",
       "      <td>0.4885</td>\n",
       "      <td>0.5240</td>\n",
       "      <td>0.509</td>\n",
       "      <td>0.012878</td>\n",
       "      <td>14</td>\n",
       "      <td>RF</td>\n",
       "    </tr>\n",
       "    <tr>\n",
       "      <th>6</th>\n",
       "      <td>0.046786</td>\n",
       "      <td>0.000500</td>\n",
       "      <td>0.001468</td>\n",
       "      <td>0.000251</td>\n",
       "      <td>5</td>\n",
       "      <td>40</td>\n",
       "      <td>1</td>\n",
       "      <td>{'n_estimators': 5, 'max_features': 40, 'max_d...</td>\n",
       "      <td>0.5120</td>\n",
       "      <td>0.5180</td>\n",
       "      <td>0.5075</td>\n",
       "      <td>0.4940</td>\n",
       "      <td>0.5180</td>\n",
       "      <td>0.510</td>\n",
       "      <td>0.008879</td>\n",
       "      <td>12</td>\n",
       "      <td>RF</td>\n",
       "    </tr>\n",
       "    <tr>\n",
       "      <th>7</th>\n",
       "      <td>0.031762</td>\n",
       "      <td>0.005822</td>\n",
       "      <td>0.001977</td>\n",
       "      <td>0.000135</td>\n",
       "      <td>1</td>\n",
       "      <td>sqrt</td>\n",
       "      <td>None</td>\n",
       "      <td>{'n_estimators': 1, 'max_features': 'sqrt', 'm...</td>\n",
       "      <td>0.5095</td>\n",
       "      <td>0.4910</td>\n",
       "      <td>0.4860</td>\n",
       "      <td>0.5200</td>\n",
       "      <td>0.5040</td>\n",
       "      <td>0.502</td>\n",
       "      <td>0.012339</td>\n",
       "      <td>19</td>\n",
       "      <td>RF</td>\n",
       "    </tr>\n",
       "    <tr>\n",
       "      <th>8</th>\n",
       "      <td>0.805108</td>\n",
       "      <td>0.011390</td>\n",
       "      <td>0.007484</td>\n",
       "      <td>0.000435</td>\n",
       "      <td>20</td>\n",
       "      <td>40</td>\n",
       "      <td>5</td>\n",
       "      <td>{'n_estimators': 20, 'max_features': 40, 'max_...</td>\n",
       "      <td>0.5220</td>\n",
       "      <td>0.5075</td>\n",
       "      <td>0.9655</td>\n",
       "      <td>0.5055</td>\n",
       "      <td>0.5145</td>\n",
       "      <td>0.603</td>\n",
       "      <td>0.181343</td>\n",
       "      <td>7</td>\n",
       "      <td>RF</td>\n",
       "    </tr>\n",
       "    <tr>\n",
       "      <th>9</th>\n",
       "      <td>0.047229</td>\n",
       "      <td>0.001229</td>\n",
       "      <td>0.002220</td>\n",
       "      <td>0.000064</td>\n",
       "      <td>5</td>\n",
       "      <td>sqrt</td>\n",
       "      <td>5</td>\n",
       "      <td>{'n_estimators': 5, 'max_features': 'sqrt', 'm...</td>\n",
       "      <td>0.5085</td>\n",
       "      <td>0.5085</td>\n",
       "      <td>0.5175</td>\n",
       "      <td>0.5010</td>\n",
       "      <td>0.5265</td>\n",
       "      <td>0.512</td>\n",
       "      <td>0.008777</td>\n",
       "      <td>11</td>\n",
       "      <td>RF</td>\n",
       "    </tr>\n",
       "    <tr>\n",
       "      <th>10</th>\n",
       "      <td>0.201987</td>\n",
       "      <td>0.004360</td>\n",
       "      <td>0.002530</td>\n",
       "      <td>0.000279</td>\n",
       "      <td>5</td>\n",
       "      <td>None</td>\n",
       "      <td>5</td>\n",
       "      <td>{'n_estimators': 5, 'max_features': None, 'max...</td>\n",
       "      <td>0.5285</td>\n",
       "      <td>0.5105</td>\n",
       "      <td>0.9135</td>\n",
       "      <td>0.5125</td>\n",
       "      <td>0.5180</td>\n",
       "      <td>0.597</td>\n",
       "      <td>0.158573</td>\n",
       "      <td>9</td>\n",
       "      <td>RF</td>\n",
       "    </tr>\n",
       "    <tr>\n",
       "      <th>11</th>\n",
       "      <td>0.822037</td>\n",
       "      <td>0.047395</td>\n",
       "      <td>0.007518</td>\n",
       "      <td>0.000281</td>\n",
       "      <td>20</td>\n",
       "      <td>None</td>\n",
       "      <td>5</td>\n",
       "      <td>{'n_estimators': 20, 'max_features': None, 'ma...</td>\n",
       "      <td>0.5220</td>\n",
       "      <td>0.5075</td>\n",
       "      <td>0.9655</td>\n",
       "      <td>0.5055</td>\n",
       "      <td>0.5145</td>\n",
       "      <td>0.603</td>\n",
       "      <td>0.181343</td>\n",
       "      <td>7</td>\n",
       "      <td>RF</td>\n",
       "    </tr>\n",
       "    <tr>\n",
       "      <th>12</th>\n",
       "      <td>0.684052</td>\n",
       "      <td>0.289456</td>\n",
       "      <td>0.022861</td>\n",
       "      <td>0.001933</td>\n",
       "      <td>20</td>\n",
       "      <td>sqrt</td>\n",
       "      <td>None</td>\n",
       "      <td>{'n_estimators': 20, 'max_features': 'sqrt', '...</td>\n",
       "      <td>0.6020</td>\n",
       "      <td>0.6355</td>\n",
       "      <td>0.6760</td>\n",
       "      <td>0.6640</td>\n",
       "      <td>0.6075</td>\n",
       "      <td>0.637</td>\n",
       "      <td>0.029487</td>\n",
       "      <td>6</td>\n",
       "      <td>RF</td>\n",
       "    </tr>\n",
       "    <tr>\n",
       "      <th>13</th>\n",
       "      <td>0.094785</td>\n",
       "      <td>0.003083</td>\n",
       "      <td>0.004315</td>\n",
       "      <td>0.000461</td>\n",
       "      <td>10</td>\n",
       "      <td>sqrt</td>\n",
       "      <td>5</td>\n",
       "      <td>{'n_estimators': 10, 'max_features': 'sqrt', '...</td>\n",
       "      <td>0.5025</td>\n",
       "      <td>0.5010</td>\n",
       "      <td>0.5220</td>\n",
       "      <td>0.4910</td>\n",
       "      <td>0.5220</td>\n",
       "      <td>0.508</td>\n",
       "      <td>0.012327</td>\n",
       "      <td>15</td>\n",
       "      <td>RF</td>\n",
       "    </tr>\n",
       "    <tr>\n",
       "      <th>14</th>\n",
       "      <td>0.362684</td>\n",
       "      <td>0.019028</td>\n",
       "      <td>0.003766</td>\n",
       "      <td>0.000464</td>\n",
       "      <td>5</td>\n",
       "      <td>40</td>\n",
       "      <td>10</td>\n",
       "      <td>{'n_estimators': 5, 'max_features': 40, 'max_d...</td>\n",
       "      <td>0.5105</td>\n",
       "      <td>0.8325</td>\n",
       "      <td>0.8240</td>\n",
       "      <td>0.8190</td>\n",
       "      <td>0.5640</td>\n",
       "      <td>0.710</td>\n",
       "      <td>0.142126</td>\n",
       "      <td>3</td>\n",
       "      <td>RF</td>\n",
       "    </tr>\n",
       "    <tr>\n",
       "      <th>15</th>\n",
       "      <td>0.314799</td>\n",
       "      <td>0.001501</td>\n",
       "      <td>0.012309</td>\n",
       "      <td>0.000353</td>\n",
       "      <td>20</td>\n",
       "      <td>sqrt</td>\n",
       "      <td>10</td>\n",
       "      <td>{'n_estimators': 20, 'max_features': 'sqrt', '...</td>\n",
       "      <td>0.5380</td>\n",
       "      <td>0.5510</td>\n",
       "      <td>0.6605</td>\n",
       "      <td>0.5970</td>\n",
       "      <td>0.5315</td>\n",
       "      <td>0.576</td>\n",
       "      <td>0.048228</td>\n",
       "      <td>10</td>\n",
       "      <td>RF</td>\n",
       "    </tr>\n",
       "    <tr>\n",
       "      <th>16</th>\n",
       "      <td>0.732163</td>\n",
       "      <td>0.018385</td>\n",
       "      <td>0.006887</td>\n",
       "      <td>0.000534</td>\n",
       "      <td>10</td>\n",
       "      <td>40</td>\n",
       "      <td>10</td>\n",
       "      <td>{'n_estimators': 10, 'max_features': 40, 'max_...</td>\n",
       "      <td>0.5195</td>\n",
       "      <td>0.7965</td>\n",
       "      <td>0.8580</td>\n",
       "      <td>0.7670</td>\n",
       "      <td>0.6645</td>\n",
       "      <td>0.721</td>\n",
       "      <td>0.118642</td>\n",
       "      <td>2</td>\n",
       "      <td>RF</td>\n",
       "    </tr>\n",
       "    <tr>\n",
       "      <th>17</th>\n",
       "      <td>0.003725</td>\n",
       "      <td>0.000243</td>\n",
       "      <td>0.000731</td>\n",
       "      <td>0.000175</td>\n",
       "      <td>1</td>\n",
       "      <td>sqrt</td>\n",
       "      <td>1</td>\n",
       "      <td>{'n_estimators': 1, 'max_features': 'sqrt', 'm...</td>\n",
       "      <td>0.4980</td>\n",
       "      <td>0.5005</td>\n",
       "      <td>0.5015</td>\n",
       "      <td>0.5045</td>\n",
       "      <td>0.5145</td>\n",
       "      <td>0.504</td>\n",
       "      <td>0.005741</td>\n",
       "      <td>18</td>\n",
       "      <td>RF</td>\n",
       "    </tr>\n",
       "    <tr>\n",
       "      <th>18</th>\n",
       "      <td>0.346342</td>\n",
       "      <td>0.000672</td>\n",
       "      <td>0.004540</td>\n",
       "      <td>0.000302</td>\n",
       "      <td>20</td>\n",
       "      <td>None</td>\n",
       "      <td>2</td>\n",
       "      <td>{'n_estimators': 20, 'max_features': None, 'ma...</td>\n",
       "      <td>0.4945</td>\n",
       "      <td>0.5140</td>\n",
       "      <td>0.5020</td>\n",
       "      <td>0.4775</td>\n",
       "      <td>0.5315</td>\n",
       "      <td>0.504</td>\n",
       "      <td>0.018181</td>\n",
       "      <td>17</td>\n",
       "      <td>RF</td>\n",
       "    </tr>\n",
       "    <tr>\n",
       "      <th>19</th>\n",
       "      <td>0.091157</td>\n",
       "      <td>0.001882</td>\n",
       "      <td>0.004658</td>\n",
       "      <td>0.000473</td>\n",
       "      <td>20</td>\n",
       "      <td>sqrt</td>\n",
       "      <td>2</td>\n",
       "      <td>{'n_estimators': 20, 'max_features': 'sqrt', '...</td>\n",
       "      <td>0.5060</td>\n",
       "      <td>0.5005</td>\n",
       "      <td>0.4975</td>\n",
       "      <td>0.4925</td>\n",
       "      <td>0.5120</td>\n",
       "      <td>0.502</td>\n",
       "      <td>0.006757</td>\n",
       "      <td>20</td>\n",
       "      <td>RF</td>\n",
       "    </tr>\n",
       "  </tbody>\n",
       "</table>\n",
       "</div>"
      ],
      "text/plain": [
       "    mean_fit_time  std_fit_time  mean_score_time  std_score_time  \\\n",
       "0        0.010716      0.000647         0.001152        0.000116   \n",
       "1        0.356431      0.016461         0.003560        0.000132   \n",
       "2        0.042247      0.001181         0.001183        0.000194   \n",
       "3        1.186362      0.066177         0.010711        0.001202   \n",
       "4        2.293337      0.069107         0.019566        0.000365   \n",
       "5        0.086760      0.000167         0.001794        0.000319   \n",
       "6        0.046786      0.000500         0.001468        0.000251   \n",
       "7        0.031762      0.005822         0.001977        0.000135   \n",
       "8        0.805108      0.011390         0.007484        0.000435   \n",
       "9        0.047229      0.001229         0.002220        0.000064   \n",
       "10       0.201987      0.004360         0.002530        0.000279   \n",
       "11       0.822037      0.047395         0.007518        0.000281   \n",
       "12       0.684052      0.289456         0.022861        0.001933   \n",
       "13       0.094785      0.003083         0.004315        0.000461   \n",
       "14       0.362684      0.019028         0.003766        0.000464   \n",
       "15       0.314799      0.001501         0.012309        0.000353   \n",
       "16       0.732163      0.018385         0.006887        0.000534   \n",
       "17       0.003725      0.000243         0.000731        0.000175   \n",
       "18       0.346342      0.000672         0.004540        0.000302   \n",
       "19       0.091157      0.001882         0.004658        0.000473   \n",
       "\n",
       "    n_estimators max_features max_depth  \\\n",
       "0              1         sqrt         5   \n",
       "1              5         None        10   \n",
       "2              1         None         5   \n",
       "3             10           40      None   \n",
       "4             20           40      None   \n",
       "5              5           40         2   \n",
       "6              5           40         1   \n",
       "7              1         sqrt      None   \n",
       "8             20           40         5   \n",
       "9              5         sqrt         5   \n",
       "10             5         None         5   \n",
       "11            20         None         5   \n",
       "12            20         sqrt      None   \n",
       "13            10         sqrt         5   \n",
       "14             5           40        10   \n",
       "15            20         sqrt        10   \n",
       "16            10           40        10   \n",
       "17             1         sqrt         1   \n",
       "18            20         None         2   \n",
       "19            20         sqrt         2   \n",
       "\n",
       "                                               params  split0_test_score  \\\n",
       "0   {'n_estimators': 1, 'max_features': 'sqrt', 'm...             0.5075   \n",
       "1   {'n_estimators': 5, 'max_features': None, 'max...             0.5105   \n",
       "2   {'n_estimators': 1, 'max_features': None, 'max...             0.5075   \n",
       "3   {'n_estimators': 10, 'max_features': 40, 'max_...             0.6525   \n",
       "4   {'n_estimators': 20, 'max_features': 40, 'max_...             0.7330   \n",
       "5   {'n_estimators': 5, 'max_features': 40, 'max_d...             0.5195   \n",
       "6   {'n_estimators': 5, 'max_features': 40, 'max_d...             0.5120   \n",
       "7   {'n_estimators': 1, 'max_features': 'sqrt', 'm...             0.5095   \n",
       "8   {'n_estimators': 20, 'max_features': 40, 'max_...             0.5220   \n",
       "9   {'n_estimators': 5, 'max_features': 'sqrt', 'm...             0.5085   \n",
       "10  {'n_estimators': 5, 'max_features': None, 'max...             0.5285   \n",
       "11  {'n_estimators': 20, 'max_features': None, 'ma...             0.5220   \n",
       "12  {'n_estimators': 20, 'max_features': 'sqrt', '...             0.6020   \n",
       "13  {'n_estimators': 10, 'max_features': 'sqrt', '...             0.5025   \n",
       "14  {'n_estimators': 5, 'max_features': 40, 'max_d...             0.5105   \n",
       "15  {'n_estimators': 20, 'max_features': 'sqrt', '...             0.5380   \n",
       "16  {'n_estimators': 10, 'max_features': 40, 'max_...             0.5195   \n",
       "17  {'n_estimators': 1, 'max_features': 'sqrt', 'm...             0.4980   \n",
       "18  {'n_estimators': 20, 'max_features': None, 'ma...             0.4945   \n",
       "19  {'n_estimators': 20, 'max_features': 'sqrt', '...             0.5060   \n",
       "\n",
       "    split1_test_score  split2_test_score  split3_test_score  \\\n",
       "0              0.5055             0.4995             0.5255   \n",
       "1              0.8325             0.8240             0.8190   \n",
       "2              0.5100             0.4960             0.4975   \n",
       "3              0.7255             0.8185             0.7260   \n",
       "4              0.8255             0.8955             0.6960   \n",
       "5              0.5105             0.5005             0.4885   \n",
       "6              0.5180             0.5075             0.4940   \n",
       "7              0.4910             0.4860             0.5200   \n",
       "8              0.5075             0.9655             0.5055   \n",
       "9              0.5085             0.5175             0.5010   \n",
       "10             0.5105             0.9135             0.5125   \n",
       "11             0.5075             0.9655             0.5055   \n",
       "12             0.6355             0.6760             0.6640   \n",
       "13             0.5010             0.5220             0.4910   \n",
       "14             0.8325             0.8240             0.8190   \n",
       "15             0.5510             0.6605             0.5970   \n",
       "16             0.7965             0.8580             0.7670   \n",
       "17             0.5005             0.5015             0.5045   \n",
       "18             0.5140             0.5020             0.4775   \n",
       "19             0.5005             0.4975             0.4925   \n",
       "\n",
       "    split4_test_score  mean_test_score  std_test_score  rank_test_score clf  \n",
       "0              0.5115            0.510        0.008709               13  RF  \n",
       "1              0.5640            0.710        0.142126                3  RF  \n",
       "2              0.5205            0.506        0.008948               16  RF  \n",
       "3              0.6210            0.709        0.068538                5  RF  \n",
       "4              0.6320            0.756        0.093589                1  RF  \n",
       "5              0.5240            0.509        0.012878               14  RF  \n",
       "6              0.5180            0.510        0.008879               12  RF  \n",
       "7              0.5040            0.502        0.012339               19  RF  \n",
       "8              0.5145            0.603        0.181343                7  RF  \n",
       "9              0.5265            0.512        0.008777               11  RF  \n",
       "10             0.5180            0.597        0.158573                9  RF  \n",
       "11             0.5145            0.603        0.181343                7  RF  \n",
       "12             0.6075            0.637        0.029487                6  RF  \n",
       "13             0.5220            0.508        0.012327               15  RF  \n",
       "14             0.5640            0.710        0.142126                3  RF  \n",
       "15             0.5315            0.576        0.048228               10  RF  \n",
       "16             0.6645            0.721        0.118642                2  RF  \n",
       "17             0.5145            0.504        0.005741               18  RF  \n",
       "18             0.5315            0.504        0.018181               17  RF  \n",
       "19             0.5120            0.502        0.006757               20  RF  "
      ]
     },
     "execution_count": 20,
     "metadata": {},
     "output_type": "execute_result"
    }
   ],
   "source": [
    "df_cv.query('clf == \"RF\"')"
   ]
  },
  {
   "cell_type": "code",
   "execution_count": 21,
   "metadata": {},
   "outputs": [
    {
     "data": {
      "text/html": [
       "<div>\n",
       "<style scoped>\n",
       "    .dataframe tbody tr th:only-of-type {\n",
       "        vertical-align: middle;\n",
       "    }\n",
       "\n",
       "    .dataframe tbody tr th {\n",
       "        vertical-align: top;\n",
       "    }\n",
       "\n",
       "    .dataframe thead th {\n",
       "        text-align: right;\n",
       "    }\n",
       "</style>\n",
       "<table border=\"1\" class=\"dataframe\">\n",
       "  <thead>\n",
       "    <tr style=\"text-align: right;\">\n",
       "      <th></th>\n",
       "      <th>mean_fit_time</th>\n",
       "      <th>std_fit_time</th>\n",
       "      <th>mean_score_time</th>\n",
       "      <th>std_score_time</th>\n",
       "      <th>n_estimators</th>\n",
       "      <th>max_features</th>\n",
       "      <th>max_depth</th>\n",
       "      <th>params</th>\n",
       "      <th>split0_test_score</th>\n",
       "      <th>split1_test_score</th>\n",
       "      <th>split2_test_score</th>\n",
       "      <th>split3_test_score</th>\n",
       "      <th>split4_test_score</th>\n",
       "      <th>mean_test_score</th>\n",
       "      <th>std_test_score</th>\n",
       "      <th>rank_test_score</th>\n",
       "      <th>clf</th>\n",
       "    </tr>\n",
       "  </thead>\n",
       "  <tbody>\n",
       "    <tr>\n",
       "      <th>0</th>\n",
       "      <td>0.007374</td>\n",
       "      <td>0.000372</td>\n",
       "      <td>0.000845</td>\n",
       "      <td>0.000063</td>\n",
       "      <td>1</td>\n",
       "      <td>sqrt</td>\n",
       "      <td>5</td>\n",
       "      <td>{'n_estimators': 1, 'max_features': 'sqrt', 'm...</td>\n",
       "      <td>0.5025</td>\n",
       "      <td>0.5230</td>\n",
       "      <td>0.4965</td>\n",
       "      <td>0.4885</td>\n",
       "      <td>0.5050</td>\n",
       "      <td>0.503</td>\n",
       "      <td>0.011460</td>\n",
       "      <td>18</td>\n",
       "      <td>OF</td>\n",
       "    </tr>\n",
       "    <tr>\n",
       "      <th>1</th>\n",
       "      <td>0.249383</td>\n",
       "      <td>0.007479</td>\n",
       "      <td>0.003744</td>\n",
       "      <td>0.000158</td>\n",
       "      <td>5</td>\n",
       "      <td>None</td>\n",
       "      <td>10</td>\n",
       "      <td>{'n_estimators': 5, 'max_features': None, 'max...</td>\n",
       "      <td>0.6255</td>\n",
       "      <td>0.5245</td>\n",
       "      <td>0.8550</td>\n",
       "      <td>0.5995</td>\n",
       "      <td>0.5105</td>\n",
       "      <td>0.623</td>\n",
       "      <td>0.123888</td>\n",
       "      <td>6</td>\n",
       "      <td>OF</td>\n",
       "    </tr>\n",
       "    <tr>\n",
       "      <th>2</th>\n",
       "      <td>0.027468</td>\n",
       "      <td>0.000788</td>\n",
       "      <td>0.001009</td>\n",
       "      <td>0.000049</td>\n",
       "      <td>1</td>\n",
       "      <td>None</td>\n",
       "      <td>5</td>\n",
       "      <td>{'n_estimators': 1, 'max_features': None, 'max...</td>\n",
       "      <td>0.5065</td>\n",
       "      <td>0.5185</td>\n",
       "      <td>0.5070</td>\n",
       "      <td>0.4945</td>\n",
       "      <td>0.5100</td>\n",
       "      <td>0.507</td>\n",
       "      <td>0.007711</td>\n",
       "      <td>14</td>\n",
       "      <td>OF</td>\n",
       "    </tr>\n",
       "    <tr>\n",
       "      <th>3</th>\n",
       "      <td>1.400939</td>\n",
       "      <td>0.128249</td>\n",
       "      <td>0.009859</td>\n",
       "      <td>0.000919</td>\n",
       "      <td>10</td>\n",
       "      <td>40</td>\n",
       "      <td>None</td>\n",
       "      <td>{'n_estimators': 10, 'max_features': 40, 'max_...</td>\n",
       "      <td>0.8790</td>\n",
       "      <td>0.9465</td>\n",
       "      <td>0.8650</td>\n",
       "      <td>0.9750</td>\n",
       "      <td>0.9195</td>\n",
       "      <td>0.917</td>\n",
       "      <td>0.040960</td>\n",
       "      <td>2</td>\n",
       "      <td>OF</td>\n",
       "    </tr>\n",
       "    <tr>\n",
       "      <th>4</th>\n",
       "      <td>2.886319</td>\n",
       "      <td>0.110457</td>\n",
       "      <td>0.018642</td>\n",
       "      <td>0.000485</td>\n",
       "      <td>20</td>\n",
       "      <td>40</td>\n",
       "      <td>None</td>\n",
       "      <td>{'n_estimators': 20, 'max_features': 40, 'max_...</td>\n",
       "      <td>0.9450</td>\n",
       "      <td>0.9615</td>\n",
       "      <td>0.9395</td>\n",
       "      <td>0.9710</td>\n",
       "      <td>0.9520</td>\n",
       "      <td>0.954</td>\n",
       "      <td>0.011316</td>\n",
       "      <td>1</td>\n",
       "      <td>OF</td>\n",
       "    </tr>\n",
       "    <tr>\n",
       "      <th>5</th>\n",
       "      <td>0.087841</td>\n",
       "      <td>0.001680</td>\n",
       "      <td>0.001714</td>\n",
       "      <td>0.000283</td>\n",
       "      <td>5</td>\n",
       "      <td>40</td>\n",
       "      <td>2</td>\n",
       "      <td>{'n_estimators': 5, 'max_features': 40, 'max_d...</td>\n",
       "      <td>0.5245</td>\n",
       "      <td>0.5080</td>\n",
       "      <td>0.4950</td>\n",
       "      <td>0.5175</td>\n",
       "      <td>0.5190</td>\n",
       "      <td>0.513</td>\n",
       "      <td>0.010366</td>\n",
       "      <td>11</td>\n",
       "      <td>OF</td>\n",
       "    </tr>\n",
       "    <tr>\n",
       "      <th>6</th>\n",
       "      <td>0.039725</td>\n",
       "      <td>0.000589</td>\n",
       "      <td>0.001340</td>\n",
       "      <td>0.000097</td>\n",
       "      <td>5</td>\n",
       "      <td>40</td>\n",
       "      <td>1</td>\n",
       "      <td>{'n_estimators': 5, 'max_features': 40, 'max_d...</td>\n",
       "      <td>0.5170</td>\n",
       "      <td>0.5055</td>\n",
       "      <td>0.5050</td>\n",
       "      <td>0.4925</td>\n",
       "      <td>0.5115</td>\n",
       "      <td>0.506</td>\n",
       "      <td>0.008177</td>\n",
       "      <td>16</td>\n",
       "      <td>OF</td>\n",
       "    </tr>\n",
       "    <tr>\n",
       "      <th>7</th>\n",
       "      <td>0.022542</td>\n",
       "      <td>0.001404</td>\n",
       "      <td>0.001879</td>\n",
       "      <td>0.000228</td>\n",
       "      <td>1</td>\n",
       "      <td>sqrt</td>\n",
       "      <td>None</td>\n",
       "      <td>{'n_estimators': 1, 'max_features': 'sqrt', 'm...</td>\n",
       "      <td>0.5055</td>\n",
       "      <td>0.5210</td>\n",
       "      <td>0.5295</td>\n",
       "      <td>0.5025</td>\n",
       "      <td>0.5050</td>\n",
       "      <td>0.513</td>\n",
       "      <td>0.010642</td>\n",
       "      <td>12</td>\n",
       "      <td>OF</td>\n",
       "    </tr>\n",
       "    <tr>\n",
       "      <th>8</th>\n",
       "      <td>0.975629</td>\n",
       "      <td>0.007436</td>\n",
       "      <td>0.007274</td>\n",
       "      <td>0.000207</td>\n",
       "      <td>20</td>\n",
       "      <td>40</td>\n",
       "      <td>5</td>\n",
       "      <td>{'n_estimators': 20, 'max_features': 40, 'max_...</td>\n",
       "      <td>0.6445</td>\n",
       "      <td>0.6385</td>\n",
       "      <td>0.8650</td>\n",
       "      <td>0.6535</td>\n",
       "      <td>0.6090</td>\n",
       "      <td>0.682</td>\n",
       "      <td>0.092659</td>\n",
       "      <td>5</td>\n",
       "      <td>OF</td>\n",
       "    </tr>\n",
       "    <tr>\n",
       "      <th>9</th>\n",
       "      <td>0.031864</td>\n",
       "      <td>0.000518</td>\n",
       "      <td>0.002241</td>\n",
       "      <td>0.000090</td>\n",
       "      <td>5</td>\n",
       "      <td>sqrt</td>\n",
       "      <td>5</td>\n",
       "      <td>{'n_estimators': 5, 'max_features': 'sqrt', 'm...</td>\n",
       "      <td>0.4925</td>\n",
       "      <td>0.5105</td>\n",
       "      <td>0.4870</td>\n",
       "      <td>0.5030</td>\n",
       "      <td>0.5195</td>\n",
       "      <td>0.502</td>\n",
       "      <td>0.011777</td>\n",
       "      <td>19</td>\n",
       "      <td>OF</td>\n",
       "    </tr>\n",
       "    <tr>\n",
       "      <th>10</th>\n",
       "      <td>0.129852</td>\n",
       "      <td>0.001876</td>\n",
       "      <td>0.002508</td>\n",
       "      <td>0.000347</td>\n",
       "      <td>5</td>\n",
       "      <td>None</td>\n",
       "      <td>5</td>\n",
       "      <td>{'n_estimators': 5, 'max_features': None, 'max...</td>\n",
       "      <td>0.5150</td>\n",
       "      <td>0.5385</td>\n",
       "      <td>0.6355</td>\n",
       "      <td>0.4955</td>\n",
       "      <td>0.5280</td>\n",
       "      <td>0.542</td>\n",
       "      <td>0.048663</td>\n",
       "      <td>10</td>\n",
       "      <td>OF</td>\n",
       "    </tr>\n",
       "    <tr>\n",
       "      <th>11</th>\n",
       "      <td>0.512544</td>\n",
       "      <td>0.004095</td>\n",
       "      <td>0.007368</td>\n",
       "      <td>0.000245</td>\n",
       "      <td>20</td>\n",
       "      <td>None</td>\n",
       "      <td>5</td>\n",
       "      <td>{'n_estimators': 20, 'max_features': None, 'ma...</td>\n",
       "      <td>0.5635</td>\n",
       "      <td>0.5775</td>\n",
       "      <td>0.6195</td>\n",
       "      <td>0.5135</td>\n",
       "      <td>0.5630</td>\n",
       "      <td>0.567</td>\n",
       "      <td>0.033930</td>\n",
       "      <td>8</td>\n",
       "      <td>OF</td>\n",
       "    </tr>\n",
       "    <tr>\n",
       "      <th>12</th>\n",
       "      <td>0.414337</td>\n",
       "      <td>0.007337</td>\n",
       "      <td>0.022909</td>\n",
       "      <td>0.000492</td>\n",
       "      <td>20</td>\n",
       "      <td>sqrt</td>\n",
       "      <td>None</td>\n",
       "      <td>{'n_estimators': 20, 'max_features': 'sqrt', '...</td>\n",
       "      <td>0.5900</td>\n",
       "      <td>0.6290</td>\n",
       "      <td>0.5950</td>\n",
       "      <td>0.6125</td>\n",
       "      <td>0.5795</td>\n",
       "      <td>0.601</td>\n",
       "      <td>0.017523</td>\n",
       "      <td>7</td>\n",
       "      <td>OF</td>\n",
       "    </tr>\n",
       "    <tr>\n",
       "      <th>13</th>\n",
       "      <td>0.063905</td>\n",
       "      <td>0.001242</td>\n",
       "      <td>0.004033</td>\n",
       "      <td>0.000278</td>\n",
       "      <td>10</td>\n",
       "      <td>sqrt</td>\n",
       "      <td>5</td>\n",
       "      <td>{'n_estimators': 10, 'max_features': 'sqrt', '...</td>\n",
       "      <td>0.5030</td>\n",
       "      <td>0.5140</td>\n",
       "      <td>0.4885</td>\n",
       "      <td>0.5060</td>\n",
       "      <td>0.5210</td>\n",
       "      <td>0.506</td>\n",
       "      <td>0.010982</td>\n",
       "      <td>15</td>\n",
       "      <td>OF</td>\n",
       "    </tr>\n",
       "    <tr>\n",
       "      <th>14</th>\n",
       "      <td>0.469169</td>\n",
       "      <td>0.017862</td>\n",
       "      <td>0.003546</td>\n",
       "      <td>0.000142</td>\n",
       "      <td>5</td>\n",
       "      <td>40</td>\n",
       "      <td>10</td>\n",
       "      <td>{'n_estimators': 5, 'max_features': 40, 'max_d...</td>\n",
       "      <td>0.6530</td>\n",
       "      <td>0.5725</td>\n",
       "      <td>0.8630</td>\n",
       "      <td>0.8930</td>\n",
       "      <td>0.8360</td>\n",
       "      <td>0.763</td>\n",
       "      <td>0.126979</td>\n",
       "      <td>4</td>\n",
       "      <td>OF</td>\n",
       "    </tr>\n",
       "    <tr>\n",
       "      <th>15</th>\n",
       "      <td>0.232263</td>\n",
       "      <td>0.003285</td>\n",
       "      <td>0.012459</td>\n",
       "      <td>0.000422</td>\n",
       "      <td>20</td>\n",
       "      <td>sqrt</td>\n",
       "      <td>10</td>\n",
       "      <td>{'n_estimators': 20, 'max_features': 'sqrt', '...</td>\n",
       "      <td>0.6100</td>\n",
       "      <td>0.5380</td>\n",
       "      <td>0.6095</td>\n",
       "      <td>0.5145</td>\n",
       "      <td>0.5565</td>\n",
       "      <td>0.566</td>\n",
       "      <td>0.038352</td>\n",
       "      <td>9</td>\n",
       "      <td>OF</td>\n",
       "    </tr>\n",
       "    <tr>\n",
       "      <th>16</th>\n",
       "      <td>0.931505</td>\n",
       "      <td>0.023374</td>\n",
       "      <td>0.006479</td>\n",
       "      <td>0.000177</td>\n",
       "      <td>10</td>\n",
       "      <td>40</td>\n",
       "      <td>10</td>\n",
       "      <td>{'n_estimators': 10, 'max_features': 40, 'max_...</td>\n",
       "      <td>0.7845</td>\n",
       "      <td>0.8480</td>\n",
       "      <td>0.8200</td>\n",
       "      <td>0.9150</td>\n",
       "      <td>0.8820</td>\n",
       "      <td>0.850</td>\n",
       "      <td>0.045702</td>\n",
       "      <td>3</td>\n",
       "      <td>OF</td>\n",
       "    </tr>\n",
       "    <tr>\n",
       "      <th>17</th>\n",
       "      <td>0.002654</td>\n",
       "      <td>0.000250</td>\n",
       "      <td>0.000720</td>\n",
       "      <td>0.000154</td>\n",
       "      <td>1</td>\n",
       "      <td>sqrt</td>\n",
       "      <td>1</td>\n",
       "      <td>{'n_estimators': 1, 'max_features': 'sqrt', 'm...</td>\n",
       "      <td>0.4980</td>\n",
       "      <td>0.5030</td>\n",
       "      <td>0.5030</td>\n",
       "      <td>0.4960</td>\n",
       "      <td>0.4985</td>\n",
       "      <td>0.500</td>\n",
       "      <td>0.002821</td>\n",
       "      <td>20</td>\n",
       "      <td>OF</td>\n",
       "    </tr>\n",
       "    <tr>\n",
       "      <th>18</th>\n",
       "      <td>0.192563</td>\n",
       "      <td>0.002225</td>\n",
       "      <td>0.004412</td>\n",
       "      <td>0.000187</td>\n",
       "      <td>20</td>\n",
       "      <td>None</td>\n",
       "      <td>2</td>\n",
       "      <td>{'n_estimators': 20, 'max_features': None, 'ma...</td>\n",
       "      <td>0.5005</td>\n",
       "      <td>0.5120</td>\n",
       "      <td>0.5125</td>\n",
       "      <td>0.5005</td>\n",
       "      <td>0.5120</td>\n",
       "      <td>0.508</td>\n",
       "      <td>0.005718</td>\n",
       "      <td>13</td>\n",
       "      <td>OF</td>\n",
       "    </tr>\n",
       "    <tr>\n",
       "      <th>19</th>\n",
       "      <td>0.057353</td>\n",
       "      <td>0.000874</td>\n",
       "      <td>0.004205</td>\n",
       "      <td>0.000069</td>\n",
       "      <td>20</td>\n",
       "      <td>sqrt</td>\n",
       "      <td>2</td>\n",
       "      <td>{'n_estimators': 20, 'max_features': 'sqrt', '...</td>\n",
       "      <td>0.5010</td>\n",
       "      <td>0.5180</td>\n",
       "      <td>0.4870</td>\n",
       "      <td>0.5185</td>\n",
       "      <td>0.4935</td>\n",
       "      <td>0.504</td>\n",
       "      <td>0.012757</td>\n",
       "      <td>17</td>\n",
       "      <td>OF</td>\n",
       "    </tr>\n",
       "  </tbody>\n",
       "</table>\n",
       "</div>"
      ],
      "text/plain": [
       "    mean_fit_time  std_fit_time  mean_score_time  std_score_time  \\\n",
       "0        0.007374      0.000372         0.000845        0.000063   \n",
       "1        0.249383      0.007479         0.003744        0.000158   \n",
       "2        0.027468      0.000788         0.001009        0.000049   \n",
       "3        1.400939      0.128249         0.009859        0.000919   \n",
       "4        2.886319      0.110457         0.018642        0.000485   \n",
       "5        0.087841      0.001680         0.001714        0.000283   \n",
       "6        0.039725      0.000589         0.001340        0.000097   \n",
       "7        0.022542      0.001404         0.001879        0.000228   \n",
       "8        0.975629      0.007436         0.007274        0.000207   \n",
       "9        0.031864      0.000518         0.002241        0.000090   \n",
       "10       0.129852      0.001876         0.002508        0.000347   \n",
       "11       0.512544      0.004095         0.007368        0.000245   \n",
       "12       0.414337      0.007337         0.022909        0.000492   \n",
       "13       0.063905      0.001242         0.004033        0.000278   \n",
       "14       0.469169      0.017862         0.003546        0.000142   \n",
       "15       0.232263      0.003285         0.012459        0.000422   \n",
       "16       0.931505      0.023374         0.006479        0.000177   \n",
       "17       0.002654      0.000250         0.000720        0.000154   \n",
       "18       0.192563      0.002225         0.004412        0.000187   \n",
       "19       0.057353      0.000874         0.004205        0.000069   \n",
       "\n",
       "    n_estimators max_features max_depth  \\\n",
       "0              1         sqrt         5   \n",
       "1              5         None        10   \n",
       "2              1         None         5   \n",
       "3             10           40      None   \n",
       "4             20           40      None   \n",
       "5              5           40         2   \n",
       "6              5           40         1   \n",
       "7              1         sqrt      None   \n",
       "8             20           40         5   \n",
       "9              5         sqrt         5   \n",
       "10             5         None         5   \n",
       "11            20         None         5   \n",
       "12            20         sqrt      None   \n",
       "13            10         sqrt         5   \n",
       "14             5           40        10   \n",
       "15            20         sqrt        10   \n",
       "16            10           40        10   \n",
       "17             1         sqrt         1   \n",
       "18            20         None         2   \n",
       "19            20         sqrt         2   \n",
       "\n",
       "                                               params  split0_test_score  \\\n",
       "0   {'n_estimators': 1, 'max_features': 'sqrt', 'm...             0.5025   \n",
       "1   {'n_estimators': 5, 'max_features': None, 'max...             0.6255   \n",
       "2   {'n_estimators': 1, 'max_features': None, 'max...             0.5065   \n",
       "3   {'n_estimators': 10, 'max_features': 40, 'max_...             0.8790   \n",
       "4   {'n_estimators': 20, 'max_features': 40, 'max_...             0.9450   \n",
       "5   {'n_estimators': 5, 'max_features': 40, 'max_d...             0.5245   \n",
       "6   {'n_estimators': 5, 'max_features': 40, 'max_d...             0.5170   \n",
       "7   {'n_estimators': 1, 'max_features': 'sqrt', 'm...             0.5055   \n",
       "8   {'n_estimators': 20, 'max_features': 40, 'max_...             0.6445   \n",
       "9   {'n_estimators': 5, 'max_features': 'sqrt', 'm...             0.4925   \n",
       "10  {'n_estimators': 5, 'max_features': None, 'max...             0.5150   \n",
       "11  {'n_estimators': 20, 'max_features': None, 'ma...             0.5635   \n",
       "12  {'n_estimators': 20, 'max_features': 'sqrt', '...             0.5900   \n",
       "13  {'n_estimators': 10, 'max_features': 'sqrt', '...             0.5030   \n",
       "14  {'n_estimators': 5, 'max_features': 40, 'max_d...             0.6530   \n",
       "15  {'n_estimators': 20, 'max_features': 'sqrt', '...             0.6100   \n",
       "16  {'n_estimators': 10, 'max_features': 40, 'max_...             0.7845   \n",
       "17  {'n_estimators': 1, 'max_features': 'sqrt', 'm...             0.4980   \n",
       "18  {'n_estimators': 20, 'max_features': None, 'ma...             0.5005   \n",
       "19  {'n_estimators': 20, 'max_features': 'sqrt', '...             0.5010   \n",
       "\n",
       "    split1_test_score  split2_test_score  split3_test_score  \\\n",
       "0              0.5230             0.4965             0.4885   \n",
       "1              0.5245             0.8550             0.5995   \n",
       "2              0.5185             0.5070             0.4945   \n",
       "3              0.9465             0.8650             0.9750   \n",
       "4              0.9615             0.9395             0.9710   \n",
       "5              0.5080             0.4950             0.5175   \n",
       "6              0.5055             0.5050             0.4925   \n",
       "7              0.5210             0.5295             0.5025   \n",
       "8              0.6385             0.8650             0.6535   \n",
       "9              0.5105             0.4870             0.5030   \n",
       "10             0.5385             0.6355             0.4955   \n",
       "11             0.5775             0.6195             0.5135   \n",
       "12             0.6290             0.5950             0.6125   \n",
       "13             0.5140             0.4885             0.5060   \n",
       "14             0.5725             0.8630             0.8930   \n",
       "15             0.5380             0.6095             0.5145   \n",
       "16             0.8480             0.8200             0.9150   \n",
       "17             0.5030             0.5030             0.4960   \n",
       "18             0.5120             0.5125             0.5005   \n",
       "19             0.5180             0.4870             0.5185   \n",
       "\n",
       "    split4_test_score  mean_test_score  std_test_score  rank_test_score clf  \n",
       "0              0.5050            0.503        0.011460               18  OF  \n",
       "1              0.5105            0.623        0.123888                6  OF  \n",
       "2              0.5100            0.507        0.007711               14  OF  \n",
       "3              0.9195            0.917        0.040960                2  OF  \n",
       "4              0.9520            0.954        0.011316                1  OF  \n",
       "5              0.5190            0.513        0.010366               11  OF  \n",
       "6              0.5115            0.506        0.008177               16  OF  \n",
       "7              0.5050            0.513        0.010642               12  OF  \n",
       "8              0.6090            0.682        0.092659                5  OF  \n",
       "9              0.5195            0.502        0.011777               19  OF  \n",
       "10             0.5280            0.542        0.048663               10  OF  \n",
       "11             0.5630            0.567        0.033930                8  OF  \n",
       "12             0.5795            0.601        0.017523                7  OF  \n",
       "13             0.5210            0.506        0.010982               15  OF  \n",
       "14             0.8360            0.763        0.126979                4  OF  \n",
       "15             0.5565            0.566        0.038352                9  OF  \n",
       "16             0.8820            0.850        0.045702                3  OF  \n",
       "17             0.4985            0.500        0.002821               20  OF  \n",
       "18             0.5120            0.508        0.005718               13  OF  \n",
       "19             0.4935            0.504        0.012757               17  OF  "
      ]
     },
     "execution_count": 21,
     "metadata": {},
     "output_type": "execute_result"
    }
   ],
   "source": [
    "df_cv.query('clf == \"OF\"')"
   ]
  },
  {
   "cell_type": "code",
   "execution_count": null,
   "metadata": {},
   "outputs": [],
   "source": []
  }
 ],
 "metadata": {
  "interpreter": {
   "hash": "93e4dc7d4754bd0325258ba14c14aaf66418ce0b9905eb4643088c0b3d7c1548"
  },
  "kernelspec": {
   "display_name": "Python 3.8.13 ('of')",
   "language": "python",
   "name": "python3"
  },
  "language_info": {
   "codemirror_mode": {
    "name": "ipython",
    "version": 3
   },
   "file_extension": ".py",
   "mimetype": "text/x-python",
   "name": "python",
   "nbconvert_exporter": "python",
   "pygments_lexer": "ipython3",
   "version": "3.8.13"
  },
  "orig_nbformat": 4
 },
 "nbformat": 4,
 "nbformat_minor": 2
}
