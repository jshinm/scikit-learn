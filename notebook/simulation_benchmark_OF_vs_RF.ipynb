{
 "cells": [
  {
   "cell_type": "markdown",
   "metadata": {},
   "source": [
    "# Comparing axis-aligned random forest versus oblique forest on simulation datasets\n",
    "The previous notebook conducted visual analysis using `Iris` dataset. Here we extend our analysis using custom simulation dataset: `sparse_parity`, from which OF demonstrates significant performance improvement over RF. Additionally, we prepared two toy datasets from scikit-learn dataset module, `make_hastie_10_2` and `make_gaussain_quantiles`, that also simulates high-dimentionality problems. OF also outperforms RF on these datasets but in lesser degree."
   ]
  },
  {
   "cell_type": "markdown",
   "metadata": {},
   "source": [
    "### Environment\n",
    "- Python 3.8.13\n",
    "- [Sklearn-Adam's dev branch](https://github.com/neurodata/scikit-learn/tree/obliquepr)"
   ]
  },
  {
   "cell_type": "code",
   "execution_count": 1,
   "metadata": {},
   "outputs": [
    {
     "name": "stdout",
     "output_type": "stream",
     "text": [
      "Python 3.8.13\n"
     ]
    }
   ],
   "source": [
    "!python --version"
   ]
  },
  {
   "cell_type": "markdown",
   "metadata": {},
   "source": [
    "### Import packages"
   ]
  },
  {
   "cell_type": "code",
   "execution_count": 2,
   "metadata": {},
   "outputs": [
    {
     "data": {
      "text/plain": [
       "'1.2.dev0'"
      ]
     },
     "execution_count": 2,
     "metadata": {},
     "output_type": "execute_result"
    }
   ],
   "source": [
    "import sklearn\n",
    "from sklearn.ensemble import RandomForestClassifier, ObliqueRandomForestClassifier\n",
    "from sklearn.metrics import accuracy_score\n",
    "from sklearn.datasets import make_hastie_10_2, make_gaussian_quantiles #imported in case of testing\n",
    "from sklearn.model_selection import RepeatedKFold, cross_validate\n",
    "\n",
    "from datetime import datetime\n",
    "from tqdm import tqdm\n",
    "import itertools\n",
    "import os\n",
    "import pickle\n",
    "\n",
    "import numpy as np\n",
    "import pandas as pd\n",
    "import seaborn as sns\n",
    "import matplotlib.pyplot as plt\n",
    "\n",
    "random_state = 123456\n",
    "\n",
    "sklearn.__version__"
   ]
  },
  {
   "cell_type": "code",
   "execution_count": 3,
   "metadata": {},
   "outputs": [
    {
     "data": {
      "text/plain": [
       "'2022-06-15'"
      ]
     },
     "execution_count": 3,
     "metadata": {},
     "output_type": "execute_result"
    }
   ],
   "source": [
    "today = str(datetime.now().date())\n",
    "today"
   ]
  },
  {
   "cell_type": "markdown",
   "metadata": {},
   "source": [
    "### Generating sparse parity simulation data\n",
    "Sparse parity is a variation of the noisy parity problem, which itself is a multivariate generalization of the noisy XOR problem. This is a binary classification task in high dimensions. The simulation will generate uniformly distributed `n_samples` number of sample points in the range of -1 and +1 with `p` number of features. `p*` is a parameter used to limit features that carry information about the class. The informative binary label is then defined as 1 if there are odd number of the sum of data `X` across first `p*` features that are greater than 0, otherwise the label is defined as 0. The simulation is further detailed in our [publication](https://epubs.siam.org/doi/epdf/10.1137/1.9781611974973.56)."
   ]
  },
  {
   "cell_type": "code",
   "execution_count": 4,
   "metadata": {},
   "outputs": [],
   "source": [
    "def sparse_parity(n_samples, p=20, p_star=3, random_seed=None, **kwarg):\n",
    " \n",
    "    if random_seed: \n",
    "        np.random.seed(random_seed)\n",
    "\n",
    "    X = np.random.uniform(-1, 1, (n_samples, p))\n",
    "    y = np.zeros(n_samples)\n",
    "\n",
    "    for i in range(0, n_samples):\n",
    "        y[i] = sum(X[i, :p_star] > 0) % 2;\n",
    "\n",
    "    return X, y"
   ]
  },
  {
   "cell_type": "code",
   "execution_count": 5,
   "metadata": {},
   "outputs": [],
   "source": [
    "def get_sample(func, n, m=None, o=None):\n",
    "    k = {}\n",
    "\n",
    "    np.random.seed(random_state)\n",
    "\n",
    "    if m: k['noise'] = m\n",
    "    if o: k['n_features'] = o\n",
    "\n",
    "    k['n_samples'] = n\n",
    "    k['random_state'] = random_state # random_state for classifiers\n",
    "\n",
    "    X, y = func(**k)\n",
    "\n",
    "    return X, y\n",
    "\n",
    "def get_scores(X, y, max_features, max_depth, random_state, n_cv, n_repeats):\n",
    "\n",
    "    clfs = [\n",
    "        RandomForestClassifier(max_features=max_features, max_depth=max_depth, random_state=random_state),\n",
    "        ObliqueRandomForestClassifier(max_features=max_features, max_depth=max_depth, random_state=random_state)\n",
    "    ]\n",
    "\n",
    "    tmp = []\n",
    "\n",
    "    for i, clf in enumerate(clfs):\n",
    "\n",
    "        # if i == 0 and isinstance(max_features, int):\n",
    "            # if max_features > X.shape[1]:\n",
    "            #     tmp.append(np.zeros(n_cv * n_repeats))\n",
    "            #     continue\n",
    "\n",
    "        cv = RepeatedKFold(n_splits=n_cv, n_repeats=n_repeats, random_state=random_state)\n",
    "        test_score = cross_validate(estimator=clf, X=X, y=y, cv=cv, scoring='accuracy')\n",
    "        \n",
    "        tmp.append(\n",
    "            test_score['test_score']\n",
    "        )\n",
    "\n",
    "    # print(f'max_feature: {max_features} | max_depth: {max_depth}')\n",
    "\n",
    "    return tmp"
   ]
  },
  {
   "cell_type": "code",
   "execution_count": 6,
   "metadata": {},
   "outputs": [
    {
     "data": {
      "text/plain": [
       "((500, 2), (500,), (5000, 3), (5000,))"
      ]
     },
     "execution_count": 6,
     "metadata": {},
     "output_type": "execute_result"
    }
   ],
   "source": [
    "X1,y1 = sparse_parity(n_samples=500,p=2,p_star=2)\n",
    "X2,y2 = sparse_parity(n_samples=5000,p=3,p_star=3)\n",
    "X1.shape, y1.shape, X2.shape, y2.shape"
   ]
  },
  {
   "cell_type": "markdown",
   "metadata": {},
   "source": [
    "### Visualization of sparse parity at low dimension\n",
    "At `p=2`, sparse partiy becomes noisy XOR problem (left). Adding one more dimension makes the 3D XOR problem (right)."
   ]
  },
  {
   "cell_type": "code",
   "execution_count": 7,
   "metadata": {},
   "outputs": [
    {
     "data": {
      "text/plain": [
       "Text(0.5, 0.92, 'Sparse Parity at p=3')"
      ]
     },
     "execution_count": 7,
     "metadata": {},
     "output_type": "execute_result"
    },
    {
     "data": {
      "image/png": "[encoded data removed]",
      "text/plain": [
       "<Figure size 864x432 with 2 Axes>"
      ]
     },
     "metadata": {
      "needs_background": "light"
     },
     "output_type": "display_data"
    }
   ],
   "source": [
    "fig = plt.figure(figsize=(12,6))\n",
    "ax = fig.add_subplot(121)\n",
    "ax.scatter(X1[:,0],X1[:,1], c=y1, cmap='PRGn')\n",
    "ax.set_title('Sparse Parity at p=2')\n",
    "\n",
    "ax = fig.add_subplot(122, projection='3d')\n",
    "ax.scatter(X2[:,0],X2[:,1],X2[:,2], c=y2, cmap='PRGn')\n",
    "ax.set_title('Sparse Parity at p=3')"
   ]
  },
  {
   "cell_type": "code",
   "execution_count": 8,
   "metadata": {},
   "outputs": [],
   "source": [
    "def run_experiment(n_repeat, n_cv, random_state):\n",
    "    n_samples = [100, 1000, 10000]\n",
    "    accs = []\n",
    "    \n",
    "    clf_kwarg = {\n",
    "        'max_features': None,\n",
    "        'max_depth': 10,\n",
    "        'random_state': random_state,\n",
    "        'n_repeats': n_repeat,\n",
    "        'n_cv': n_cv\n",
    "    }\n",
    "\n",
    "    for n_sample in tqdm(n_samples):\n",
    "        data_args = [\n",
    "            # name of dataset, function, n_sample, noise, n_features\n",
    "            ['sparse_parity', sparse_parity, n_sample],\n",
    "\n",
    "            #sklearn toy datasets can also be test by decommenting these lines\n",
    "            # ['make_gaussian_quantiles', make_gaussian_quantiles, n_sample, None, 5], \n",
    "            # ['make_hastie_10_2', make_hastie_10_2, n_sample]\n",
    "        ]\n",
    "\n",
    "        for arg in data_args:\n",
    "            X, y = get_sample(*arg[1:])\n",
    "            \n",
    "            for max_feature in ['sqrt', X.shape[1], X.shape[1]*2]: #max_features\n",
    "                clf_kwarg['max_features'] = max_feature\n",
    "\n",
    "                acc = get_scores(X, y, **clf_kwarg)\n",
    "                accs.append([arg[0], n_sample, n_repeat, max_feature, clf_kwarg['max_depth'], random_state] + acc)\n",
    "\n",
    "    df = pd.DataFrame(accs, columns=['dataset', 'n_sample', 'n_repeat', 'max_feature', 'max_depth', 'random_state', 'RF', 'OF'])\n",
    "    df['delta'] = df.apply(lambda x: x.OF-x.RF, axis=1)\n",
    "\n",
    "    # with open('dat/simulation_notebook_rf_vs_of.pkl', 'wb') as f:\n",
    "    #     pickle.dump(df, f, protocol=pickle.HIGHEST_PROTOCOL)\n",
    "\n",
    "    return df"
   ]
  },
  {
   "cell_type": "code",
   "execution_count": 9,
   "metadata": {},
   "outputs": [
    {
     "name": "stderr",
     "output_type": "stream",
     "text": [
      "100%|██████████| 3/3 [01:26<00:00, 28.81s/it]\n"
     ]
    }
   ],
   "source": [
    "df = run_experiment(n_repeat=1, n_cv=3, random_state=random_state)"
   ]
  },
  {
   "cell_type": "code",
   "execution_count": 10,
   "metadata": {},
   "outputs": [
    {
     "data": {
      "text/html": [
       "<div>\n",
       "<style scoped>\n",
       "    .dataframe tbody tr th:only-of-type {\n",
       "        vertical-align: middle;\n",
       "    }\n",
       "\n",
       "    .dataframe tbody tr th {\n",
       "        vertical-align: top;\n",
       "    }\n",
       "\n",
       "    .dataframe thead th {\n",
       "        text-align: right;\n",
       "    }\n",
       "</style>\n",
       "<table border=\"1\" class=\"dataframe\">\n",
       "  <thead>\n",
       "    <tr style=\"text-align: right;\">\n",
       "      <th></th>\n",
       "      <th>dataset</th>\n",
       "      <th>n_sample</th>\n",
       "      <th>max_feature</th>\n",
       "      <th>max_depth</th>\n",
       "      <th>RF</th>\n",
       "      <th>OF</th>\n",
       "      <th>delta</th>\n",
       "    </tr>\n",
       "  </thead>\n",
       "  <tbody>\n",
       "    <tr>\n",
       "      <th>0</th>\n",
       "      <td>sparse_parity</td>\n",
       "      <td>100</td>\n",
       "      <td>sqrt</td>\n",
       "      <td>10</td>\n",
       "      <td>0.441176</td>\n",
       "      <td>0.411765</td>\n",
       "      <td>-0.029412</td>\n",
       "    </tr>\n",
       "    <tr>\n",
       "      <th>0</th>\n",
       "      <td>sparse_parity</td>\n",
       "      <td>100</td>\n",
       "      <td>sqrt</td>\n",
       "      <td>10</td>\n",
       "      <td>0.363636</td>\n",
       "      <td>0.424242</td>\n",
       "      <td>0.060606</td>\n",
       "    </tr>\n",
       "    <tr>\n",
       "      <th>0</th>\n",
       "      <td>sparse_parity</td>\n",
       "      <td>100</td>\n",
       "      <td>sqrt</td>\n",
       "      <td>10</td>\n",
       "      <td>0.333333</td>\n",
       "      <td>0.424242</td>\n",
       "      <td>0.090909</td>\n",
       "    </tr>\n",
       "    <tr>\n",
       "      <th>1</th>\n",
       "      <td>sparse_parity</td>\n",
       "      <td>100</td>\n",
       "      <td>20</td>\n",
       "      <td>10</td>\n",
       "      <td>0.323529</td>\n",
       "      <td>0.294118</td>\n",
       "      <td>-0.029412</td>\n",
       "    </tr>\n",
       "    <tr>\n",
       "      <th>1</th>\n",
       "      <td>sparse_parity</td>\n",
       "      <td>100</td>\n",
       "      <td>20</td>\n",
       "      <td>10</td>\n",
       "      <td>0.424242</td>\n",
       "      <td>0.363636</td>\n",
       "      <td>-0.060606</td>\n",
       "    </tr>\n",
       "  </tbody>\n",
       "</table>\n",
       "</div>"
      ],
      "text/plain": [
       "         dataset  n_sample max_feature  max_depth        RF        OF  \\\n",
       "0  sparse_parity       100        sqrt         10  0.441176  0.411765   \n",
       "0  sparse_parity       100        sqrt         10  0.363636  0.424242   \n",
       "0  sparse_parity       100        sqrt         10  0.333333  0.424242   \n",
       "1  sparse_parity       100          20         10  0.323529  0.294118   \n",
       "1  sparse_parity       100          20         10  0.424242  0.363636   \n",
       "\n",
       "      delta  \n",
       "0 -0.029412  \n",
       "0  0.060606  \n",
       "0  0.090909  \n",
       "1 -0.029412  \n",
       "1 -0.060606  "
      ]
     },
     "execution_count": 10,
     "metadata": {},
     "output_type": "execute_result"
    }
   ],
   "source": [
    "df2 = df.copy()\n",
    "df2['max_depth'] = df2.max_depth.replace(np.nan, 'inf')\n",
    "df2 = df2.explode(['RF','OF','delta'])[['dataset','n_sample','max_feature','max_depth','RF','OF','delta']]\n",
    "df2.head()"
   ]
  },
  {
   "cell_type": "code",
   "execution_count": 11,
   "metadata": {},
   "outputs": [],
   "source": [
    "dset = df2.dataset.unique()\n",
    "max_depth = 10\n",
    "\n",
    "# for i, d in enumerate(dset):\n",
    "#     df_new = df2.query(f'dataset == \"{d}\" and max_depth == {max_depth}')\n",
    "#     n_feature = df_new[~(df_new.max_feature == 'sqrt')].max_feature.min() #minimum numeric max_feature\n",
    "\n",
    "#     df_mf1 = df_new.query(f'max_feature == {n_feature}') #RF max_feature to be compared with OF 2x, 3x max_feature\n",
    "\n",
    "#     for ns in df_mf1.n_sample.unique(): #n_sample\n",
    "#         for mf_not_1 in df_new.max_feature.unique():\n",
    "#             if mf_not_1 in [n_feature, 'sqrt']:\n",
    "#                 continue\n",
    "\n",
    "#             indexing = (df2.dataset==d) & (df2.max_depth==max_depth) & (df2.n_sample==ns) & (df2.max_feature==mf_not_1)\n",
    "#             df2.loc[indexing, ['RF']] = df_mf1.query(f'n_sample == {ns}').RF.tolist()\n",
    "\n",
    "df2['delta'] = df2.apply(lambda x: x.OF-x.RF, axis=1)"
   ]
  },
  {
   "cell_type": "code",
   "execution_count": 12,
   "metadata": {},
   "outputs": [
    {
     "data": {
      "text/html": [
       "<div>\n",
       "<style scoped>\n",
       "    .dataframe tbody tr th:only-of-type {\n",
       "        vertical-align: middle;\n",
       "    }\n",
       "\n",
       "    .dataframe tbody tr th {\n",
       "        vertical-align: top;\n",
       "    }\n",
       "\n",
       "    .dataframe thead th {\n",
       "        text-align: right;\n",
       "    }\n",
       "</style>\n",
       "<table border=\"1\" class=\"dataframe\">\n",
       "  <thead>\n",
       "    <tr style=\"text-align: right;\">\n",
       "      <th></th>\n",
       "      <th>dataset</th>\n",
       "      <th>n_sample</th>\n",
       "      <th>max_feature</th>\n",
       "      <th>max_depth</th>\n",
       "      <th>RF</th>\n",
       "      <th>OF</th>\n",
       "      <th>delta</th>\n",
       "    </tr>\n",
       "  </thead>\n",
       "  <tbody>\n",
       "    <tr>\n",
       "      <th>0</th>\n",
       "      <td>sparse_parity</td>\n",
       "      <td>100</td>\n",
       "      <td>sqrt</td>\n",
       "      <td>10</td>\n",
       "      <td>0.441176</td>\n",
       "      <td>0.411765</td>\n",
       "      <td>-0.029412</td>\n",
       "    </tr>\n",
       "    <tr>\n",
       "      <th>0</th>\n",
       "      <td>sparse_parity</td>\n",
       "      <td>100</td>\n",
       "      <td>sqrt</td>\n",
       "      <td>10</td>\n",
       "      <td>0.363636</td>\n",
       "      <td>0.424242</td>\n",
       "      <td>0.060606</td>\n",
       "    </tr>\n",
       "    <tr>\n",
       "      <th>0</th>\n",
       "      <td>sparse_parity</td>\n",
       "      <td>100</td>\n",
       "      <td>sqrt</td>\n",
       "      <td>10</td>\n",
       "      <td>0.333333</td>\n",
       "      <td>0.424242</td>\n",
       "      <td>0.090909</td>\n",
       "    </tr>\n",
       "    <tr>\n",
       "      <th>1</th>\n",
       "      <td>sparse_parity</td>\n",
       "      <td>100</td>\n",
       "      <td>20</td>\n",
       "      <td>10</td>\n",
       "      <td>0.323529</td>\n",
       "      <td>0.294118</td>\n",
       "      <td>-0.029412</td>\n",
       "    </tr>\n",
       "    <tr>\n",
       "      <th>1</th>\n",
       "      <td>sparse_parity</td>\n",
       "      <td>100</td>\n",
       "      <td>20</td>\n",
       "      <td>10</td>\n",
       "      <td>0.424242</td>\n",
       "      <td>0.363636</td>\n",
       "      <td>-0.060606</td>\n",
       "    </tr>\n",
       "  </tbody>\n",
       "</table>\n",
       "</div>"
      ],
      "text/plain": [
       "         dataset  n_sample max_feature  max_depth        RF        OF  \\\n",
       "0  sparse_parity       100        sqrt         10  0.441176  0.411765   \n",
       "0  sparse_parity       100        sqrt         10  0.363636  0.424242   \n",
       "0  sparse_parity       100        sqrt         10  0.333333  0.424242   \n",
       "1  sparse_parity       100          20         10  0.323529  0.294118   \n",
       "1  sparse_parity       100          20         10  0.424242  0.363636   \n",
       "\n",
       "      delta  \n",
       "0 -0.029412  \n",
       "0  0.060606  \n",
       "0  0.090909  \n",
       "1 -0.029412  \n",
       "1 -0.060606  "
      ]
     },
     "execution_count": 12,
     "metadata": {},
     "output_type": "execute_result"
    }
   ],
   "source": [
    "df2.head()"
   ]
  },
  {
   "cell_type": "markdown",
   "metadata": {},
   "source": [
    "### Base Model Result\n",
    "Three settings of the `max_features` are compared and their corresponding delta accuracy between OF and RF is shown as a bar plot. After a meaningful number of data is simulated (i.e., `n_samples` > 10^4), OF starts to outperform RF significantly across all `max_features` settings especially when `max_feature` is greater than or equal to `n_features`.\n",
    "\n",
    "The most likely reason for this is because OF should be more robust to high-dimensional noise. Moreover, due to the ability to sample more variable splits (i.e. `max_features` can be greater than `n_features` compared to RF), then we expect to see an increase in performance when we are willing to use computational power to sample more splits."
   ]
  },
  {
   "cell_type": "code",
   "execution_count": 133,
   "metadata": {},
   "outputs": [
    {
     "data": {
      "image/png": "[encoded data removed]",
      "text/plain": [
       "<Figure size 576x432 with 1 Axes>"
      ]
     },
     "metadata": {
      "needs_background": "light"
     },
     "output_type": "display_data"
    }
   ],
   "source": [
    "dset = df2.dataset.unique() #get the list of dataset loaded\n",
    "\n",
    "ncols = 1\n",
    "\n",
    "fig, ax = plt.subplots(figsize=(8,6))\n",
    "\n",
    "sns.stripplot(data=df_new, x='n_sample', y='delta', hue='max_feature', ax=ax, dodge=True)\n",
    "sns.boxplot(data=df_new, x='n_sample', y='delta', ax=ax, hue='max_feature', color='white')\n",
    "\n",
    "ax.set_ylabel(r'$\\Delta$ Accuracy (OF - RF)')\n",
    "ax.set_title('Low volume digits data', fontsize=18);\n",
    "ax.axhline(y=0, ls='--', color='black', alpha=0.3);\n",
    "ax.legend([],[], frameon=False);"
   ]
  },
  {
   "cell_type": "code",
   "execution_count": 138,
   "metadata": {},
   "outputs": [
    {
     "data": {
      "image/png": "[encoded data removed]",
      "text/plain": [
       "<Figure size 864x432 with 2 Axes>"
      ]
     },
     "metadata": {
      "needs_background": "light"
     },
     "output_type": "display_data"
    }
   ],
   "source": [
    "fig, ax = plt.subplots(1,2, figsize=(12,6))\n",
    "\n",
    "df_new2 = df_new.copy()\n",
    "df_new2.loc[df_new2.max_feature==40,'RF'] = 2 #remove 2x mtry from RF\n",
    "\n",
    "for i, j in enumerate(['RF', 'OF']):\n",
    "    g = sns.boxplot(data=df_new2, x='n_sample', y=j, ax=ax[i], hue='max_feature', color='white')\n",
    "    h = sns.stripplot(data=df_new2, x='n_sample', y=j, ax=ax[i], hue='max_feature', dodge=True)\n",
    "\n",
    "ax[0].set_ylabel(r'Accuracy', fontsize=15)\n",
    "ax[1].set_ylabel('', fontsize=15)\n",
    "ax[0].set_title('Random Forest', fontsize=18);\n",
    "ax[1].set_title('Oblique Forest', fontsize=18);\n",
    "\n",
    "for nc in range(2):\n",
    "    ax[nc].set_ylim(0.28,1.0)\n",
    "    ax[nc].legend([],[], frameon=False) #temp legend fix to remove double legends"
   ]
  },
  {
   "cell_type": "markdown",
   "metadata": {},
   "source": [
    "### Optimized Model Comparison via Grid Searching\n",
    "The following is the optimized result from grid searching best paramters of three features: `max_features`, `n_estimators`, `max_depth`"
   ]
  },
  {
   "cell_type": "code",
   "execution_count": 22,
   "metadata": {},
   "outputs": [],
   "source": [
    "from sklearn.model_selection import RandomizedSearchCV\n",
    "\n",
    "params = {\n",
    "    'max_features': ['sqrt', 'log2', None, 40],\n",
    "    'n_estimators': [i for i in range(100,1000,100)],\n",
    "    'max_depth': [5,10,15,20,None]\n",
    "}\n",
    "\n",
    "df_cv = pd.DataFrame()\n",
    "\n",
    "feat_cols = list(params.keys())+['mean_test_score','clf']\n",
    "\n",
    "clfs = [\n",
    "    RandomForestClassifier(random_state=random_state),\n",
    "    ObliqueRandomForestClassifier(random_state=random_state)\n",
    "]\n",
    "\n",
    "X, y = get_sample(sparse_parity, 10000)\n",
    "\n",
    "for clf, clf_lab in zip(clfs, ['RF', 'OF']):\n",
    "    search = RandomizedSearchCV(estimator=clf, param_distributions=params, n_iter=20, random_state=random_state)\n",
    "    search.fit(X, y)\n",
    "\n",
    "    df_tmp = pd.DataFrame(search.cv_results_)\n",
    "    df_tmp.columns = [i.replace('param_','') for i in df_tmp.columns]\n",
    "    df_tmp['clf'] = clf_lab\n",
    "    df_tmp.fillna('None', inplace=True)\n",
    "    df_tmp['mean_test_score'] = df_tmp.apply(lambda x: round(x['mean_test_score'], 3), axis=1)\n",
    "    df_cv = pd.concat([df_cv, df_tmp])"
   ]
  },
  {
   "cell_type": "code",
   "execution_count": 23,
   "metadata": {},
   "outputs": [
    {
     "data": {
      "text/html": [
       "<div>\n",
       "<style scoped>\n",
       "    .dataframe tbody tr th:only-of-type {\n",
       "        vertical-align: middle;\n",
       "    }\n",
       "\n",
       "    .dataframe tbody tr th {\n",
       "        vertical-align: top;\n",
       "    }\n",
       "\n",
       "    .dataframe thead th {\n",
       "        text-align: right;\n",
       "    }\n",
       "</style>\n",
       "<table border=\"1\" class=\"dataframe\">\n",
       "  <thead>\n",
       "    <tr style=\"text-align: right;\">\n",
       "      <th></th>\n",
       "      <th>max_features</th>\n",
       "      <th>n_estimators</th>\n",
       "      <th>max_depth</th>\n",
       "      <th>mean_test_score</th>\n",
       "      <th>clf</th>\n",
       "    </tr>\n",
       "  </thead>\n",
       "  <tbody>\n",
       "    <tr>\n",
       "      <th>0</th>\n",
       "      <td>40</td>\n",
       "      <td>700</td>\n",
       "      <td>None</td>\n",
       "      <td>0.898</td>\n",
       "      <td>RF</td>\n",
       "    </tr>\n",
       "    <tr>\n",
       "      <th>1</th>\n",
       "      <td>40</td>\n",
       "      <td>200</td>\n",
       "      <td>None</td>\n",
       "      <td>0.879</td>\n",
       "      <td>RF</td>\n",
       "    </tr>\n",
       "    <tr>\n",
       "      <th>2</th>\n",
       "      <td>40</td>\n",
       "      <td>900</td>\n",
       "      <td>15</td>\n",
       "      <td>0.872</td>\n",
       "      <td>RF</td>\n",
       "    </tr>\n",
       "    <tr>\n",
       "      <th>3</th>\n",
       "      <td>40</td>\n",
       "      <td>700</td>\n",
       "      <td>15</td>\n",
       "      <td>0.864</td>\n",
       "      <td>RF</td>\n",
       "    </tr>\n",
       "    <tr>\n",
       "      <th>4</th>\n",
       "      <td>None</td>\n",
       "      <td>100</td>\n",
       "      <td>15</td>\n",
       "      <td>0.835</td>\n",
       "      <td>RF</td>\n",
       "    </tr>\n",
       "  </tbody>\n",
       "</table>\n",
       "</div>"
      ],
      "text/plain": [
       "  max_features  n_estimators max_depth  mean_test_score clf\n",
       "0           40           700      None            0.898  RF\n",
       "1           40           200      None            0.879  RF\n",
       "2           40           900        15            0.872  RF\n",
       "3           40           700        15            0.864  RF\n",
       "4         None           100        15            0.835  RF"
      ]
     },
     "execution_count": 23,
     "metadata": {},
     "output_type": "execute_result"
    }
   ],
   "source": [
    "df_cv_rf = df_cv[feat_cols].query('clf == \"RF\"').sort_values(by='mean_test_score', ascending=False).reset_index(drop=True)\n",
    "df_cv_rf.head()"
   ]
  },
  {
   "cell_type": "code",
   "execution_count": 24,
   "metadata": {},
   "outputs": [
    {
     "data": {
      "text/html": [
       "<div>\n",
       "<style scoped>\n",
       "    .dataframe tbody tr th:only-of-type {\n",
       "        vertical-align: middle;\n",
       "    }\n",
       "\n",
       "    .dataframe tbody tr th {\n",
       "        vertical-align: top;\n",
       "    }\n",
       "\n",
       "    .dataframe thead th {\n",
       "        text-align: right;\n",
       "    }\n",
       "</style>\n",
       "<table border=\"1\" class=\"dataframe\">\n",
       "  <thead>\n",
       "    <tr style=\"text-align: right;\">\n",
       "      <th></th>\n",
       "      <th>max_features</th>\n",
       "      <th>n_estimators</th>\n",
       "      <th>max_depth</th>\n",
       "      <th>mean_test_score</th>\n",
       "      <th>clf</th>\n",
       "    </tr>\n",
       "  </thead>\n",
       "  <tbody>\n",
       "    <tr>\n",
       "      <th>0</th>\n",
       "      <td>40</td>\n",
       "      <td>900</td>\n",
       "      <td>15</td>\n",
       "      <td>0.997</td>\n",
       "      <td>OF</td>\n",
       "    </tr>\n",
       "    <tr>\n",
       "      <th>1</th>\n",
       "      <td>40</td>\n",
       "      <td>700</td>\n",
       "      <td>None</td>\n",
       "      <td>0.997</td>\n",
       "      <td>OF</td>\n",
       "    </tr>\n",
       "    <tr>\n",
       "      <th>2</th>\n",
       "      <td>40</td>\n",
       "      <td>700</td>\n",
       "      <td>15</td>\n",
       "      <td>0.997</td>\n",
       "      <td>OF</td>\n",
       "    </tr>\n",
       "    <tr>\n",
       "      <th>3</th>\n",
       "      <td>40</td>\n",
       "      <td>200</td>\n",
       "      <td>None</td>\n",
       "      <td>0.995</td>\n",
       "      <td>OF</td>\n",
       "    </tr>\n",
       "    <tr>\n",
       "      <th>4</th>\n",
       "      <td>None</td>\n",
       "      <td>100</td>\n",
       "      <td>15</td>\n",
       "      <td>0.946</td>\n",
       "      <td>OF</td>\n",
       "    </tr>\n",
       "  </tbody>\n",
       "</table>\n",
       "</div>"
      ],
      "text/plain": [
       "  max_features  n_estimators max_depth  mean_test_score clf\n",
       "0           40           900        15            0.997  OF\n",
       "1           40           700      None            0.997  OF\n",
       "2           40           700        15            0.997  OF\n",
       "3           40           200      None            0.995  OF\n",
       "4         None           100        15            0.946  OF"
      ]
     },
     "execution_count": 24,
     "metadata": {},
     "output_type": "execute_result"
    }
   ],
   "source": [
    "df_cv_of = df_cv[feat_cols].query('clf == \"OF\"').sort_values(by='mean_test_score', ascending=False).reset_index(drop=True)\n",
    "df_cv_of.head()"
   ]
  },
  {
   "cell_type": "markdown",
   "metadata": {},
   "source": [
    "### Visualization of parameterized grid search result"
   ]
  },
  {
   "cell_type": "code",
   "execution_count": 25,
   "metadata": {},
   "outputs": [
    {
     "data": {
      "text/html": [
       "        <script type=\"text/javascript\">\n",
       "        window.PlotlyConfig = {MathJaxConfig: 'local'};\n",
       "        if (window.MathJax && window.MathJax.Hub && window.MathJax.Hub.Config) {window.MathJax.Hub.Config({SVG: {font: \"STIX-Web\"}});}\n",
       "        if (typeof require !== 'undefined') {\n",
       "        require.undef(\"plotly\");\n",
       "        requirejs.config({\n",
       "            paths: {\n",
       "                'plotly': ['https://cdn.plot.ly/plotly-2.12.1.min']\n",
       "            }\n",
       "        });\n",
       "        require(['plotly'], function(Plotly) {\n",
       "            window._Plotly = Plotly;\n",
       "        });\n",
       "        }\n",
       "        </script>\n",
       "        "
      ]
     },
     "metadata": {},
     "output_type": "display_data"
    },
    {
     "data": {
      "application/vnd.plotly.v1+json": {
       "config": {
        "plotlyServerURL": "https://plot.ly"
       },
       "data": [
        {
         "dimensions": [
          {
           "label": "max_features",
           "values": [
            40,
            40,
            40,
            40,
            "None",
            "sqrt",
            "sqrt",
            "sqrt",
            "log2",
            "log2",
            "sqrt",
            "log2",
            "sqrt",
            "log2",
            "log2",
            "log2",
            40,
            40,
            "log2",
            "sqrt"
           ]
          },
          {
           "label": "n_estimators",
           "values": [
            700,
            200,
            900,
            700,
            100,
            400,
            400,
            800,
            800,
            100,
            500,
            600,
            600,
            800,
            200,
            600,
            100,
            200,
            100,
            800
           ]
          },
          {
           "label": "max_depth",
           "values": [
            "None",
            "None",
            15,
            15,
            15,
            "None",
            20,
            20,
            20,
            "None",
            15,
            15,
            15,
            15,
            15,
            10,
            5,
            5,
            5,
            5
           ]
          },
          {
           "label": "mean_test_score",
           "values": [
            0.898,
            0.879,
            0.872,
            0.864,
            0.835,
            0.75,
            0.729,
            0.728,
            0.728,
            0.721,
            0.676,
            0.673,
            0.673,
            0.668,
            0.657,
            0.587,
            0.578,
            0.575,
            0.518,
            0.513
           ]
          }
         ],
         "domain": {
          "x": [
           0,
           1
          ],
          "y": [
           0,
           1
          ]
         },
         "line": {
          "color": [
           0.898,
           0.879,
           0.872,
           0.864,
           0.835,
           0.75,
           0.729,
           0.728,
           0.728,
           0.721,
           0.676,
           0.673,
           0.673,
           0.668,
           0.657,
           0.587,
           0.578,
           0.575,
           0.518,
           0.513
          ],
          "coloraxis": "coloraxis"
         },
         "name": "",
         "type": "parcats"
        }
       ],
       "layout": {
        "coloraxis": {
         "colorbar": {
          "title": {
           "text": "mean_test_score"
          }
         },
         "colorscale": [
          [
           0,
           "#0d0887"
          ],
          [
           0.1111111111111111,
           "#46039f"
          ],
          [
           0.2222222222222222,
           "#7201a8"
          ],
          [
           0.3333333333333333,
           "#9c179e"
          ],
          [
           0.4444444444444444,
           "#bd3786"
          ],
          [
           0.5555555555555556,
           "#d8576b"
          ],
          [
           0.6666666666666666,
           "#ed7953"
          ],
          [
           0.7777777777777778,
           "#fb9f3a"
          ],
          [
           0.8888888888888888,
           "#fdca26"
          ],
          [
           1,
           "#f0f921"
          ]
         ]
        },
        "legend": {
         "tracegroupgap": 0
        },
        "margin": {
         "t": 60
        },
        "template": {
         "data": {
          "bar": [
           {
            "error_x": {
             "color": "#2a3f5f"
            },
            "error_y": {
             "color": "#2a3f5f"
            },
            "marker": {
             "line": {
              "color": "#E5ECF6",
              "width": 0.5
             },
             "pattern": {
              "fillmode": "overlay",
              "size": 10,
              "solidity": 0.2
             }
            },
            "type": "bar"
           }
          ],
          "barpolar": [
           {
            "marker": {
             "line": {
              "color": "#E5ECF6",
              "width": 0.5
             },
             "pattern": {
              "fillmode": "overlay",
              "size": 10,
              "solidity": 0.2
             }
            },
            "type": "barpolar"
           }
          ],
          "carpet": [
           {
            "aaxis": {
             "endlinecolor": "#2a3f5f",
             "gridcolor": "white",
             "linecolor": "white",
             "minorgridcolor": "white",
             "startlinecolor": "#2a3f5f"
            },
            "baxis": {
             "endlinecolor": "#2a3f5f",
             "gridcolor": "white",
             "linecolor": "white",
             "minorgridcolor": "white",
             "startlinecolor": "#2a3f5f"
            },
            "type": "carpet"
           }
          ],
          "choropleth": [
           {
            "colorbar": {
             "outlinewidth": 0,
             "ticks": ""
            },
            "type": "choropleth"
           }
          ],
          "contour": [
           {
            "colorbar": {
             "outlinewidth": 0,
             "ticks": ""
            },
            "colorscale": [
             [
              0,
              "#0d0887"
             ],
             [
              0.1111111111111111,
              "#46039f"
             ],
             [
              0.2222222222222222,
              "#7201a8"
             ],
             [
              0.3333333333333333,
              "#9c179e"
             ],
             [
              0.4444444444444444,
              "#bd3786"
             ],
             [
              0.5555555555555556,
              "#d8576b"
             ],
             [
              0.6666666666666666,
              "#ed7953"
             ],
             [
              0.7777777777777778,
              "#fb9f3a"
             ],
             [
              0.8888888888888888,
              "#fdca26"
             ],
             [
              1,
              "#f0f921"
             ]
            ],
            "type": "contour"
           }
          ],
          "contourcarpet": [
           {
            "colorbar": {
             "outlinewidth": 0,
             "ticks": ""
            },
            "type": "contourcarpet"
           }
          ],
          "heatmap": [
           {
            "colorbar": {
             "outlinewidth": 0,
             "ticks": ""
            },
            "colorscale": [
             [
              0,
              "#0d0887"
             ],
             [
              0.1111111111111111,
              "#46039f"
             ],
             [
              0.2222222222222222,
              "#7201a8"
             ],
             [
              0.3333333333333333,
              "#9c179e"
             ],
             [
              0.4444444444444444,
              "#bd3786"
             ],
             [
              0.5555555555555556,
              "#d8576b"
             ],
             [
              0.6666666666666666,
              "#ed7953"
             ],
             [
              0.7777777777777778,
              "#fb9f3a"
             ],
             [
              0.8888888888888888,
              "#fdca26"
             ],
             [
              1,
              "#f0f921"
             ]
            ],
            "type": "heatmap"
           }
          ],
          "heatmapgl": [
           {
            "colorbar": {
             "outlinewidth": 0,
             "ticks": ""
            },
            "colorscale": [
             [
              0,
              "#0d0887"
             ],
             [
              0.1111111111111111,
              "#46039f"
             ],
             [
              0.2222222222222222,
              "#7201a8"
             ],
             [
              0.3333333333333333,
              "#9c179e"
             ],
             [
              0.4444444444444444,
              "#bd3786"
             ],
             [
              0.5555555555555556,
              "#d8576b"
             ],
             [
              0.6666666666666666,
              "#ed7953"
             ],
             [
              0.7777777777777778,
              "#fb9f3a"
             ],
             [
              0.8888888888888888,
              "#fdca26"
             ],
             [
              1,
              "#f0f921"
             ]
            ],
            "type": "heatmapgl"
           }
          ],
          "histogram": [
           {
            "marker": {
             "pattern": {
              "fillmode": "overlay",
              "size": 10,
              "solidity": 0.2
             }
            },
            "type": "histogram"
           }
          ],
          "histogram2d": [
           {
            "colorbar": {
             "outlinewidth": 0,
             "ticks": ""
            },
            "colorscale": [
             [
              0,
              "#0d0887"
             ],
             [
              0.1111111111111111,
              "#46039f"
             ],
             [
              0.2222222222222222,
              "#7201a8"
             ],
             [
              0.3333333333333333,
              "#9c179e"
             ],
             [
              0.4444444444444444,
              "#bd3786"
             ],
             [
              0.5555555555555556,
              "#d8576b"
             ],
             [
              0.6666666666666666,
              "#ed7953"
             ],
             [
              0.7777777777777778,
              "#fb9f3a"
             ],
             [
              0.8888888888888888,
              "#fdca26"
             ],
             [
              1,
              "#f0f921"
             ]
            ],
            "type": "histogram2d"
           }
          ],
          "histogram2dcontour": [
           {
            "colorbar": {
             "outlinewidth": 0,
             "ticks": ""
            },
            "colorscale": [
             [
              0,
              "#0d0887"
             ],
             [
              0.1111111111111111,
              "#46039f"
             ],
             [
              0.2222222222222222,
              "#7201a8"
             ],
             [
              0.3333333333333333,
              "#9c179e"
             ],
             [
              0.4444444444444444,
              "#bd3786"
             ],
             [
              0.5555555555555556,
              "#d8576b"
             ],
             [
              0.6666666666666666,
              "#ed7953"
             ],
             [
              0.7777777777777778,
              "#fb9f3a"
             ],
             [
              0.8888888888888888,
              "#fdca26"
             ],
             [
              1,
              "#f0f921"
             ]
            ],
            "type": "histogram2dcontour"
           }
          ],
          "mesh3d": [
           {
            "colorbar": {
             "outlinewidth": 0,
             "ticks": ""
            },
            "type": "mesh3d"
           }
          ],
          "parcoords": [
           {
            "line": {
             "colorbar": {
              "outlinewidth": 0,
              "ticks": ""
             }
            },
            "type": "parcoords"
           }
          ],
          "pie": [
           {
            "automargin": true,
            "type": "pie"
           }
          ],
          "scatter": [
           {
            "fillpattern": {
             "fillmode": "overlay",
             "size": 10,
             "solidity": 0.2
            },
            "type": "scatter"
           }
          ],
          "scatter3d": [
           {
            "line": {
             "colorbar": {
              "outlinewidth": 0,
              "ticks": ""
             }
            },
            "marker": {
             "colorbar": {
              "outlinewidth": 0,
              "ticks": ""
             }
            },
            "type": "scatter3d"
           }
          ],
          "scattercarpet": [
           {
            "marker": {
             "colorbar": {
              "outlinewidth": 0,
              "ticks": ""
             }
            },
            "type": "scattercarpet"
           }
          ],
          "scattergeo": [
           {
            "marker": {
             "colorbar": {
              "outlinewidth": 0,
              "ticks": ""
             }
            },
            "type": "scattergeo"
           }
          ],
          "scattergl": [
           {
            "marker": {
             "colorbar": {
              "outlinewidth": 0,
              "ticks": ""
             }
            },
            "type": "scattergl"
           }
          ],
          "scattermapbox": [
           {
            "marker": {
             "colorbar": {
              "outlinewidth": 0,
              "ticks": ""
             }
            },
            "type": "scattermapbox"
           }
          ],
          "scatterpolar": [
           {
            "marker": {
             "colorbar": {
              "outlinewidth": 0,
              "ticks": ""
             }
            },
            "type": "scatterpolar"
           }
          ],
          "scatterpolargl": [
           {
            "marker": {
             "colorbar": {
              "outlinewidth": 0,
              "ticks": ""
             }
            },
            "type": "scatterpolargl"
           }
          ],
          "scatterternary": [
           {
            "marker": {
             "colorbar": {
              "outlinewidth": 0,
              "ticks": ""
             }
            },
            "type": "scatterternary"
           }
          ],
          "surface": [
           {
            "colorbar": {
             "outlinewidth": 0,
             "ticks": ""
            },
            "colorscale": [
             [
              0,
              "#0d0887"
             ],
             [
              0.1111111111111111,
              "#46039f"
             ],
             [
              0.2222222222222222,
              "#7201a8"
             ],
             [
              0.3333333333333333,
              "#9c179e"
             ],
             [
              0.4444444444444444,
              "#bd3786"
             ],
             [
              0.5555555555555556,
              "#d8576b"
             ],
             [
              0.6666666666666666,
              "#ed7953"
             ],
             [
              0.7777777777777778,
              "#fb9f3a"
             ],
             [
              0.8888888888888888,
              "#fdca26"
             ],
             [
              1,
              "#f0f921"
             ]
            ],
            "type": "surface"
           }
          ],
          "table": [
           {
            "cells": {
             "fill": {
              "color": "#EBF0F8"
             },
             "line": {
              "color": "white"
             }
            },
            "header": {
             "fill": {
              "color": "#C8D4E3"
             },
             "line": {
              "color": "white"
             }
            },
            "type": "table"
           }
          ]
         },
         "layout": {
          "annotationdefaults": {
           "arrowcolor": "#2a3f5f",
           "arrowhead": 0,
           "arrowwidth": 1
          },
          "autotypenumbers": "strict",
          "coloraxis": {
           "colorbar": {
            "outlinewidth": 0,
            "ticks": ""
           }
          },
          "colorscale": {
           "diverging": [
            [
             0,
             "#8e0152"
            ],
            [
             0.1,
             "#c51b7d"
            ],
            [
             0.2,
             "#de77ae"
            ],
            [
             0.3,
             "#f1b6da"
            ],
            [
             0.4,
             "#fde0ef"
            ],
            [
             0.5,
             "#f7f7f7"
            ],
            [
             0.6,
             "#e6f5d0"
            ],
            [
             0.7,
             "#b8e186"
            ],
            [
             0.8,
             "#7fbc41"
            ],
            [
             0.9,
             "#4d9221"
            ],
            [
             1,
             "#276419"
            ]
           ],
           "sequential": [
            [
             0,
             "#0d0887"
            ],
            [
             0.1111111111111111,
             "#46039f"
            ],
            [
             0.2222222222222222,
             "#7201a8"
            ],
            [
             0.3333333333333333,
             "#9c179e"
            ],
            [
             0.4444444444444444,
             "#bd3786"
            ],
            [
             0.5555555555555556,
             "#d8576b"
            ],
            [
             0.6666666666666666,
             "#ed7953"
            ],
            [
             0.7777777777777778,
             "#fb9f3a"
            ],
            [
             0.8888888888888888,
             "#fdca26"
            ],
            [
             1,
             "#f0f921"
            ]
           ],
           "sequentialminus": [
            [
             0,
             "#0d0887"
            ],
            [
             0.1111111111111111,
             "#46039f"
            ],
            [
             0.2222222222222222,
             "#7201a8"
            ],
            [
             0.3333333333333333,
             "#9c179e"
            ],
            [
             0.4444444444444444,
             "#bd3786"
            ],
            [
             0.5555555555555556,
             "#d8576b"
            ],
            [
             0.6666666666666666,
             "#ed7953"
            ],
            [
             0.7777777777777778,
             "#fb9f3a"
            ],
            [
             0.8888888888888888,
             "#fdca26"
            ],
            [
             1,
             "#f0f921"
            ]
           ]
          },
          "colorway": [
           "#636efa",
           "#EF553B",
           "#00cc96",
           "#ab63fa",
           "#FFA15A",
           "#19d3f3",
           "#FF6692",
           "#B6E880",
           "#FF97FF",
           "#FECB52"
          ],
          "font": {
           "color": "#2a3f5f"
          },
          "geo": {
           "bgcolor": "white",
           "lakecolor": "white",
           "landcolor": "#E5ECF6",
           "showlakes": true,
           "showland": true,
           "subunitcolor": "white"
          },
          "hoverlabel": {
           "align": "left"
          },
          "hovermode": "closest",
          "mapbox": {
           "style": "light"
          },
          "paper_bgcolor": "white",
          "plot_bgcolor": "#E5ECF6",
          "polar": {
           "angularaxis": {
            "gridcolor": "white",
            "linecolor": "white",
            "ticks": ""
           },
           "bgcolor": "#E5ECF6",
           "radialaxis": {
            "gridcolor": "white",
            "linecolor": "white",
            "ticks": ""
           }
          },
          "scene": {
           "xaxis": {
            "backgroundcolor": "#E5ECF6",
            "gridcolor": "white",
            "gridwidth": 2,
            "linecolor": "white",
            "showbackground": true,
            "ticks": "",
            "zerolinecolor": "white"
           },
           "yaxis": {
            "backgroundcolor": "#E5ECF6",
            "gridcolor": "white",
            "gridwidth": 2,
            "linecolor": "white",
            "showbackground": true,
            "ticks": "",
            "zerolinecolor": "white"
           },
           "zaxis": {
            "backgroundcolor": "#E5ECF6",
            "gridcolor": "white",
            "gridwidth": 2,
            "linecolor": "white",
            "showbackground": true,
            "ticks": "",
            "zerolinecolor": "white"
           }
          },
          "shapedefaults": {
           "line": {
            "color": "#2a3f5f"
           }
          },
          "ternary": {
           "aaxis": {
            "gridcolor": "white",
            "linecolor": "white",
            "ticks": ""
           },
           "baxis": {
            "gridcolor": "white",
            "linecolor": "white",
            "ticks": ""
           },
           "bgcolor": "#E5ECF6",
           "caxis": {
            "gridcolor": "white",
            "linecolor": "white",
            "ticks": ""
           }
          },
          "title": {
           "x": 0.05
          },
          "xaxis": {
           "automargin": true,
           "gridcolor": "white",
           "linecolor": "white",
           "ticks": "",
           "title": {
            "standoff": 15
           },
           "zerolinecolor": "white",
           "zerolinewidth": 2
          },
          "yaxis": {
           "automargin": true,
           "gridcolor": "white",
           "linecolor": "white",
           "ticks": "",
           "title": {
            "standoff": 15
           },
           "zerolinecolor": "white",
           "zerolinewidth": 2
          }
         }
        }
       }
      },
      "text/html": [
       "<div>                            <div id=\"5514284c-2445-4972-95c6-e9cde14df59b\" class=\"plotly-graph-div\" style=\"height:525px; width:100%;\"></div>            <script type=\"text/javascript\">                require([\"plotly\"], function(Plotly) {                    window.PLOTLYENV=window.PLOTLYENV || {};                                    if (document.getElementById(\"5514284c-2445-4972-95c6-e9cde14df59b\")) {                    Plotly.newPlot(                        \"5514284c-2445-4972-95c6-e9cde14df59b\",                        [{\"dimensions\":[{\"label\":\"max_features\",\"values\":[40,40,40,40,\"None\",\"sqrt\",\"sqrt\",\"sqrt\",\"log2\",\"log2\",\"sqrt\",\"log2\",\"sqrt\",\"log2\",\"log2\",\"log2\",40,40,\"log2\",\"sqrt\"]},{\"label\":\"n_estimators\",\"values\":[700,200,900,700,100,400,400,800,800,100,500,600,600,800,200,600,100,200,100,800]},{\"label\":\"max_depth\",\"values\":[\"None\",\"None\",15,15,15,\"None\",20,20,20,\"None\",15,15,15,15,15,10,5,5,5,5]},{\"label\":\"mean_test_score\",\"values\":[0.898,0.879,0.872,0.864,0.835,0.75,0.729,0.728,0.728,0.721,0.676,0.673,0.673,0.668,0.657,0.587,0.578,0.575,0.518,0.513]}],\"domain\":{\"x\":[0.0,1.0],\"y\":[0.0,1.0]},\"line\":{\"color\":[0.898,0.879,0.872,0.864,0.835,0.75,0.729,0.728,0.728,0.721,0.676,0.673,0.673,0.668,0.657,0.587,0.578,0.575,0.518,0.513],\"coloraxis\":\"coloraxis\"},\"name\":\"\",\"type\":\"parcats\"}],                        {\"template\":{\"data\":{\"histogram2dcontour\":[{\"type\":\"histogram2dcontour\",\"colorbar\":{\"outlinewidth\":0,\"ticks\":\"\"},\"colorscale\":[[0.0,\"#0d0887\"],[0.1111111111111111,\"#46039f\"],[0.2222222222222222,\"#7201a8\"],[0.3333333333333333,\"#9c179e\"],[0.4444444444444444,\"#bd3786\"],[0.5555555555555556,\"#d8576b\"],[0.6666666666666666,\"#ed7953\"],[0.7777777777777778,\"#fb9f3a\"],[0.8888888888888888,\"#fdca26\"],[1.0,\"#f0f921\"]]}],\"choropleth\":[{\"type\":\"choropleth\",\"colorbar\":{\"outlinewidth\":0,\"ticks\":\"\"}}],\"histogram2d\":[{\"type\":\"histogram2d\",\"colorbar\":{\"outlinewidth\":0,\"ticks\":\"\"},\"colorscale\":[[0.0,\"#0d0887\"],[0.1111111111111111,\"#46039f\"],[0.2222222222222222,\"#7201a8\"],[0.3333333333333333,\"#9c179e\"],[0.4444444444444444,\"#bd3786\"],[0.5555555555555556,\"#d8576b\"],[0.6666666666666666,\"#ed7953\"],[0.7777777777777778,\"#fb9f3a\"],[0.8888888888888888,\"#fdca26\"],[1.0,\"#f0f921\"]]}],\"heatmap\":[{\"type\":\"heatmap\",\"colorbar\":{\"outlinewidth\":0,\"ticks\":\"\"},\"colorscale\":[[0.0,\"#0d0887\"],[0.1111111111111111,\"#46039f\"],[0.2222222222222222,\"#7201a8\"],[0.3333333333333333,\"#9c179e\"],[0.4444444444444444,\"#bd3786\"],[0.5555555555555556,\"#d8576b\"],[0.6666666666666666,\"#ed7953\"],[0.7777777777777778,\"#fb9f3a\"],[0.8888888888888888,\"#fdca26\"],[1.0,\"#f0f921\"]]}],\"heatmapgl\":[{\"type\":\"heatmapgl\",\"colorbar\":{\"outlinewidth\":0,\"ticks\":\"\"},\"colorscale\":[[0.0,\"#0d0887\"],[0.1111111111111111,\"#46039f\"],[0.2222222222222222,\"#7201a8\"],[0.3333333333333333,\"#9c179e\"],[0.4444444444444444,\"#bd3786\"],[0.5555555555555556,\"#d8576b\"],[0.6666666666666666,\"#ed7953\"],[0.7777777777777778,\"#fb9f3a\"],[0.8888888888888888,\"#fdca26\"],[1.0,\"#f0f921\"]]}],\"contourcarpet\":[{\"type\":\"contourcarpet\",\"colorbar\":{\"outlinewidth\":0,\"ticks\":\"\"}}],\"contour\":[{\"type\":\"contour\",\"colorbar\":{\"outlinewidth\":0,\"ticks\":\"\"},\"colorscale\":[[0.0,\"#0d0887\"],[0.1111111111111111,\"#46039f\"],[0.2222222222222222,\"#7201a8\"],[0.3333333333333333,\"#9c179e\"],[0.4444444444444444,\"#bd3786\"],[0.5555555555555556,\"#d8576b\"],[0.6666666666666666,\"#ed7953\"],[0.7777777777777778,\"#fb9f3a\"],[0.8888888888888888,\"#fdca26\"],[1.0,\"#f0f921\"]]}],\"surface\":[{\"type\":\"surface\",\"colorbar\":{\"outlinewidth\":0,\"ticks\":\"\"},\"colorscale\":[[0.0,\"#0d0887\"],[0.1111111111111111,\"#46039f\"],[0.2222222222222222,\"#7201a8\"],[0.3333333333333333,\"#9c179e\"],[0.4444444444444444,\"#bd3786\"],[0.5555555555555556,\"#d8576b\"],[0.6666666666666666,\"#ed7953\"],[0.7777777777777778,\"#fb9f3a\"],[0.8888888888888888,\"#fdca26\"],[1.0,\"#f0f921\"]]}],\"mesh3d\":[{\"type\":\"mesh3d\",\"colorbar\":{\"outlinewidth\":0,\"ticks\":\"\"}}],\"scatter\":[{\"fillpattern\":{\"fillmode\":\"overlay\",\"size\":10,\"solidity\":0.2},\"type\":\"scatter\"}],\"parcoords\":[{\"type\":\"parcoords\",\"line\":{\"colorbar\":{\"outlinewidth\":0,\"ticks\":\"\"}}}],\"scatterpolargl\":[{\"type\":\"scatterpolargl\",\"marker\":{\"colorbar\":{\"outlinewidth\":0,\"ticks\":\"\"}}}],\"bar\":[{\"error_x\":{\"color\":\"#2a3f5f\"},\"error_y\":{\"color\":\"#2a3f5f\"},\"marker\":{\"line\":{\"color\":\"#E5ECF6\",\"width\":0.5},\"pattern\":{\"fillmode\":\"overlay\",\"size\":10,\"solidity\":0.2}},\"type\":\"bar\"}],\"scattergeo\":[{\"type\":\"scattergeo\",\"marker\":{\"colorbar\":{\"outlinewidth\":0,\"ticks\":\"\"}}}],\"scatterpolar\":[{\"type\":\"scatterpolar\",\"marker\":{\"colorbar\":{\"outlinewidth\":0,\"ticks\":\"\"}}}],\"histogram\":[{\"marker\":{\"pattern\":{\"fillmode\":\"overlay\",\"size\":10,\"solidity\":0.2}},\"type\":\"histogram\"}],\"scattergl\":[{\"type\":\"scattergl\",\"marker\":{\"colorbar\":{\"outlinewidth\":0,\"ticks\":\"\"}}}],\"scatter3d\":[{\"type\":\"scatter3d\",\"line\":{\"colorbar\":{\"outlinewidth\":0,\"ticks\":\"\"}},\"marker\":{\"colorbar\":{\"outlinewidth\":0,\"ticks\":\"\"}}}],\"scattermapbox\":[{\"type\":\"scattermapbox\",\"marker\":{\"colorbar\":{\"outlinewidth\":0,\"ticks\":\"\"}}}],\"scatterternary\":[{\"type\":\"scatterternary\",\"marker\":{\"colorbar\":{\"outlinewidth\":0,\"ticks\":\"\"}}}],\"scattercarpet\":[{\"type\":\"scattercarpet\",\"marker\":{\"colorbar\":{\"outlinewidth\":0,\"ticks\":\"\"}}}],\"carpet\":[{\"aaxis\":{\"endlinecolor\":\"#2a3f5f\",\"gridcolor\":\"white\",\"linecolor\":\"white\",\"minorgridcolor\":\"white\",\"startlinecolor\":\"#2a3f5f\"},\"baxis\":{\"endlinecolor\":\"#2a3f5f\",\"gridcolor\":\"white\",\"linecolor\":\"white\",\"minorgridcolor\":\"white\",\"startlinecolor\":\"#2a3f5f\"},\"type\":\"carpet\"}],\"table\":[{\"cells\":{\"fill\":{\"color\":\"#EBF0F8\"},\"line\":{\"color\":\"white\"}},\"header\":{\"fill\":{\"color\":\"#C8D4E3\"},\"line\":{\"color\":\"white\"}},\"type\":\"table\"}],\"barpolar\":[{\"marker\":{\"line\":{\"color\":\"#E5ECF6\",\"width\":0.5},\"pattern\":{\"fillmode\":\"overlay\",\"size\":10,\"solidity\":0.2}},\"type\":\"barpolar\"}],\"pie\":[{\"automargin\":true,\"type\":\"pie\"}]},\"layout\":{\"autotypenumbers\":\"strict\",\"colorway\":[\"#636efa\",\"#EF553B\",\"#00cc96\",\"#ab63fa\",\"#FFA15A\",\"#19d3f3\",\"#FF6692\",\"#B6E880\",\"#FF97FF\",\"#FECB52\"],\"font\":{\"color\":\"#2a3f5f\"},\"hovermode\":\"closest\",\"hoverlabel\":{\"align\":\"left\"},\"paper_bgcolor\":\"white\",\"plot_bgcolor\":\"#E5ECF6\",\"polar\":{\"bgcolor\":\"#E5ECF6\",\"angularaxis\":{\"gridcolor\":\"white\",\"linecolor\":\"white\",\"ticks\":\"\"},\"radialaxis\":{\"gridcolor\":\"white\",\"linecolor\":\"white\",\"ticks\":\"\"}},\"ternary\":{\"bgcolor\":\"#E5ECF6\",\"aaxis\":{\"gridcolor\":\"white\",\"linecolor\":\"white\",\"ticks\":\"\"},\"baxis\":{\"gridcolor\":\"white\",\"linecolor\":\"white\",\"ticks\":\"\"},\"caxis\":{\"gridcolor\":\"white\",\"linecolor\":\"white\",\"ticks\":\"\"}},\"coloraxis\":{\"colorbar\":{\"outlinewidth\":0,\"ticks\":\"\"}},\"colorscale\":{\"sequential\":[[0.0,\"#0d0887\"],[0.1111111111111111,\"#46039f\"],[0.2222222222222222,\"#7201a8\"],[0.3333333333333333,\"#9c179e\"],[0.4444444444444444,\"#bd3786\"],[0.5555555555555556,\"#d8576b\"],[0.6666666666666666,\"#ed7953\"],[0.7777777777777778,\"#fb9f3a\"],[0.8888888888888888,\"#fdca26\"],[1.0,\"#f0f921\"]],\"sequentialminus\":[[0.0,\"#0d0887\"],[0.1111111111111111,\"#46039f\"],[0.2222222222222222,\"#7201a8\"],[0.3333333333333333,\"#9c179e\"],[0.4444444444444444,\"#bd3786\"],[0.5555555555555556,\"#d8576b\"],[0.6666666666666666,\"#ed7953\"],[0.7777777777777778,\"#fb9f3a\"],[0.8888888888888888,\"#fdca26\"],[1.0,\"#f0f921\"]],\"diverging\":[[0,\"#8e0152\"],[0.1,\"#c51b7d\"],[0.2,\"#de77ae\"],[0.3,\"#f1b6da\"],[0.4,\"#fde0ef\"],[0.5,\"#f7f7f7\"],[0.6,\"#e6f5d0\"],[0.7,\"#b8e186\"],[0.8,\"#7fbc41\"],[0.9,\"#4d9221\"],[1,\"#276419\"]]},\"xaxis\":{\"gridcolor\":\"white\",\"linecolor\":\"white\",\"ticks\":\"\",\"title\":{\"standoff\":15},\"zerolinecolor\":\"white\",\"automargin\":true,\"zerolinewidth\":2},\"yaxis\":{\"gridcolor\":\"white\",\"linecolor\":\"white\",\"ticks\":\"\",\"title\":{\"standoff\":15},\"zerolinecolor\":\"white\",\"automargin\":true,\"zerolinewidth\":2},\"scene\":{\"xaxis\":{\"backgroundcolor\":\"#E5ECF6\",\"gridcolor\":\"white\",\"linecolor\":\"white\",\"showbackground\":true,\"ticks\":\"\",\"zerolinecolor\":\"white\",\"gridwidth\":2},\"yaxis\":{\"backgroundcolor\":\"#E5ECF6\",\"gridcolor\":\"white\",\"linecolor\":\"white\",\"showbackground\":true,\"ticks\":\"\",\"zerolinecolor\":\"white\",\"gridwidth\":2},\"zaxis\":{\"backgroundcolor\":\"#E5ECF6\",\"gridcolor\":\"white\",\"linecolor\":\"white\",\"showbackground\":true,\"ticks\":\"\",\"zerolinecolor\":\"white\",\"gridwidth\":2}},\"shapedefaults\":{\"line\":{\"color\":\"#2a3f5f\"}},\"annotationdefaults\":{\"arrowcolor\":\"#2a3f5f\",\"arrowhead\":0,\"arrowwidth\":1},\"geo\":{\"bgcolor\":\"white\",\"landcolor\":\"#E5ECF6\",\"subunitcolor\":\"white\",\"showland\":true,\"showlakes\":true,\"lakecolor\":\"white\"},\"title\":{\"x\":0.05},\"mapbox\":{\"style\":\"light\"}}},\"coloraxis\":{\"colorbar\":{\"title\":{\"text\":\"mean_test_score\"}},\"colorscale\":[[0.0,\"#0d0887\"],[0.1111111111111111,\"#46039f\"],[0.2222222222222222,\"#7201a8\"],[0.3333333333333333,\"#9c179e\"],[0.4444444444444444,\"#bd3786\"],[0.5555555555555556,\"#d8576b\"],[0.6666666666666666,\"#ed7953\"],[0.7777777777777778,\"#fb9f3a\"],[0.8888888888888888,\"#fdca26\"],[1.0,\"#f0f921\"]]},\"legend\":{\"tracegroupgap\":0},\"margin\":{\"t\":60}},                        {\"responsive\": true}                    ).then(function(){\n",
       "                            \n",
       "var gd = document.getElementById('5514284c-2445-4972-95c6-e9cde14df59b');\n",
       "var x = new MutationObserver(function (mutations, observer) {{\n",
       "        var display = window.getComputedStyle(gd).display;\n",
       "        if (!display || display === 'none') {{\n",
       "            console.log([gd, 'removed!']);\n",
       "            Plotly.purge(gd);\n",
       "            observer.disconnect();\n",
       "        }}\n",
       "}});\n",
       "\n",
       "// Listen for the removal of the full notebook cells\n",
       "var notebookContainer = gd.closest('#notebook-container');\n",
       "if (notebookContainer) {{\n",
       "    x.observe(notebookContainer, {childList: true});\n",
       "}}\n",
       "\n",
       "// Listen for the clearing of the current output cell\n",
       "var outputEl = gd.closest('.output');\n",
       "if (outputEl) {{\n",
       "    x.observe(outputEl, {childList: true});\n",
       "}}\n",
       "\n",
       "                        })                };                });            </script>        </div>"
      ]
     },
     "metadata": {},
     "output_type": "display_data"
    }
   ],
   "source": [
    "import plotly.express as px\n",
    "import plotly.io as pio\n",
    "\n",
    "pio.renderers.default = \"plotly_mimetype+notebook_connected\"\n",
    "\n",
    "fig = px.parallel_categories(\n",
    "    df_cv_rf.iloc[:,:-1],\n",
    "    color='mean_test_score'\n",
    ")\n",
    "fig.show()"
   ]
  },
  {
   "cell_type": "code",
   "execution_count": 26,
   "metadata": {},
   "outputs": [
    {
     "data": {
      "application/vnd.plotly.v1+json": {
       "config": {
        "plotlyServerURL": "https://plot.ly"
       },
       "data": [
        {
         "dimensions": [
          {
           "label": "max_features",
           "values": [
            40,
            40,
            40,
            40,
            "None",
            40,
            40,
            "sqrt",
            "log2",
            "sqrt",
            "sqrt",
            "log2",
            "sqrt",
            "log2",
            "sqrt",
            "log2",
            "log2",
            "log2",
            "sqrt",
            "log2"
           ]
          },
          {
           "label": "n_estimators",
           "values": [
            900,
            700,
            700,
            200,
            100,
            200,
            100,
            800,
            800,
            400,
            400,
            600,
            600,
            800,
            500,
            100,
            200,
            600,
            800,
            100
           ]
          },
          {
           "label": "max_depth",
           "values": [
            15,
            "None",
            15,
            "None",
            15,
            5,
            5,
            20,
            20,
            "None",
            20,
            15,
            15,
            15,
            15,
            "None",
            15,
            10,
            5,
            5
           ]
          },
          {
           "label": "mean_test_score",
           "values": [
            0.997,
            0.997,
            0.997,
            0.995,
            0.946,
            0.784,
            0.768,
            0.749,
            0.749,
            0.737,
            0.73,
            0.705,
            0.705,
            0.704,
            0.702,
            0.691,
            0.673,
            0.629,
            0.531,
            0.528
           ]
          }
         ],
         "domain": {
          "x": [
           0,
           1
          ],
          "y": [
           0,
           1
          ]
         },
         "line": {
          "color": [
           0.997,
           0.997,
           0.997,
           0.995,
           0.946,
           0.784,
           0.768,
           0.749,
           0.749,
           0.737,
           0.73,
           0.705,
           0.705,
           0.704,
           0.702,
           0.691,
           0.673,
           0.629,
           0.531,
           0.528
          ],
          "coloraxis": "coloraxis"
         },
         "name": "",
         "type": "parcats"
        }
       ],
       "layout": {
        "coloraxis": {
         "colorbar": {
          "title": {
           "text": "mean_test_score"
          }
         },
         "colorscale": [
          [
           0,
           "#0d0887"
          ],
          [
           0.1111111111111111,
           "#46039f"
          ],
          [
           0.2222222222222222,
           "#7201a8"
          ],
          [
           0.3333333333333333,
           "#9c179e"
          ],
          [
           0.4444444444444444,
           "#bd3786"
          ],
          [
           0.5555555555555556,
           "#d8576b"
          ],
          [
           0.6666666666666666,
           "#ed7953"
          ],
          [
           0.7777777777777778,
           "#fb9f3a"
          ],
          [
           0.8888888888888888,
           "#fdca26"
          ],
          [
           1,
           "#f0f921"
          ]
         ]
        },
        "legend": {
         "tracegroupgap": 0
        },
        "margin": {
         "t": 60
        },
        "template": {
         "data": {
          "bar": [
           {
            "error_x": {
             "color": "#2a3f5f"
            },
            "error_y": {
             "color": "#2a3f5f"
            },
            "marker": {
             "line": {
              "color": "#E5ECF6",
              "width": 0.5
             },
             "pattern": {
              "fillmode": "overlay",
              "size": 10,
              "solidity": 0.2
             }
            },
            "type": "bar"
           }
          ],
          "barpolar": [
           {
            "marker": {
             "line": {
              "color": "#E5ECF6",
              "width": 0.5
             },
             "pattern": {
              "fillmode": "overlay",
              "size": 10,
              "solidity": 0.2
             }
            },
            "type": "barpolar"
           }
          ],
          "carpet": [
           {
            "aaxis": {
             "endlinecolor": "#2a3f5f",
             "gridcolor": "white",
             "linecolor": "white",
             "minorgridcolor": "white",
             "startlinecolor": "#2a3f5f"
            },
            "baxis": {
             "endlinecolor": "#2a3f5f",
             "gridcolor": "white",
             "linecolor": "white",
             "minorgridcolor": "white",
             "startlinecolor": "#2a3f5f"
            },
            "type": "carpet"
           }
          ],
          "choropleth": [
           {
            "colorbar": {
             "outlinewidth": 0,
             "ticks": ""
            },
            "type": "choropleth"
           }
          ],
          "contour": [
           {
            "colorbar": {
             "outlinewidth": 0,
             "ticks": ""
            },
            "colorscale": [
             [
              0,
              "#0d0887"
             ],
             [
              0.1111111111111111,
              "#46039f"
             ],
             [
              0.2222222222222222,
              "#7201a8"
             ],
             [
              0.3333333333333333,
              "#9c179e"
             ],
             [
              0.4444444444444444,
              "#bd3786"
             ],
             [
              0.5555555555555556,
              "#d8576b"
             ],
             [
              0.6666666666666666,
              "#ed7953"
             ],
             [
              0.7777777777777778,
              "#fb9f3a"
             ],
             [
              0.8888888888888888,
              "#fdca26"
             ],
             [
              1,
              "#f0f921"
             ]
            ],
            "type": "contour"
           }
          ],
          "contourcarpet": [
           {
            "colorbar": {
             "outlinewidth": 0,
             "ticks": ""
            },
            "type": "contourcarpet"
           }
          ],
          "heatmap": [
           {
            "colorbar": {
             "outlinewidth": 0,
             "ticks": ""
            },
            "colorscale": [
             [
              0,
              "#0d0887"
             ],
             [
              0.1111111111111111,
              "#46039f"
             ],
             [
              0.2222222222222222,
              "#7201a8"
             ],
             [
              0.3333333333333333,
              "#9c179e"
             ],
             [
              0.4444444444444444,
              "#bd3786"
             ],
             [
              0.5555555555555556,
              "#d8576b"
             ],
             [
              0.6666666666666666,
              "#ed7953"
             ],
             [
              0.7777777777777778,
              "#fb9f3a"
             ],
             [
              0.8888888888888888,
              "#fdca26"
             ],
             [
              1,
              "#f0f921"
             ]
            ],
            "type": "heatmap"
           }
          ],
          "heatmapgl": [
           {
            "colorbar": {
             "outlinewidth": 0,
             "ticks": ""
            },
            "colorscale": [
             [
              0,
              "#0d0887"
             ],
             [
              0.1111111111111111,
              "#46039f"
             ],
             [
              0.2222222222222222,
              "#7201a8"
             ],
             [
              0.3333333333333333,
              "#9c179e"
             ],
             [
              0.4444444444444444,
              "#bd3786"
             ],
             [
              0.5555555555555556,
              "#d8576b"
             ],
             [
              0.6666666666666666,
              "#ed7953"
             ],
             [
              0.7777777777777778,
              "#fb9f3a"
             ],
             [
              0.8888888888888888,
              "#fdca26"
             ],
             [
              1,
              "#f0f921"
             ]
            ],
            "type": "heatmapgl"
           }
          ],
          "histogram": [
           {
            "marker": {
             "pattern": {
              "fillmode": "overlay",
              "size": 10,
              "solidity": 0.2
             }
            },
            "type": "histogram"
           }
          ],
          "histogram2d": [
           {
            "colorbar": {
             "outlinewidth": 0,
             "ticks": ""
            },
            "colorscale": [
             [
              0,
              "#0d0887"
             ],
             [
              0.1111111111111111,
              "#46039f"
             ],
             [
              0.2222222222222222,
              "#7201a8"
             ],
             [
              0.3333333333333333,
              "#9c179e"
             ],
             [
              0.4444444444444444,
              "#bd3786"
             ],
             [
              0.5555555555555556,
              "#d8576b"
             ],
             [
              0.6666666666666666,
              "#ed7953"
             ],
             [
              0.7777777777777778,
              "#fb9f3a"
             ],
             [
              0.8888888888888888,
              "#fdca26"
             ],
             [
              1,
              "#f0f921"
             ]
            ],
            "type": "histogram2d"
           }
          ],
          "histogram2dcontour": [
           {
            "colorbar": {
             "outlinewidth": 0,
             "ticks": ""
            },
            "colorscale": [
             [
              0,
              "#0d0887"
             ],
             [
              0.1111111111111111,
              "#46039f"
             ],
             [
              0.2222222222222222,
              "#7201a8"
             ],
             [
              0.3333333333333333,
              "#9c179e"
             ],
             [
              0.4444444444444444,
              "#bd3786"
             ],
             [
              0.5555555555555556,
              "#d8576b"
             ],
             [
              0.6666666666666666,
              "#ed7953"
             ],
             [
              0.7777777777777778,
              "#fb9f3a"
             ],
             [
              0.8888888888888888,
              "#fdca26"
             ],
             [
              1,
              "#f0f921"
             ]
            ],
            "type": "histogram2dcontour"
           }
          ],
          "mesh3d": [
           {
            "colorbar": {
             "outlinewidth": 0,
             "ticks": ""
            },
            "type": "mesh3d"
           }
          ],
          "parcoords": [
           {
            "line": {
             "colorbar": {
              "outlinewidth": 0,
              "ticks": ""
             }
            },
            "type": "parcoords"
           }
          ],
          "pie": [
           {
            "automargin": true,
            "type": "pie"
           }
          ],
          "scatter": [
           {
            "fillpattern": {
             "fillmode": "overlay",
             "size": 10,
             "solidity": 0.2
            },
            "type": "scatter"
           }
          ],
          "scatter3d": [
           {
            "line": {
             "colorbar": {
              "outlinewidth": 0,
              "ticks": ""
             }
            },
            "marker": {
             "colorbar": {
              "outlinewidth": 0,
              "ticks": ""
             }
            },
            "type": "scatter3d"
           }
          ],
          "scattercarpet": [
           {
            "marker": {
             "colorbar": {
              "outlinewidth": 0,
              "ticks": ""
             }
            },
            "type": "scattercarpet"
           }
          ],
          "scattergeo": [
           {
            "marker": {
             "colorbar": {
              "outlinewidth": 0,
              "ticks": ""
             }
            },
            "type": "scattergeo"
           }
          ],
          "scattergl": [
           {
            "marker": {
             "colorbar": {
              "outlinewidth": 0,
              "ticks": ""
             }
            },
            "type": "scattergl"
           }
          ],
          "scattermapbox": [
           {
            "marker": {
             "colorbar": {
              "outlinewidth": 0,
              "ticks": ""
             }
            },
            "type": "scattermapbox"
           }
          ],
          "scatterpolar": [
           {
            "marker": {
             "colorbar": {
              "outlinewidth": 0,
              "ticks": ""
             }
            },
            "type": "scatterpolar"
           }
          ],
          "scatterpolargl": [
           {
            "marker": {
             "colorbar": {
              "outlinewidth": 0,
              "ticks": ""
             }
            },
            "type": "scatterpolargl"
           }
          ],
          "scatterternary": [
           {
            "marker": {
             "colorbar": {
              "outlinewidth": 0,
              "ticks": ""
             }
            },
            "type": "scatterternary"
           }
          ],
          "surface": [
           {
            "colorbar": {
             "outlinewidth": 0,
             "ticks": ""
            },
            "colorscale": [
             [
              0,
              "#0d0887"
             ],
             [
              0.1111111111111111,
              "#46039f"
             ],
             [
              0.2222222222222222,
              "#7201a8"
             ],
             [
              0.3333333333333333,
              "#9c179e"
             ],
             [
              0.4444444444444444,
              "#bd3786"
             ],
             [
              0.5555555555555556,
              "#d8576b"
             ],
             [
              0.6666666666666666,
              "#ed7953"
             ],
             [
              0.7777777777777778,
              "#fb9f3a"
             ],
             [
              0.8888888888888888,
              "#fdca26"
             ],
             [
              1,
              "#f0f921"
             ]
            ],
            "type": "surface"
           }
          ],
          "table": [
           {
            "cells": {
             "fill": {
              "color": "#EBF0F8"
             },
             "line": {
              "color": "white"
             }
            },
            "header": {
             "fill": {
              "color": "#C8D4E3"
             },
             "line": {
              "color": "white"
             }
            },
            "type": "table"
           }
          ]
         },
         "layout": {
          "annotationdefaults": {
           "arrowcolor": "#2a3f5f",
           "arrowhead": 0,
           "arrowwidth": 1
          },
          "autotypenumbers": "strict",
          "coloraxis": {
           "colorbar": {
            "outlinewidth": 0,
            "ticks": ""
           }
          },
          "colorscale": {
           "diverging": [
            [
             0,
             "#8e0152"
            ],
            [
             0.1,
             "#c51b7d"
            ],
            [
             0.2,
             "#de77ae"
            ],
            [
             0.3,
             "#f1b6da"
            ],
            [
             0.4,
             "#fde0ef"
            ],
            [
             0.5,
             "#f7f7f7"
            ],
            [
             0.6,
             "#e6f5d0"
            ],
            [
             0.7,
             "#b8e186"
            ],
            [
             0.8,
             "#7fbc41"
            ],
            [
             0.9,
             "#4d9221"
            ],
            [
             1,
             "#276419"
            ]
           ],
           "sequential": [
            [
             0,
             "#0d0887"
            ],
            [
             0.1111111111111111,
             "#46039f"
            ],
            [
             0.2222222222222222,
             "#7201a8"
            ],
            [
             0.3333333333333333,
             "#9c179e"
            ],
            [
             0.4444444444444444,
             "#bd3786"
            ],
            [
             0.5555555555555556,
             "#d8576b"
            ],
            [
             0.6666666666666666,
             "#ed7953"
            ],
            [
             0.7777777777777778,
             "#fb9f3a"
            ],
            [
             0.8888888888888888,
             "#fdca26"
            ],
            [
             1,
             "#f0f921"
            ]
           ],
           "sequentialminus": [
            [
             0,
             "#0d0887"
            ],
            [
             0.1111111111111111,
             "#46039f"
            ],
            [
             0.2222222222222222,
             "#7201a8"
            ],
            [
             0.3333333333333333,
             "#9c179e"
            ],
            [
             0.4444444444444444,
             "#bd3786"
            ],
            [
             0.5555555555555556,
             "#d8576b"
            ],
            [
             0.6666666666666666,
             "#ed7953"
            ],
            [
             0.7777777777777778,
             "#fb9f3a"
            ],
            [
             0.8888888888888888,
             "#fdca26"
            ],
            [
             1,
             "#f0f921"
            ]
           ]
          },
          "colorway": [
           "#636efa",
           "#EF553B",
           "#00cc96",
           "#ab63fa",
           "#FFA15A",
           "#19d3f3",
           "#FF6692",
           "#B6E880",
           "#FF97FF",
           "#FECB52"
          ],
          "font": {
           "color": "#2a3f5f"
          },
          "geo": {
           "bgcolor": "white",
           "lakecolor": "white",
           "landcolor": "#E5ECF6",
           "showlakes": true,
           "showland": true,
           "subunitcolor": "white"
          },
          "hoverlabel": {
           "align": "left"
          },
          "hovermode": "closest",
          "mapbox": {
           "style": "light"
          },
          "paper_bgcolor": "white",
          "plot_bgcolor": "#E5ECF6",
          "polar": {
           "angularaxis": {
            "gridcolor": "white",
            "linecolor": "white",
            "ticks": ""
           },
           "bgcolor": "#E5ECF6",
           "radialaxis": {
            "gridcolor": "white",
            "linecolor": "white",
            "ticks": ""
           }
          },
          "scene": {
           "xaxis": {
            "backgroundcolor": "#E5ECF6",
            "gridcolor": "white",
            "gridwidth": 2,
            "linecolor": "white",
            "showbackground": true,
            "ticks": "",
            "zerolinecolor": "white"
           },
           "yaxis": {
            "backgroundcolor": "#E5ECF6",
            "gridcolor": "white",
            "gridwidth": 2,
            "linecolor": "white",
            "showbackground": true,
            "ticks": "",
            "zerolinecolor": "white"
           },
           "zaxis": {
            "backgroundcolor": "#E5ECF6",
            "gridcolor": "white",
            "gridwidth": 2,
            "linecolor": "white",
            "showbackground": true,
            "ticks": "",
            "zerolinecolor": "white"
           }
          },
          "shapedefaults": {
           "line": {
            "color": "#2a3f5f"
           }
          },
          "ternary": {
           "aaxis": {
            "gridcolor": "white",
            "linecolor": "white",
            "ticks": ""
           },
           "baxis": {
            "gridcolor": "white",
            "linecolor": "white",
            "ticks": ""
           },
           "bgcolor": "#E5ECF6",
           "caxis": {
            "gridcolor": "white",
            "linecolor": "white",
            "ticks": ""
           }
          },
          "title": {
           "x": 0.05
          },
          "xaxis": {
           "automargin": true,
           "gridcolor": "white",
           "linecolor": "white",
           "ticks": "",
           "title": {
            "standoff": 15
           },
           "zerolinecolor": "white",
           "zerolinewidth": 2
          },
          "yaxis": {
           "automargin": true,
           "gridcolor": "white",
           "linecolor": "white",
           "ticks": "",
           "title": {
            "standoff": 15
           },
           "zerolinecolor": "white",
           "zerolinewidth": 2
          }
         }
        }
       }
      },
      "text/html": [
       "<div>                            <div id=\"2a6995f1-1424-477d-8219-5b634c651678\" class=\"plotly-graph-div\" style=\"height:525px; width:100%;\"></div>            <script type=\"text/javascript\">                require([\"plotly\"], function(Plotly) {                    window.PLOTLYENV=window.PLOTLYENV || {};                                    if (document.getElementById(\"2a6995f1-1424-477d-8219-5b634c651678\")) {                    Plotly.newPlot(                        \"2a6995f1-1424-477d-8219-5b634c651678\",                        [{\"dimensions\":[{\"label\":\"max_features\",\"values\":[40,40,40,40,\"None\",40,40,\"sqrt\",\"log2\",\"sqrt\",\"sqrt\",\"log2\",\"sqrt\",\"log2\",\"sqrt\",\"log2\",\"log2\",\"log2\",\"sqrt\",\"log2\"]},{\"label\":\"n_estimators\",\"values\":[900,700,700,200,100,200,100,800,800,400,400,600,600,800,500,100,200,600,800,100]},{\"label\":\"max_depth\",\"values\":[15,\"None\",15,\"None\",15,5,5,20,20,\"None\",20,15,15,15,15,\"None\",15,10,5,5]},{\"label\":\"mean_test_score\",\"values\":[0.997,0.997,0.997,0.995,0.946,0.784,0.768,0.749,0.749,0.737,0.73,0.705,0.705,0.704,0.702,0.691,0.673,0.629,0.531,0.528]}],\"domain\":{\"x\":[0.0,1.0],\"y\":[0.0,1.0]},\"line\":{\"color\":[0.997,0.997,0.997,0.995,0.946,0.784,0.768,0.749,0.749,0.737,0.73,0.705,0.705,0.704,0.702,0.691,0.673,0.629,0.531,0.528],\"coloraxis\":\"coloraxis\"},\"name\":\"\",\"type\":\"parcats\"}],                        {\"template\":{\"data\":{\"histogram2dcontour\":[{\"type\":\"histogram2dcontour\",\"colorbar\":{\"outlinewidth\":0,\"ticks\":\"\"},\"colorscale\":[[0.0,\"#0d0887\"],[0.1111111111111111,\"#46039f\"],[0.2222222222222222,\"#7201a8\"],[0.3333333333333333,\"#9c179e\"],[0.4444444444444444,\"#bd3786\"],[0.5555555555555556,\"#d8576b\"],[0.6666666666666666,\"#ed7953\"],[0.7777777777777778,\"#fb9f3a\"],[0.8888888888888888,\"#fdca26\"],[1.0,\"#f0f921\"]]}],\"choropleth\":[{\"type\":\"choropleth\",\"colorbar\":{\"outlinewidth\":0,\"ticks\":\"\"}}],\"histogram2d\":[{\"type\":\"histogram2d\",\"colorbar\":{\"outlinewidth\":0,\"ticks\":\"\"},\"colorscale\":[[0.0,\"#0d0887\"],[0.1111111111111111,\"#46039f\"],[0.2222222222222222,\"#7201a8\"],[0.3333333333333333,\"#9c179e\"],[0.4444444444444444,\"#bd3786\"],[0.5555555555555556,\"#d8576b\"],[0.6666666666666666,\"#ed7953\"],[0.7777777777777778,\"#fb9f3a\"],[0.8888888888888888,\"#fdca26\"],[1.0,\"#f0f921\"]]}],\"heatmap\":[{\"type\":\"heatmap\",\"colorbar\":{\"outlinewidth\":0,\"ticks\":\"\"},\"colorscale\":[[0.0,\"#0d0887\"],[0.1111111111111111,\"#46039f\"],[0.2222222222222222,\"#7201a8\"],[0.3333333333333333,\"#9c179e\"],[0.4444444444444444,\"#bd3786\"],[0.5555555555555556,\"#d8576b\"],[0.6666666666666666,\"#ed7953\"],[0.7777777777777778,\"#fb9f3a\"],[0.8888888888888888,\"#fdca26\"],[1.0,\"#f0f921\"]]}],\"heatmapgl\":[{\"type\":\"heatmapgl\",\"colorbar\":{\"outlinewidth\":0,\"ticks\":\"\"},\"colorscale\":[[0.0,\"#0d0887\"],[0.1111111111111111,\"#46039f\"],[0.2222222222222222,\"#7201a8\"],[0.3333333333333333,\"#9c179e\"],[0.4444444444444444,\"#bd3786\"],[0.5555555555555556,\"#d8576b\"],[0.6666666666666666,\"#ed7953\"],[0.7777777777777778,\"#fb9f3a\"],[0.8888888888888888,\"#fdca26\"],[1.0,\"#f0f921\"]]}],\"contourcarpet\":[{\"type\":\"contourcarpet\",\"colorbar\":{\"outlinewidth\":0,\"ticks\":\"\"}}],\"contour\":[{\"type\":\"contour\",\"colorbar\":{\"outlinewidth\":0,\"ticks\":\"\"},\"colorscale\":[[0.0,\"#0d0887\"],[0.1111111111111111,\"#46039f\"],[0.2222222222222222,\"#7201a8\"],[0.3333333333333333,\"#9c179e\"],[0.4444444444444444,\"#bd3786\"],[0.5555555555555556,\"#d8576b\"],[0.6666666666666666,\"#ed7953\"],[0.7777777777777778,\"#fb9f3a\"],[0.8888888888888888,\"#fdca26\"],[1.0,\"#f0f921\"]]}],\"surface\":[{\"type\":\"surface\",\"colorbar\":{\"outlinewidth\":0,\"ticks\":\"\"},\"colorscale\":[[0.0,\"#0d0887\"],[0.1111111111111111,\"#46039f\"],[0.2222222222222222,\"#7201a8\"],[0.3333333333333333,\"#9c179e\"],[0.4444444444444444,\"#bd3786\"],[0.5555555555555556,\"#d8576b\"],[0.6666666666666666,\"#ed7953\"],[0.7777777777777778,\"#fb9f3a\"],[0.8888888888888888,\"#fdca26\"],[1.0,\"#f0f921\"]]}],\"mesh3d\":[{\"type\":\"mesh3d\",\"colorbar\":{\"outlinewidth\":0,\"ticks\":\"\"}}],\"scatter\":[{\"fillpattern\":{\"fillmode\":\"overlay\",\"size\":10,\"solidity\":0.2},\"type\":\"scatter\"}],\"parcoords\":[{\"type\":\"parcoords\",\"line\":{\"colorbar\":{\"outlinewidth\":0,\"ticks\":\"\"}}}],\"scatterpolargl\":[{\"type\":\"scatterpolargl\",\"marker\":{\"colorbar\":{\"outlinewidth\":0,\"ticks\":\"\"}}}],\"bar\":[{\"error_x\":{\"color\":\"#2a3f5f\"},\"error_y\":{\"color\":\"#2a3f5f\"},\"marker\":{\"line\":{\"color\":\"#E5ECF6\",\"width\":0.5},\"pattern\":{\"fillmode\":\"overlay\",\"size\":10,\"solidity\":0.2}},\"type\":\"bar\"}],\"scattergeo\":[{\"type\":\"scattergeo\",\"marker\":{\"colorbar\":{\"outlinewidth\":0,\"ticks\":\"\"}}}],\"scatterpolar\":[{\"type\":\"scatterpolar\",\"marker\":{\"colorbar\":{\"outlinewidth\":0,\"ticks\":\"\"}}}],\"histogram\":[{\"marker\":{\"pattern\":{\"fillmode\":\"overlay\",\"size\":10,\"solidity\":0.2}},\"type\":\"histogram\"}],\"scattergl\":[{\"type\":\"scattergl\",\"marker\":{\"colorbar\":{\"outlinewidth\":0,\"ticks\":\"\"}}}],\"scatter3d\":[{\"type\":\"scatter3d\",\"line\":{\"colorbar\":{\"outlinewidth\":0,\"ticks\":\"\"}},\"marker\":{\"colorbar\":{\"outlinewidth\":0,\"ticks\":\"\"}}}],\"scattermapbox\":[{\"type\":\"scattermapbox\",\"marker\":{\"colorbar\":{\"outlinewidth\":0,\"ticks\":\"\"}}}],\"scatterternary\":[{\"type\":\"scatterternary\",\"marker\":{\"colorbar\":{\"outlinewidth\":0,\"ticks\":\"\"}}}],\"scattercarpet\":[{\"type\":\"scattercarpet\",\"marker\":{\"colorbar\":{\"outlinewidth\":0,\"ticks\":\"\"}}}],\"carpet\":[{\"aaxis\":{\"endlinecolor\":\"#2a3f5f\",\"gridcolor\":\"white\",\"linecolor\":\"white\",\"minorgridcolor\":\"white\",\"startlinecolor\":\"#2a3f5f\"},\"baxis\":{\"endlinecolor\":\"#2a3f5f\",\"gridcolor\":\"white\",\"linecolor\":\"white\",\"minorgridcolor\":\"white\",\"startlinecolor\":\"#2a3f5f\"},\"type\":\"carpet\"}],\"table\":[{\"cells\":{\"fill\":{\"color\":\"#EBF0F8\"},\"line\":{\"color\":\"white\"}},\"header\":{\"fill\":{\"color\":\"#C8D4E3\"},\"line\":{\"color\":\"white\"}},\"type\":\"table\"}],\"barpolar\":[{\"marker\":{\"line\":{\"color\":\"#E5ECF6\",\"width\":0.5},\"pattern\":{\"fillmode\":\"overlay\",\"size\":10,\"solidity\":0.2}},\"type\":\"barpolar\"}],\"pie\":[{\"automargin\":true,\"type\":\"pie\"}]},\"layout\":{\"autotypenumbers\":\"strict\",\"colorway\":[\"#636efa\",\"#EF553B\",\"#00cc96\",\"#ab63fa\",\"#FFA15A\",\"#19d3f3\",\"#FF6692\",\"#B6E880\",\"#FF97FF\",\"#FECB52\"],\"font\":{\"color\":\"#2a3f5f\"},\"hovermode\":\"closest\",\"hoverlabel\":{\"align\":\"left\"},\"paper_bgcolor\":\"white\",\"plot_bgcolor\":\"#E5ECF6\",\"polar\":{\"bgcolor\":\"#E5ECF6\",\"angularaxis\":{\"gridcolor\":\"white\",\"linecolor\":\"white\",\"ticks\":\"\"},\"radialaxis\":{\"gridcolor\":\"white\",\"linecolor\":\"white\",\"ticks\":\"\"}},\"ternary\":{\"bgcolor\":\"#E5ECF6\",\"aaxis\":{\"gridcolor\":\"white\",\"linecolor\":\"white\",\"ticks\":\"\"},\"baxis\":{\"gridcolor\":\"white\",\"linecolor\":\"white\",\"ticks\":\"\"},\"caxis\":{\"gridcolor\":\"white\",\"linecolor\":\"white\",\"ticks\":\"\"}},\"coloraxis\":{\"colorbar\":{\"outlinewidth\":0,\"ticks\":\"\"}},\"colorscale\":{\"sequential\":[[0.0,\"#0d0887\"],[0.1111111111111111,\"#46039f\"],[0.2222222222222222,\"#7201a8\"],[0.3333333333333333,\"#9c179e\"],[0.4444444444444444,\"#bd3786\"],[0.5555555555555556,\"#d8576b\"],[0.6666666666666666,\"#ed7953\"],[0.7777777777777778,\"#fb9f3a\"],[0.8888888888888888,\"#fdca26\"],[1.0,\"#f0f921\"]],\"sequentialminus\":[[0.0,\"#0d0887\"],[0.1111111111111111,\"#46039f\"],[0.2222222222222222,\"#7201a8\"],[0.3333333333333333,\"#9c179e\"],[0.4444444444444444,\"#bd3786\"],[0.5555555555555556,\"#d8576b\"],[0.6666666666666666,\"#ed7953\"],[0.7777777777777778,\"#fb9f3a\"],[0.8888888888888888,\"#fdca26\"],[1.0,\"#f0f921\"]],\"diverging\":[[0,\"#8e0152\"],[0.1,\"#c51b7d\"],[0.2,\"#de77ae\"],[0.3,\"#f1b6da\"],[0.4,\"#fde0ef\"],[0.5,\"#f7f7f7\"],[0.6,\"#e6f5d0\"],[0.7,\"#b8e186\"],[0.8,\"#7fbc41\"],[0.9,\"#4d9221\"],[1,\"#276419\"]]},\"xaxis\":{\"gridcolor\":\"white\",\"linecolor\":\"white\",\"ticks\":\"\",\"title\":{\"standoff\":15},\"zerolinecolor\":\"white\",\"automargin\":true,\"zerolinewidth\":2},\"yaxis\":{\"gridcolor\":\"white\",\"linecolor\":\"white\",\"ticks\":\"\",\"title\":{\"standoff\":15},\"zerolinecolor\":\"white\",\"automargin\":true,\"zerolinewidth\":2},\"scene\":{\"xaxis\":{\"backgroundcolor\":\"#E5ECF6\",\"gridcolor\":\"white\",\"linecolor\":\"white\",\"showbackground\":true,\"ticks\":\"\",\"zerolinecolor\":\"white\",\"gridwidth\":2},\"yaxis\":{\"backgroundcolor\":\"#E5ECF6\",\"gridcolor\":\"white\",\"linecolor\":\"white\",\"showbackground\":true,\"ticks\":\"\",\"zerolinecolor\":\"white\",\"gridwidth\":2},\"zaxis\":{\"backgroundcolor\":\"#E5ECF6\",\"gridcolor\":\"white\",\"linecolor\":\"white\",\"showbackground\":true,\"ticks\":\"\",\"zerolinecolor\":\"white\",\"gridwidth\":2}},\"shapedefaults\":{\"line\":{\"color\":\"#2a3f5f\"}},\"annotationdefaults\":{\"arrowcolor\":\"#2a3f5f\",\"arrowhead\":0,\"arrowwidth\":1},\"geo\":{\"bgcolor\":\"white\",\"landcolor\":\"#E5ECF6\",\"subunitcolor\":\"white\",\"showland\":true,\"showlakes\":true,\"lakecolor\":\"white\"},\"title\":{\"x\":0.05},\"mapbox\":{\"style\":\"light\"}}},\"coloraxis\":{\"colorbar\":{\"title\":{\"text\":\"mean_test_score\"}},\"colorscale\":[[0.0,\"#0d0887\"],[0.1111111111111111,\"#46039f\"],[0.2222222222222222,\"#7201a8\"],[0.3333333333333333,\"#9c179e\"],[0.4444444444444444,\"#bd3786\"],[0.5555555555555556,\"#d8576b\"],[0.6666666666666666,\"#ed7953\"],[0.7777777777777778,\"#fb9f3a\"],[0.8888888888888888,\"#fdca26\"],[1.0,\"#f0f921\"]]},\"legend\":{\"tracegroupgap\":0},\"margin\":{\"t\":60}},                        {\"responsive\": true}                    ).then(function(){\n",
       "                            \n",
       "var gd = document.getElementById('2a6995f1-1424-477d-8219-5b634c651678');\n",
       "var x = new MutationObserver(function (mutations, observer) {{\n",
       "        var display = window.getComputedStyle(gd).display;\n",
       "        if (!display || display === 'none') {{\n",
       "            console.log([gd, 'removed!']);\n",
       "            Plotly.purge(gd);\n",
       "            observer.disconnect();\n",
       "        }}\n",
       "}});\n",
       "\n",
       "// Listen for the removal of the full notebook cells\n",
       "var notebookContainer = gd.closest('#notebook-container');\n",
       "if (notebookContainer) {{\n",
       "    x.observe(notebookContainer, {childList: true});\n",
       "}}\n",
       "\n",
       "// Listen for the clearing of the current output cell\n",
       "var outputEl = gd.closest('.output');\n",
       "if (outputEl) {{\n",
       "    x.observe(outputEl, {childList: true});\n",
       "}}\n",
       "\n",
       "                        })                };                });            </script>        </div>"
      ]
     },
     "metadata": {},
     "output_type": "display_data"
    }
   ],
   "source": [
    "px.parallel_categories(\n",
    "    df_cv_of.iloc[:,:-1],\n",
    "    color='mean_test_score'\n",
    ")"
   ]
  },
  {
   "cell_type": "markdown",
   "metadata": {},
   "source": [
    "### Appendix\n",
    "The actual values used to generate the above plots"
   ]
  },
  {
   "cell_type": "code",
   "execution_count": 19,
   "metadata": {},
   "outputs": [
    {
     "data": {
      "text/html": [
       "<style type=\"text/css\">\n",
       "#T_958cf_row0_col0 {\n",
       "  background-color: #e9f0f4;\n",
       "  color: #000000;\n",
       "}\n",
       "#T_958cf_row1_col0, #T_958cf_row5_col0 {\n",
       "  background-color: #f8f3f0;\n",
       "  color: #000000;\n",
       "}\n",
       "#T_958cf_row2_col0 {\n",
       "  background-color: #fae8de;\n",
       "  color: #000000;\n",
       "}\n",
       "#T_958cf_row3_col0 {\n",
       "  background-color: #f0f4f6;\n",
       "  color: #000000;\n",
       "}\n",
       "#T_958cf_row4_col0 {\n",
       "  background-color: #f9eee7;\n",
       "  color: #000000;\n",
       "}\n",
       "#T_958cf_row6_col0 {\n",
       "  background-color: #f5a886;\n",
       "  color: #000000;\n",
       "}\n",
       "#T_958cf_row7_col0 {\n",
       "  background-color: #d35a4a;\n",
       "  color: #f1f1f1;\n",
       "}\n",
       "#T_958cf_row8_col0 {\n",
       "  background-color: #f9ede5;\n",
       "  color: #000000;\n",
       "}\n",
       "</style>\n",
       "<table id=\"T_958cf\">\n",
       "  <thead>\n",
       "    <tr>\n",
       "      <th class=\"blank\" >&nbsp;</th>\n",
       "      <th class=\"blank\" >&nbsp;</th>\n",
       "      <th class=\"blank\" >&nbsp;</th>\n",
       "      <th class=\"blank level0\" >&nbsp;</th>\n",
       "      <th id=\"T_958cf_level0_col0\" class=\"col_heading level0 col0\" >delta</th>\n",
       "    </tr>\n",
       "    <tr>\n",
       "      <th class=\"index_name level0\" >dataset</th>\n",
       "      <th class=\"index_name level1\" >n_sample</th>\n",
       "      <th class=\"index_name level2\" >max_feature</th>\n",
       "      <th class=\"index_name level3\" >max_depth</th>\n",
       "      <th class=\"blank col0\" >&nbsp;</th>\n",
       "    </tr>\n",
       "  </thead>\n",
       "  <tbody>\n",
       "    <tr>\n",
       "      <th id=\"T_958cf_level0_row0\" class=\"row_heading level0 row0\" rowspan=\"9\">sparse_parity</th>\n",
       "      <th id=\"T_958cf_level1_row0\" class=\"row_heading level1 row0\" rowspan=\"3\">100</th>\n",
       "      <th id=\"T_958cf_level2_row0\" class=\"row_heading level2 row0\" >20</th>\n",
       "      <th id=\"T_958cf_level3_row0\" class=\"row_heading level3 row0\" >10</th>\n",
       "      <td id=\"T_958cf_row0_col0\" class=\"data row0 col0\" >-0.030006</td>\n",
       "    </tr>\n",
       "    <tr>\n",
       "      <th id=\"T_958cf_level2_row1\" class=\"row_heading level2 row1\" >40</th>\n",
       "      <th id=\"T_958cf_level3_row1\" class=\"row_heading level3 row1\" >10</th>\n",
       "      <td id=\"T_958cf_row1_col0\" class=\"data row1 col0\" >0.009507</td>\n",
       "    </tr>\n",
       "    <tr>\n",
       "      <th id=\"T_958cf_level2_row2\" class=\"row_heading level2 row2\" >sqrt</th>\n",
       "      <th id=\"T_958cf_level3_row2\" class=\"row_heading level3 row2\" >10</th>\n",
       "      <td id=\"T_958cf_row2_col0\" class=\"data row2 col0\" >0.040701</td>\n",
       "    </tr>\n",
       "    <tr>\n",
       "      <th id=\"T_958cf_level1_row3\" class=\"row_heading level1 row3\" rowspan=\"3\">1000</th>\n",
       "      <th id=\"T_958cf_level2_row3\" class=\"row_heading level2 row3\" >20</th>\n",
       "      <th id=\"T_958cf_level3_row3\" class=\"row_heading level3 row3\" >10</th>\n",
       "      <td id=\"T_958cf_row3_col0\" class=\"data row3 col0\" >-0.013043</td>\n",
       "    </tr>\n",
       "    <tr>\n",
       "      <th id=\"T_958cf_level2_row4\" class=\"row_heading level2 row4\" >40</th>\n",
       "      <th id=\"T_958cf_level3_row4\" class=\"row_heading level3 row4\" >10</th>\n",
       "      <td id=\"T_958cf_row4_col0\" class=\"data row4 col0\" >0.027995</td>\n",
       "    </tr>\n",
       "    <tr>\n",
       "      <th id=\"T_958cf_level2_row5\" class=\"row_heading level2 row5\" >sqrt</th>\n",
       "      <th id=\"T_958cf_level3_row5\" class=\"row_heading level3 row5\" >10</th>\n",
       "      <td id=\"T_958cf_row5_col0\" class=\"data row5 col0\" >0.011991</td>\n",
       "    </tr>\n",
       "    <tr>\n",
       "      <th id=\"T_958cf_level1_row6\" class=\"row_heading level1 row6\" rowspan=\"3\">10000</th>\n",
       "      <th id=\"T_958cf_level2_row6\" class=\"row_heading level2 row6\" >20</th>\n",
       "      <th id=\"T_958cf_level3_row6\" class=\"row_heading level3 row6\" >10</th>\n",
       "      <td id=\"T_958cf_row6_col0\" class=\"data row6 col0\" >0.153195</td>\n",
       "    </tr>\n",
       "    <tr>\n",
       "      <th id=\"T_958cf_level2_row7\" class=\"row_heading level2 row7\" >40</th>\n",
       "      <th id=\"T_958cf_level3_row7\" class=\"row_heading level3 row7\" >10</th>\n",
       "      <td id=\"T_958cf_row7_col0\" class=\"data row7 col0\" >0.244497</td>\n",
       "    </tr>\n",
       "    <tr>\n",
       "      <th id=\"T_958cf_level2_row8\" class=\"row_heading level2 row8\" >sqrt</th>\n",
       "      <th id=\"T_958cf_level3_row8\" class=\"row_heading level3 row8\" >10</th>\n",
       "      <td id=\"T_958cf_row8_col0\" class=\"data row8 col0\" >0.031197</td>\n",
       "    </tr>\n",
       "  </tbody>\n",
       "</table>\n"
      ],
      "text/plain": [
       "<pandas.io.formats.style.Styler at 0x7f24c255ba90>"
      ]
     },
     "execution_count": 19,
     "metadata": {},
     "output_type": "execute_result"
    }
   ],
   "source": [
    "col_groupby = ['dataset','n_sample','max_feature','max_depth']\n",
    "dff = df2.groupby(col_groupby).mean()\n",
    "dff.style.background_gradient(cmap='RdBu_r', vmin=-0.4, vmax=0.4)"
   ]
  },
  {
   "cell_type": "code",
   "execution_count": 139,
   "metadata": {},
   "outputs": [
    {
     "data": {
      "text/html": [
       "<div>\n",
       "<style scoped>\n",
       "    .dataframe tbody tr th:only-of-type {\n",
       "        vertical-align: middle;\n",
       "    }\n",
       "\n",
       "    .dataframe tbody tr th {\n",
       "        vertical-align: top;\n",
       "    }\n",
       "\n",
       "    .dataframe thead th {\n",
       "        text-align: right;\n",
       "    }\n",
       "</style>\n",
       "<table border=\"1\" class=\"dataframe\">\n",
       "  <thead>\n",
       "    <tr style=\"text-align: right;\">\n",
       "      <th></th>\n",
       "      <th>mean_fit_time</th>\n",
       "      <th>std_fit_time</th>\n",
       "      <th>mean_score_time</th>\n",
       "      <th>std_score_time</th>\n",
       "      <th>n_estimators</th>\n",
       "      <th>max_features</th>\n",
       "      <th>max_depth</th>\n",
       "      <th>params</th>\n",
       "      <th>split0_test_score</th>\n",
       "      <th>split1_test_score</th>\n",
       "      <th>split2_test_score</th>\n",
       "      <th>split3_test_score</th>\n",
       "      <th>split4_test_score</th>\n",
       "      <th>mean_test_score</th>\n",
       "      <th>std_test_score</th>\n",
       "      <th>rank_test_score</th>\n",
       "      <th>clf</th>\n",
       "    </tr>\n",
       "  </thead>\n",
       "  <tbody>\n",
       "    <tr>\n",
       "      <th>0</th>\n",
       "      <td>9.824490</td>\n",
       "      <td>0.160347</td>\n",
       "      <td>0.367614</td>\n",
       "      <td>0.006759</td>\n",
       "      <td>400</td>\n",
       "      <td>sqrt</td>\n",
       "      <td>20</td>\n",
       "      <td>{'n_estimators': 400, 'max_features': 'sqrt', ...</td>\n",
       "      <td>0.7440</td>\n",
       "      <td>0.7610</td>\n",
       "      <td>0.7535</td>\n",
       "      <td>0.6925</td>\n",
       "      <td>0.6935</td>\n",
       "      <td>0.729</td>\n",
       "      <td>0.029805</td>\n",
       "      <td>7</td>\n",
       "      <td>RF</td>\n",
       "    </tr>\n",
       "    <tr>\n",
       "      <th>1</th>\n",
       "      <td>10.979304</td>\n",
       "      <td>0.174483</td>\n",
       "      <td>0.418130</td>\n",
       "      <td>0.006136</td>\n",
       "      <td>400</td>\n",
       "      <td>sqrt</td>\n",
       "      <td>None</td>\n",
       "      <td>{'n_estimators': 400, 'max_features': 'sqrt', ...</td>\n",
       "      <td>0.7660</td>\n",
       "      <td>0.8020</td>\n",
       "      <td>0.7600</td>\n",
       "      <td>0.7200</td>\n",
       "      <td>0.7010</td>\n",
       "      <td>0.750</td>\n",
       "      <td>0.035667</td>\n",
       "      <td>6</td>\n",
       "      <td>RF</td>\n",
       "    </tr>\n",
       "    <tr>\n",
       "      <th>2</th>\n",
       "      <td>85.888052</td>\n",
       "      <td>0.894214</td>\n",
       "      <td>0.684722</td>\n",
       "      <td>0.016078</td>\n",
       "      <td>900</td>\n",
       "      <td>40</td>\n",
       "      <td>15</td>\n",
       "      <td>{'n_estimators': 900, 'max_features': 40, 'max...</td>\n",
       "      <td>0.8915</td>\n",
       "      <td>0.9385</td>\n",
       "      <td>0.9015</td>\n",
       "      <td>0.8030</td>\n",
       "      <td>0.8255</td>\n",
       "      <td>0.872</td>\n",
       "      <td>0.050192</td>\n",
       "      <td>3</td>\n",
       "      <td>RF</td>\n",
       "    </tr>\n",
       "    <tr>\n",
       "      <th>3</th>\n",
       "      <td>2.729691</td>\n",
       "      <td>0.053969</td>\n",
       "      <td>0.105233</td>\n",
       "      <td>0.002907</td>\n",
       "      <td>100</td>\n",
       "      <td>log2</td>\n",
       "      <td>None</td>\n",
       "      <td>{'n_estimators': 100, 'max_features': 'log2', ...</td>\n",
       "      <td>0.7300</td>\n",
       "      <td>0.7690</td>\n",
       "      <td>0.7385</td>\n",
       "      <td>0.6975</td>\n",
       "      <td>0.6690</td>\n",
       "      <td>0.721</td>\n",
       "      <td>0.034489</td>\n",
       "      <td>10</td>\n",
       "      <td>RF</td>\n",
       "    </tr>\n",
       "    <tr>\n",
       "      <th>4</th>\n",
       "      <td>19.861284</td>\n",
       "      <td>0.265788</td>\n",
       "      <td>0.735325</td>\n",
       "      <td>0.007114</td>\n",
       "      <td>800</td>\n",
       "      <td>sqrt</td>\n",
       "      <td>20</td>\n",
       "      <td>{'n_estimators': 800, 'max_features': 'sqrt', ...</td>\n",
       "      <td>0.7555</td>\n",
       "      <td>0.7600</td>\n",
       "      <td>0.7665</td>\n",
       "      <td>0.6710</td>\n",
       "      <td>0.6865</td>\n",
       "      <td>0.728</td>\n",
       "      <td>0.040580</td>\n",
       "      <td>8</td>\n",
       "      <td>RF</td>\n",
       "    </tr>\n",
       "    <tr>\n",
       "      <th>5</th>\n",
       "      <td>3.972871</td>\n",
       "      <td>0.014544</td>\n",
       "      <td>0.033921</td>\n",
       "      <td>0.000671</td>\n",
       "      <td>100</td>\n",
       "      <td>40</td>\n",
       "      <td>5</td>\n",
       "      <td>{'n_estimators': 100, 'max_features': 40, 'max...</td>\n",
       "      <td>0.5015</td>\n",
       "      <td>0.5415</td>\n",
       "      <td>0.8230</td>\n",
       "      <td>0.5155</td>\n",
       "      <td>0.5070</td>\n",
       "      <td>0.578</td>\n",
       "      <td>0.123415</td>\n",
       "      <td>17</td>\n",
       "      <td>RF</td>\n",
       "    </tr>\n",
       "    <tr>\n",
       "      <th>6</th>\n",
       "      <td>0.900659</td>\n",
       "      <td>0.004660</td>\n",
       "      <td>0.032919</td>\n",
       "      <td>0.000578</td>\n",
       "      <td>100</td>\n",
       "      <td>log2</td>\n",
       "      <td>5</td>\n",
       "      <td>{'n_estimators': 100, 'max_features': 'log2', ...</td>\n",
       "      <td>0.5155</td>\n",
       "      <td>0.5035</td>\n",
       "      <td>0.5505</td>\n",
       "      <td>0.4950</td>\n",
       "      <td>0.5255</td>\n",
       "      <td>0.518</td>\n",
       "      <td>0.019277</td>\n",
       "      <td>19</td>\n",
       "      <td>RF</td>\n",
       "    </tr>\n",
       "    <tr>\n",
       "      <th>7</th>\n",
       "      <td>10.611544</td>\n",
       "      <td>0.120495</td>\n",
       "      <td>0.388585</td>\n",
       "      <td>0.003641</td>\n",
       "      <td>500</td>\n",
       "      <td>sqrt</td>\n",
       "      <td>15</td>\n",
       "      <td>{'n_estimators': 500, 'max_features': 'sqrt', ...</td>\n",
       "      <td>0.6940</td>\n",
       "      <td>0.7030</td>\n",
       "      <td>0.7165</td>\n",
       "      <td>0.6310</td>\n",
       "      <td>0.6335</td>\n",
       "      <td>0.676</td>\n",
       "      <td>0.036121</td>\n",
       "      <td>11</td>\n",
       "      <td>RF</td>\n",
       "    </tr>\n",
       "    <tr>\n",
       "      <th>8</th>\n",
       "      <td>9.407937</td>\n",
       "      <td>0.119426</td>\n",
       "      <td>0.075254</td>\n",
       "      <td>0.001648</td>\n",
       "      <td>100</td>\n",
       "      <td>None</td>\n",
       "      <td>15</td>\n",
       "      <td>{'n_estimators': 100, 'max_features': None, 'm...</td>\n",
       "      <td>0.8850</td>\n",
       "      <td>0.8880</td>\n",
       "      <td>0.8885</td>\n",
       "      <td>0.7865</td>\n",
       "      <td>0.7280</td>\n",
       "      <td>0.835</td>\n",
       "      <td>0.066291</td>\n",
       "      <td>5</td>\n",
       "      <td>RF</td>\n",
       "    </tr>\n",
       "    <tr>\n",
       "      <th>9</th>\n",
       "      <td>4.210815</td>\n",
       "      <td>0.039711</td>\n",
       "      <td>0.155348</td>\n",
       "      <td>0.001597</td>\n",
       "      <td>200</td>\n",
       "      <td>log2</td>\n",
       "      <td>15</td>\n",
       "      <td>{'n_estimators': 200, 'max_features': 'log2', ...</td>\n",
       "      <td>0.6670</td>\n",
       "      <td>0.6565</td>\n",
       "      <td>0.7305</td>\n",
       "      <td>0.6250</td>\n",
       "      <td>0.6065</td>\n",
       "      <td>0.657</td>\n",
       "      <td>0.042607</td>\n",
       "      <td>15</td>\n",
       "      <td>RF</td>\n",
       "    </tr>\n",
       "    <tr>\n",
       "      <th>10</th>\n",
       "      <td>16.972397</td>\n",
       "      <td>0.195625</td>\n",
       "      <td>0.620186</td>\n",
       "      <td>0.008174</td>\n",
       "      <td>800</td>\n",
       "      <td>log2</td>\n",
       "      <td>15</td>\n",
       "      <td>{'n_estimators': 800, 'max_features': 'log2', ...</td>\n",
       "      <td>0.6825</td>\n",
       "      <td>0.6895</td>\n",
       "      <td>0.7135</td>\n",
       "      <td>0.6290</td>\n",
       "      <td>0.6255</td>\n",
       "      <td>0.668</td>\n",
       "      <td>0.034843</td>\n",
       "      <td>14</td>\n",
       "      <td>RF</td>\n",
       "    </tr>\n",
       "    <tr>\n",
       "      <th>11</th>\n",
       "      <td>65.177289</td>\n",
       "      <td>1.271558</td>\n",
       "      <td>0.520726</td>\n",
       "      <td>0.008040</td>\n",
       "      <td>700</td>\n",
       "      <td>40</td>\n",
       "      <td>15</td>\n",
       "      <td>{'n_estimators': 700, 'max_features': 40, 'max...</td>\n",
       "      <td>0.8930</td>\n",
       "      <td>0.9325</td>\n",
       "      <td>0.8905</td>\n",
       "      <td>0.7970</td>\n",
       "      <td>0.8090</td>\n",
       "      <td>0.864</td>\n",
       "      <td>0.052438</td>\n",
       "      <td>4</td>\n",
       "      <td>RF</td>\n",
       "    </tr>\n",
       "    <tr>\n",
       "      <th>12</th>\n",
       "      <td>79.978201</td>\n",
       "      <td>1.831284</td>\n",
       "      <td>0.645783</td>\n",
       "      <td>0.012590</td>\n",
       "      <td>700</td>\n",
       "      <td>40</td>\n",
       "      <td>None</td>\n",
       "      <td>{'n_estimators': 700, 'max_features': 40, 'max...</td>\n",
       "      <td>0.9160</td>\n",
       "      <td>0.9510</td>\n",
       "      <td>0.9220</td>\n",
       "      <td>0.8425</td>\n",
       "      <td>0.8595</td>\n",
       "      <td>0.898</td>\n",
       "      <td>0.040673</td>\n",
       "      <td>1</td>\n",
       "      <td>RF</td>\n",
       "    </tr>\n",
       "    <tr>\n",
       "      <th>13</th>\n",
       "      <td>6.709458</td>\n",
       "      <td>0.050349</td>\n",
       "      <td>0.244804</td>\n",
       "      <td>0.003999</td>\n",
       "      <td>800</td>\n",
       "      <td>sqrt</td>\n",
       "      <td>5</td>\n",
       "      <td>{'n_estimators': 800, 'max_features': 'sqrt', ...</td>\n",
       "      <td>0.5045</td>\n",
       "      <td>0.5305</td>\n",
       "      <td>0.5055</td>\n",
       "      <td>0.4950</td>\n",
       "      <td>0.5290</td>\n",
       "      <td>0.513</td>\n",
       "      <td>0.014246</td>\n",
       "      <td>20</td>\n",
       "      <td>RF</td>\n",
       "    </tr>\n",
       "    <tr>\n",
       "      <th>14</th>\n",
       "      <td>12.107485</td>\n",
       "      <td>0.196365</td>\n",
       "      <td>0.446698</td>\n",
       "      <td>0.009664</td>\n",
       "      <td>600</td>\n",
       "      <td>log2</td>\n",
       "      <td>15</td>\n",
       "      <td>{'n_estimators': 600, 'max_features': 'log2', ...</td>\n",
       "      <td>0.6880</td>\n",
       "      <td>0.6970</td>\n",
       "      <td>0.7145</td>\n",
       "      <td>0.6315</td>\n",
       "      <td>0.6355</td>\n",
       "      <td>0.673</td>\n",
       "      <td>0.033619</td>\n",
       "      <td>12</td>\n",
       "      <td>RF</td>\n",
       "    </tr>\n",
       "    <tr>\n",
       "      <th>15</th>\n",
       "      <td>18.745296</td>\n",
       "      <td>0.273127</td>\n",
       "      <td>0.719003</td>\n",
       "      <td>0.052151</td>\n",
       "      <td>800</td>\n",
       "      <td>log2</td>\n",
       "      <td>20</td>\n",
       "      <td>{'n_estimators': 800, 'max_features': 'log2', ...</td>\n",
       "      <td>0.7555</td>\n",
       "      <td>0.7600</td>\n",
       "      <td>0.7665</td>\n",
       "      <td>0.6710</td>\n",
       "      <td>0.6865</td>\n",
       "      <td>0.728</td>\n",
       "      <td>0.040580</td>\n",
       "      <td>8</td>\n",
       "      <td>RF</td>\n",
       "    </tr>\n",
       "    <tr>\n",
       "      <th>16</th>\n",
       "      <td>9.650749</td>\n",
       "      <td>0.476824</td>\n",
       "      <td>0.346729</td>\n",
       "      <td>0.024682</td>\n",
       "      <td>600</td>\n",
       "      <td>log2</td>\n",
       "      <td>10</td>\n",
       "      <td>{'n_estimators': 600, 'max_features': 'log2', ...</td>\n",
       "      <td>0.5690</td>\n",
       "      <td>0.6100</td>\n",
       "      <td>0.6070</td>\n",
       "      <td>0.5670</td>\n",
       "      <td>0.5805</td>\n",
       "      <td>0.587</td>\n",
       "      <td>0.018411</td>\n",
       "      <td>16</td>\n",
       "      <td>RF</td>\n",
       "    </tr>\n",
       "    <tr>\n",
       "      <th>17</th>\n",
       "      <td>22.633672</td>\n",
       "      <td>0.566396</td>\n",
       "      <td>0.186198</td>\n",
       "      <td>0.005166</td>\n",
       "      <td>200</td>\n",
       "      <td>40</td>\n",
       "      <td>None</td>\n",
       "      <td>{'n_estimators': 200, 'max_features': 40, 'max...</td>\n",
       "      <td>0.9030</td>\n",
       "      <td>0.9225</td>\n",
       "      <td>0.9165</td>\n",
       "      <td>0.8255</td>\n",
       "      <td>0.8265</td>\n",
       "      <td>0.879</td>\n",
       "      <td>0.043572</td>\n",
       "      <td>2</td>\n",
       "      <td>RF</td>\n",
       "    </tr>\n",
       "    <tr>\n",
       "      <th>18</th>\n",
       "      <td>12.338527</td>\n",
       "      <td>0.096746</td>\n",
       "      <td>0.454457</td>\n",
       "      <td>0.002728</td>\n",
       "      <td>600</td>\n",
       "      <td>sqrt</td>\n",
       "      <td>15</td>\n",
       "      <td>{'n_estimators': 600, 'max_features': 'sqrt', ...</td>\n",
       "      <td>0.6880</td>\n",
       "      <td>0.6970</td>\n",
       "      <td>0.7145</td>\n",
       "      <td>0.6315</td>\n",
       "      <td>0.6355</td>\n",
       "      <td>0.673</td>\n",
       "      <td>0.033619</td>\n",
       "      <td>12</td>\n",
       "      <td>RF</td>\n",
       "    </tr>\n",
       "    <tr>\n",
       "      <th>19</th>\n",
       "      <td>7.681659</td>\n",
       "      <td>0.027347</td>\n",
       "      <td>0.064287</td>\n",
       "      <td>0.001044</td>\n",
       "      <td>200</td>\n",
       "      <td>40</td>\n",
       "      <td>5</td>\n",
       "      <td>{'n_estimators': 200, 'max_features': 40, 'max...</td>\n",
       "      <td>0.5300</td>\n",
       "      <td>0.6120</td>\n",
       "      <td>0.6980</td>\n",
       "      <td>0.5085</td>\n",
       "      <td>0.5280</td>\n",
       "      <td>0.575</td>\n",
       "      <td>0.070928</td>\n",
       "      <td>18</td>\n",
       "      <td>RF</td>\n",
       "    </tr>\n",
       "  </tbody>\n",
       "</table>\n",
       "</div>"
      ],
      "text/plain": [
       "    mean_fit_time  std_fit_time  mean_score_time  std_score_time  \\\n",
       "0        9.824490      0.160347         0.367614        0.006759   \n",
       "1       10.979304      0.174483         0.418130        0.006136   \n",
       "2       85.888052      0.894214         0.684722        0.016078   \n",
       "3        2.729691      0.053969         0.105233        0.002907   \n",
       "4       19.861284      0.265788         0.735325        0.007114   \n",
       "5        3.972871      0.014544         0.033921        0.000671   \n",
       "6        0.900659      0.004660         0.032919        0.000578   \n",
       "7       10.611544      0.120495         0.388585        0.003641   \n",
       "8        9.407937      0.119426         0.075254        0.001648   \n",
       "9        4.210815      0.039711         0.155348        0.001597   \n",
       "10      16.972397      0.195625         0.620186        0.008174   \n",
       "11      65.177289      1.271558         0.520726        0.008040   \n",
       "12      79.978201      1.831284         0.645783        0.012590   \n",
       "13       6.709458      0.050349         0.244804        0.003999   \n",
       "14      12.107485      0.196365         0.446698        0.009664   \n",
       "15      18.745296      0.273127         0.719003        0.052151   \n",
       "16       9.650749      0.476824         0.346729        0.024682   \n",
       "17      22.633672      0.566396         0.186198        0.005166   \n",
       "18      12.338527      0.096746         0.454457        0.002728   \n",
       "19       7.681659      0.027347         0.064287        0.001044   \n",
       "\n",
       "    n_estimators max_features max_depth  \\\n",
       "0            400         sqrt        20   \n",
       "1            400         sqrt      None   \n",
       "2            900           40        15   \n",
       "3            100         log2      None   \n",
       "4            800         sqrt        20   \n",
       "5            100           40         5   \n",
       "6            100         log2         5   \n",
       "7            500         sqrt        15   \n",
       "8            100         None        15   \n",
       "9            200         log2        15   \n",
       "10           800         log2        15   \n",
       "11           700           40        15   \n",
       "12           700           40      None   \n",
       "13           800         sqrt         5   \n",
       "14           600         log2        15   \n",
       "15           800         log2        20   \n",
       "16           600         log2        10   \n",
       "17           200           40      None   \n",
       "18           600         sqrt        15   \n",
       "19           200           40         5   \n",
       "\n",
       "                                               params  split0_test_score  \\\n",
       "0   {'n_estimators': 400, 'max_features': 'sqrt', ...             0.7440   \n",
       "1   {'n_estimators': 400, 'max_features': 'sqrt', ...             0.7660   \n",
       "2   {'n_estimators': 900, 'max_features': 40, 'max...             0.8915   \n",
       "3   {'n_estimators': 100, 'max_features': 'log2', ...             0.7300   \n",
       "4   {'n_estimators': 800, 'max_features': 'sqrt', ...             0.7555   \n",
       "5   {'n_estimators': 100, 'max_features': 40, 'max...             0.5015   \n",
       "6   {'n_estimators': 100, 'max_features': 'log2', ...             0.5155   \n",
       "7   {'n_estimators': 500, 'max_features': 'sqrt', ...             0.6940   \n",
       "8   {'n_estimators': 100, 'max_features': None, 'm...             0.8850   \n",
       "9   {'n_estimators': 200, 'max_features': 'log2', ...             0.6670   \n",
       "10  {'n_estimators': 800, 'max_features': 'log2', ...             0.6825   \n",
       "11  {'n_estimators': 700, 'max_features': 40, 'max...             0.8930   \n",
       "12  {'n_estimators': 700, 'max_features': 40, 'max...             0.9160   \n",
       "13  {'n_estimators': 800, 'max_features': 'sqrt', ...             0.5045   \n",
       "14  {'n_estimators': 600, 'max_features': 'log2', ...             0.6880   \n",
       "15  {'n_estimators': 800, 'max_features': 'log2', ...             0.7555   \n",
       "16  {'n_estimators': 600, 'max_features': 'log2', ...             0.5690   \n",
       "17  {'n_estimators': 200, 'max_features': 40, 'max...             0.9030   \n",
       "18  {'n_estimators': 600, 'max_features': 'sqrt', ...             0.6880   \n",
       "19  {'n_estimators': 200, 'max_features': 40, 'max...             0.5300   \n",
       "\n",
       "    split1_test_score  split2_test_score  split3_test_score  \\\n",
       "0              0.7610             0.7535             0.6925   \n",
       "1              0.8020             0.7600             0.7200   \n",
       "2              0.9385             0.9015             0.8030   \n",
       "3              0.7690             0.7385             0.6975   \n",
       "4              0.7600             0.7665             0.6710   \n",
       "5              0.5415             0.8230             0.5155   \n",
       "6              0.5035             0.5505             0.4950   \n",
       "7              0.7030             0.7165             0.6310   \n",
       "8              0.8880             0.8885             0.7865   \n",
       "9              0.6565             0.7305             0.6250   \n",
       "10             0.6895             0.7135             0.6290   \n",
       "11             0.9325             0.8905             0.7970   \n",
       "12             0.9510             0.9220             0.8425   \n",
       "13             0.5305             0.5055             0.4950   \n",
       "14             0.6970             0.7145             0.6315   \n",
       "15             0.7600             0.7665             0.6710   \n",
       "16             0.6100             0.6070             0.5670   \n",
       "17             0.9225             0.9165             0.8255   \n",
       "18             0.6970             0.7145             0.6315   \n",
       "19             0.6120             0.6980             0.5085   \n",
       "\n",
       "    split4_test_score  mean_test_score  std_test_score  rank_test_score clf  \n",
       "0              0.6935            0.729        0.029805                7  RF  \n",
       "1              0.7010            0.750        0.035667                6  RF  \n",
       "2              0.8255            0.872        0.050192                3  RF  \n",
       "3              0.6690            0.721        0.034489               10  RF  \n",
       "4              0.6865            0.728        0.040580                8  RF  \n",
       "5              0.5070            0.578        0.123415               17  RF  \n",
       "6              0.5255            0.518        0.019277               19  RF  \n",
       "7              0.6335            0.676        0.036121               11  RF  \n",
       "8              0.7280            0.835        0.066291                5  RF  \n",
       "9              0.6065            0.657        0.042607               15  RF  \n",
       "10             0.6255            0.668        0.034843               14  RF  \n",
       "11             0.8090            0.864        0.052438                4  RF  \n",
       "12             0.8595            0.898        0.040673                1  RF  \n",
       "13             0.5290            0.513        0.014246               20  RF  \n",
       "14             0.6355            0.673        0.033619               12  RF  \n",
       "15             0.6865            0.728        0.040580                8  RF  \n",
       "16             0.5805            0.587        0.018411               16  RF  \n",
       "17             0.8265            0.879        0.043572                2  RF  \n",
       "18             0.6355            0.673        0.033619               12  RF  \n",
       "19             0.5280            0.575        0.070928               18  RF  "
      ]
     },
     "execution_count": 139,
     "metadata": {},
     "output_type": "execute_result"
    }
   ],
   "source": [
    "df_cv.query('clf == \"RF\"')"
   ]
  },
  {
   "cell_type": "code",
   "execution_count": 140,
   "metadata": {},
   "outputs": [
    {
     "data": {
      "text/html": [
       "<div>\n",
       "<style scoped>\n",
       "    .dataframe tbody tr th:only-of-type {\n",
       "        vertical-align: middle;\n",
       "    }\n",
       "\n",
       "    .dataframe tbody tr th {\n",
       "        vertical-align: top;\n",
       "    }\n",
       "\n",
       "    .dataframe thead th {\n",
       "        text-align: right;\n",
       "    }\n",
       "</style>\n",
       "<table border=\"1\" class=\"dataframe\">\n",
       "  <thead>\n",
       "    <tr style=\"text-align: right;\">\n",
       "      <th></th>\n",
       "      <th>mean_fit_time</th>\n",
       "      <th>std_fit_time</th>\n",
       "      <th>mean_score_time</th>\n",
       "      <th>std_score_time</th>\n",
       "      <th>n_estimators</th>\n",
       "      <th>max_features</th>\n",
       "      <th>max_depth</th>\n",
       "      <th>params</th>\n",
       "      <th>split0_test_score</th>\n",
       "      <th>split1_test_score</th>\n",
       "      <th>split2_test_score</th>\n",
       "      <th>split3_test_score</th>\n",
       "      <th>split4_test_score</th>\n",
       "      <th>mean_test_score</th>\n",
       "      <th>std_test_score</th>\n",
       "      <th>rank_test_score</th>\n",
       "      <th>clf</th>\n",
       "    </tr>\n",
       "  </thead>\n",
       "  <tbody>\n",
       "    <tr>\n",
       "      <th>0</th>\n",
       "      <td>7.365442</td>\n",
       "      <td>0.048932</td>\n",
       "      <td>0.378005</td>\n",
       "      <td>0.003749</td>\n",
       "      <td>400</td>\n",
       "      <td>sqrt</td>\n",
       "      <td>20</td>\n",
       "      <td>{'n_estimators': 400, 'max_features': 'sqrt', ...</td>\n",
       "      <td>0.7415</td>\n",
       "      <td>0.7565</td>\n",
       "      <td>0.7250</td>\n",
       "      <td>0.6990</td>\n",
       "      <td>0.7255</td>\n",
       "      <td>0.730</td>\n",
       "      <td>0.019181</td>\n",
       "      <td>11</td>\n",
       "      <td>OF</td>\n",
       "    </tr>\n",
       "    <tr>\n",
       "      <th>1</th>\n",
       "      <td>8.114648</td>\n",
       "      <td>0.290865</td>\n",
       "      <td>0.416607</td>\n",
       "      <td>0.013279</td>\n",
       "      <td>400</td>\n",
       "      <td>sqrt</td>\n",
       "      <td>None</td>\n",
       "      <td>{'n_estimators': 400, 'max_features': 'sqrt', ...</td>\n",
       "      <td>0.7455</td>\n",
       "      <td>0.7330</td>\n",
       "      <td>0.7580</td>\n",
       "      <td>0.7190</td>\n",
       "      <td>0.7285</td>\n",
       "      <td>0.737</td>\n",
       "      <td>0.013604</td>\n",
       "      <td>10</td>\n",
       "      <td>OF</td>\n",
       "    </tr>\n",
       "    <tr>\n",
       "      <th>2</th>\n",
       "      <td>106.408613</td>\n",
       "      <td>1.582755</td>\n",
       "      <td>0.653689</td>\n",
       "      <td>0.039327</td>\n",
       "      <td>900</td>\n",
       "      <td>40</td>\n",
       "      <td>15</td>\n",
       "      <td>{'n_estimators': 900, 'max_features': 40, 'max...</td>\n",
       "      <td>0.9980</td>\n",
       "      <td>0.9980</td>\n",
       "      <td>0.9975</td>\n",
       "      <td>0.9945</td>\n",
       "      <td>0.9965</td>\n",
       "      <td>0.997</td>\n",
       "      <td>0.001319</td>\n",
       "      <td>2</td>\n",
       "      <td>OF</td>\n",
       "    </tr>\n",
       "    <tr>\n",
       "      <th>3</th>\n",
       "      <td>2.030143</td>\n",
       "      <td>0.022744</td>\n",
       "      <td>0.105387</td>\n",
       "      <td>0.000656</td>\n",
       "      <td>100</td>\n",
       "      <td>log2</td>\n",
       "      <td>None</td>\n",
       "      <td>{'n_estimators': 100, 'max_features': 'log2', ...</td>\n",
       "      <td>0.6860</td>\n",
       "      <td>0.6850</td>\n",
       "      <td>0.7105</td>\n",
       "      <td>0.6795</td>\n",
       "      <td>0.6940</td>\n",
       "      <td>0.691</td>\n",
       "      <td>0.010794</td>\n",
       "      <td>16</td>\n",
       "      <td>OF</td>\n",
       "    </tr>\n",
       "    <tr>\n",
       "      <th>4</th>\n",
       "      <td>14.752315</td>\n",
       "      <td>0.316534</td>\n",
       "      <td>0.761073</td>\n",
       "      <td>0.029957</td>\n",
       "      <td>800</td>\n",
       "      <td>sqrt</td>\n",
       "      <td>20</td>\n",
       "      <td>{'n_estimators': 800, 'max_features': 'sqrt', ...</td>\n",
       "      <td>0.7410</td>\n",
       "      <td>0.7675</td>\n",
       "      <td>0.7415</td>\n",
       "      <td>0.7425</td>\n",
       "      <td>0.7500</td>\n",
       "      <td>0.749</td>\n",
       "      <td>0.010045</td>\n",
       "      <td>8</td>\n",
       "      <td>OF</td>\n",
       "    </tr>\n",
       "    <tr>\n",
       "      <th>5</th>\n",
       "      <td>4.987083</td>\n",
       "      <td>0.062359</td>\n",
       "      <td>0.034643</td>\n",
       "      <td>0.001479</td>\n",
       "      <td>100</td>\n",
       "      <td>40</td>\n",
       "      <td>5</td>\n",
       "      <td>{'n_estimators': 100, 'max_features': 40, 'max...</td>\n",
       "      <td>0.7315</td>\n",
       "      <td>0.8925</td>\n",
       "      <td>0.8000</td>\n",
       "      <td>0.7115</td>\n",
       "      <td>0.7040</td>\n",
       "      <td>0.768</td>\n",
       "      <td>0.070915</td>\n",
       "      <td>7</td>\n",
       "      <td>OF</td>\n",
       "    </tr>\n",
       "    <tr>\n",
       "      <th>6</th>\n",
       "      <td>0.638029</td>\n",
       "      <td>0.005643</td>\n",
       "      <td>0.034610</td>\n",
       "      <td>0.001112</td>\n",
       "      <td>100</td>\n",
       "      <td>log2</td>\n",
       "      <td>5</td>\n",
       "      <td>{'n_estimators': 100, 'max_features': 'log2', ...</td>\n",
       "      <td>0.5230</td>\n",
       "      <td>0.5395</td>\n",
       "      <td>0.5240</td>\n",
       "      <td>0.5370</td>\n",
       "      <td>0.5150</td>\n",
       "      <td>0.528</td>\n",
       "      <td>0.009196</td>\n",
       "      <td>20</td>\n",
       "      <td>OF</td>\n",
       "    </tr>\n",
       "    <tr>\n",
       "      <th>7</th>\n",
       "      <td>7.963491</td>\n",
       "      <td>0.207075</td>\n",
       "      <td>0.436764</td>\n",
       "      <td>0.035282</td>\n",
       "      <td>500</td>\n",
       "      <td>sqrt</td>\n",
       "      <td>15</td>\n",
       "      <td>{'n_estimators': 500, 'max_features': 'sqrt', ...</td>\n",
       "      <td>0.6910</td>\n",
       "      <td>0.7230</td>\n",
       "      <td>0.6905</td>\n",
       "      <td>0.7050</td>\n",
       "      <td>0.7005</td>\n",
       "      <td>0.702</td>\n",
       "      <td>0.011879</td>\n",
       "      <td>15</td>\n",
       "      <td>OF</td>\n",
       "    </tr>\n",
       "    <tr>\n",
       "      <th>8</th>\n",
       "      <td>6.369174</td>\n",
       "      <td>0.029361</td>\n",
       "      <td>0.076234</td>\n",
       "      <td>0.000538</td>\n",
       "      <td>100</td>\n",
       "      <td>None</td>\n",
       "      <td>15</td>\n",
       "      <td>{'n_estimators': 100, 'max_features': None, 'm...</td>\n",
       "      <td>0.9480</td>\n",
       "      <td>0.9530</td>\n",
       "      <td>0.9605</td>\n",
       "      <td>0.9305</td>\n",
       "      <td>0.9385</td>\n",
       "      <td>0.946</td>\n",
       "      <td>0.010580</td>\n",
       "      <td>5</td>\n",
       "      <td>OF</td>\n",
       "    </tr>\n",
       "    <tr>\n",
       "      <th>9</th>\n",
       "      <td>3.070819</td>\n",
       "      <td>0.032555</td>\n",
       "      <td>0.159679</td>\n",
       "      <td>0.008374</td>\n",
       "      <td>200</td>\n",
       "      <td>log2</td>\n",
       "      <td>15</td>\n",
       "      <td>{'n_estimators': 200, 'max_features': 'log2', ...</td>\n",
       "      <td>0.6620</td>\n",
       "      <td>0.7015</td>\n",
       "      <td>0.6740</td>\n",
       "      <td>0.6550</td>\n",
       "      <td>0.6725</td>\n",
       "      <td>0.673</td>\n",
       "      <td>0.015865</td>\n",
       "      <td>17</td>\n",
       "      <td>OF</td>\n",
       "    </tr>\n",
       "    <tr>\n",
       "      <th>10</th>\n",
       "      <td>12.501708</td>\n",
       "      <td>0.158355</td>\n",
       "      <td>0.628704</td>\n",
       "      <td>0.013148</td>\n",
       "      <td>800</td>\n",
       "      <td>log2</td>\n",
       "      <td>15</td>\n",
       "      <td>{'n_estimators': 800, 'max_features': 'log2', ...</td>\n",
       "      <td>0.6870</td>\n",
       "      <td>0.7290</td>\n",
       "      <td>0.7020</td>\n",
       "      <td>0.6945</td>\n",
       "      <td>0.7070</td>\n",
       "      <td>0.704</td>\n",
       "      <td>0.014263</td>\n",
       "      <td>14</td>\n",
       "      <td>OF</td>\n",
       "    </tr>\n",
       "    <tr>\n",
       "      <th>11</th>\n",
       "      <td>81.936272</td>\n",
       "      <td>1.005683</td>\n",
       "      <td>0.496422</td>\n",
       "      <td>0.004221</td>\n",
       "      <td>700</td>\n",
       "      <td>40</td>\n",
       "      <td>15</td>\n",
       "      <td>{'n_estimators': 700, 'max_features': 40, 'max...</td>\n",
       "      <td>0.9980</td>\n",
       "      <td>0.9970</td>\n",
       "      <td>0.9980</td>\n",
       "      <td>0.9955</td>\n",
       "      <td>0.9955</td>\n",
       "      <td>0.997</td>\n",
       "      <td>0.001122</td>\n",
       "      <td>3</td>\n",
       "      <td>OF</td>\n",
       "    </tr>\n",
       "    <tr>\n",
       "      <th>12</th>\n",
       "      <td>98.747729</td>\n",
       "      <td>2.179067</td>\n",
       "      <td>0.598074</td>\n",
       "      <td>0.009137</td>\n",
       "      <td>700</td>\n",
       "      <td>40</td>\n",
       "      <td>None</td>\n",
       "      <td>{'n_estimators': 700, 'max_features': 40, 'max...</td>\n",
       "      <td>0.9975</td>\n",
       "      <td>0.9965</td>\n",
       "      <td>0.9985</td>\n",
       "      <td>0.9960</td>\n",
       "      <td>0.9975</td>\n",
       "      <td>0.997</td>\n",
       "      <td>0.000872</td>\n",
       "      <td>1</td>\n",
       "      <td>OF</td>\n",
       "    </tr>\n",
       "    <tr>\n",
       "      <th>13</th>\n",
       "      <td>4.773307</td>\n",
       "      <td>0.004750</td>\n",
       "      <td>0.250411</td>\n",
       "      <td>0.001914</td>\n",
       "      <td>800</td>\n",
       "      <td>sqrt</td>\n",
       "      <td>5</td>\n",
       "      <td>{'n_estimators': 800, 'max_features': 'sqrt', ...</td>\n",
       "      <td>0.5295</td>\n",
       "      <td>0.5440</td>\n",
       "      <td>0.5335</td>\n",
       "      <td>0.5070</td>\n",
       "      <td>0.5385</td>\n",
       "      <td>0.531</td>\n",
       "      <td>0.012716</td>\n",
       "      <td>19</td>\n",
       "      <td>OF</td>\n",
       "    </tr>\n",
       "    <tr>\n",
       "      <th>14</th>\n",
       "      <td>9.168947</td>\n",
       "      <td>0.201509</td>\n",
       "      <td>0.455055</td>\n",
       "      <td>0.000548</td>\n",
       "      <td>600</td>\n",
       "      <td>log2</td>\n",
       "      <td>15</td>\n",
       "      <td>{'n_estimators': 600, 'max_features': 'log2', ...</td>\n",
       "      <td>0.6970</td>\n",
       "      <td>0.7310</td>\n",
       "      <td>0.6925</td>\n",
       "      <td>0.6935</td>\n",
       "      <td>0.7085</td>\n",
       "      <td>0.705</td>\n",
       "      <td>0.014419</td>\n",
       "      <td>12</td>\n",
       "      <td>OF</td>\n",
       "    </tr>\n",
       "    <tr>\n",
       "      <th>15</th>\n",
       "      <td>14.090744</td>\n",
       "      <td>0.073396</td>\n",
       "      <td>0.719588</td>\n",
       "      <td>0.002348</td>\n",
       "      <td>800</td>\n",
       "      <td>log2</td>\n",
       "      <td>20</td>\n",
       "      <td>{'n_estimators': 800, 'max_features': 'log2', ...</td>\n",
       "      <td>0.7410</td>\n",
       "      <td>0.7675</td>\n",
       "      <td>0.7415</td>\n",
       "      <td>0.7425</td>\n",
       "      <td>0.7500</td>\n",
       "      <td>0.749</td>\n",
       "      <td>0.010045</td>\n",
       "      <td>8</td>\n",
       "      <td>OF</td>\n",
       "    </tr>\n",
       "    <tr>\n",
       "      <th>16</th>\n",
       "      <td>6.620949</td>\n",
       "      <td>0.012703</td>\n",
       "      <td>0.327016</td>\n",
       "      <td>0.000976</td>\n",
       "      <td>600</td>\n",
       "      <td>log2</td>\n",
       "      <td>10</td>\n",
       "      <td>{'n_estimators': 600, 'max_features': 'log2', ...</td>\n",
       "      <td>0.6270</td>\n",
       "      <td>0.6525</td>\n",
       "      <td>0.6340</td>\n",
       "      <td>0.6130</td>\n",
       "      <td>0.6195</td>\n",
       "      <td>0.629</td>\n",
       "      <td>0.013618</td>\n",
       "      <td>18</td>\n",
       "      <td>OF</td>\n",
       "    </tr>\n",
       "    <tr>\n",
       "      <th>17</th>\n",
       "      <td>27.901812</td>\n",
       "      <td>0.616924</td>\n",
       "      <td>0.169788</td>\n",
       "      <td>0.003226</td>\n",
       "      <td>200</td>\n",
       "      <td>40</td>\n",
       "      <td>None</td>\n",
       "      <td>{'n_estimators': 200, 'max_features': 40, 'max...</td>\n",
       "      <td>0.9935</td>\n",
       "      <td>0.9960</td>\n",
       "      <td>0.9955</td>\n",
       "      <td>0.9970</td>\n",
       "      <td>0.9940</td>\n",
       "      <td>0.995</td>\n",
       "      <td>0.001288</td>\n",
       "      <td>4</td>\n",
       "      <td>OF</td>\n",
       "    </tr>\n",
       "    <tr>\n",
       "      <th>18</th>\n",
       "      <td>9.008691</td>\n",
       "      <td>0.035824</td>\n",
       "      <td>0.458594</td>\n",
       "      <td>0.002313</td>\n",
       "      <td>600</td>\n",
       "      <td>sqrt</td>\n",
       "      <td>15</td>\n",
       "      <td>{'n_estimators': 600, 'max_features': 'sqrt', ...</td>\n",
       "      <td>0.6970</td>\n",
       "      <td>0.7310</td>\n",
       "      <td>0.6925</td>\n",
       "      <td>0.6935</td>\n",
       "      <td>0.7085</td>\n",
       "      <td>0.705</td>\n",
       "      <td>0.014419</td>\n",
       "      <td>12</td>\n",
       "      <td>OF</td>\n",
       "    </tr>\n",
       "    <tr>\n",
       "      <th>19</th>\n",
       "      <td>9.299145</td>\n",
       "      <td>0.035744</td>\n",
       "      <td>0.064160</td>\n",
       "      <td>0.000584</td>\n",
       "      <td>200</td>\n",
       "      <td>40</td>\n",
       "      <td>5</td>\n",
       "      <td>{'n_estimators': 200, 'max_features': 40, 'max...</td>\n",
       "      <td>0.7665</td>\n",
       "      <td>0.8580</td>\n",
       "      <td>0.8125</td>\n",
       "      <td>0.7395</td>\n",
       "      <td>0.7455</td>\n",
       "      <td>0.784</td>\n",
       "      <td>0.044847</td>\n",
       "      <td>6</td>\n",
       "      <td>OF</td>\n",
       "    </tr>\n",
       "  </tbody>\n",
       "</table>\n",
       "</div>"
      ],
      "text/plain": [
       "    mean_fit_time  std_fit_time  mean_score_time  std_score_time  \\\n",
       "0        7.365442      0.048932         0.378005        0.003749   \n",
       "1        8.114648      0.290865         0.416607        0.013279   \n",
       "2      106.408613      1.582755         0.653689        0.039327   \n",
       "3        2.030143      0.022744         0.105387        0.000656   \n",
       "4       14.752315      0.316534         0.761073        0.029957   \n",
       "5        4.987083      0.062359         0.034643        0.001479   \n",
       "6        0.638029      0.005643         0.034610        0.001112   \n",
       "7        7.963491      0.207075         0.436764        0.035282   \n",
       "8        6.369174      0.029361         0.076234        0.000538   \n",
       "9        3.070819      0.032555         0.159679        0.008374   \n",
       "10      12.501708      0.158355         0.628704        0.013148   \n",
       "11      81.936272      1.005683         0.496422        0.004221   \n",
       "12      98.747729      2.179067         0.598074        0.009137   \n",
       "13       4.773307      0.004750         0.250411        0.001914   \n",
       "14       9.168947      0.201509         0.455055        0.000548   \n",
       "15      14.090744      0.073396         0.719588        0.002348   \n",
       "16       6.620949      0.012703         0.327016        0.000976   \n",
       "17      27.901812      0.616924         0.169788        0.003226   \n",
       "18       9.008691      0.035824         0.458594        0.002313   \n",
       "19       9.299145      0.035744         0.064160        0.000584   \n",
       "\n",
       "    n_estimators max_features max_depth  \\\n",
       "0            400         sqrt        20   \n",
       "1            400         sqrt      None   \n",
       "2            900           40        15   \n",
       "3            100         log2      None   \n",
       "4            800         sqrt        20   \n",
       "5            100           40         5   \n",
       "6            100         log2         5   \n",
       "7            500         sqrt        15   \n",
       "8            100         None        15   \n",
       "9            200         log2        15   \n",
       "10           800         log2        15   \n",
       "11           700           40        15   \n",
       "12           700           40      None   \n",
       "13           800         sqrt         5   \n",
       "14           600         log2        15   \n",
       "15           800         log2        20   \n",
       "16           600         log2        10   \n",
       "17           200           40      None   \n",
       "18           600         sqrt        15   \n",
       "19           200           40         5   \n",
       "\n",
       "                                               params  split0_test_score  \\\n",
       "0   {'n_estimators': 400, 'max_features': 'sqrt', ...             0.7415   \n",
       "1   {'n_estimators': 400, 'max_features': 'sqrt', ...             0.7455   \n",
       "2   {'n_estimators': 900, 'max_features': 40, 'max...             0.9980   \n",
       "3   {'n_estimators': 100, 'max_features': 'log2', ...             0.6860   \n",
       "4   {'n_estimators': 800, 'max_features': 'sqrt', ...             0.7410   \n",
       "5   {'n_estimators': 100, 'max_features': 40, 'max...             0.7315   \n",
       "6   {'n_estimators': 100, 'max_features': 'log2', ...             0.5230   \n",
       "7   {'n_estimators': 500, 'max_features': 'sqrt', ...             0.6910   \n",
       "8   {'n_estimators': 100, 'max_features': None, 'm...             0.9480   \n",
       "9   {'n_estimators': 200, 'max_features': 'log2', ...             0.6620   \n",
       "10  {'n_estimators': 800, 'max_features': 'log2', ...             0.6870   \n",
       "11  {'n_estimators': 700, 'max_features': 40, 'max...             0.9980   \n",
       "12  {'n_estimators': 700, 'max_features': 40, 'max...             0.9975   \n",
       "13  {'n_estimators': 800, 'max_features': 'sqrt', ...             0.5295   \n",
       "14  {'n_estimators': 600, 'max_features': 'log2', ...             0.6970   \n",
       "15  {'n_estimators': 800, 'max_features': 'log2', ...             0.7410   \n",
       "16  {'n_estimators': 600, 'max_features': 'log2', ...             0.6270   \n",
       "17  {'n_estimators': 200, 'max_features': 40, 'max...             0.9935   \n",
       "18  {'n_estimators': 600, 'max_features': 'sqrt', ...             0.6970   \n",
       "19  {'n_estimators': 200, 'max_features': 40, 'max...             0.7665   \n",
       "\n",
       "    split1_test_score  split2_test_score  split3_test_score  \\\n",
       "0              0.7565             0.7250             0.6990   \n",
       "1              0.7330             0.7580             0.7190   \n",
       "2              0.9980             0.9975             0.9945   \n",
       "3              0.6850             0.7105             0.6795   \n",
       "4              0.7675             0.7415             0.7425   \n",
       "5              0.8925             0.8000             0.7115   \n",
       "6              0.5395             0.5240             0.5370   \n",
       "7              0.7230             0.6905             0.7050   \n",
       "8              0.9530             0.9605             0.9305   \n",
       "9              0.7015             0.6740             0.6550   \n",
       "10             0.7290             0.7020             0.6945   \n",
       "11             0.9970             0.9980             0.9955   \n",
       "12             0.9965             0.9985             0.9960   \n",
       "13             0.5440             0.5335             0.5070   \n",
       "14             0.7310             0.6925             0.6935   \n",
       "15             0.7675             0.7415             0.7425   \n",
       "16             0.6525             0.6340             0.6130   \n",
       "17             0.9960             0.9955             0.9970   \n",
       "18             0.7310             0.6925             0.6935   \n",
       "19             0.8580             0.8125             0.7395   \n",
       "\n",
       "    split4_test_score  mean_test_score  std_test_score  rank_test_score clf  \n",
       "0              0.7255            0.730        0.019181               11  OF  \n",
       "1              0.7285            0.737        0.013604               10  OF  \n",
       "2              0.9965            0.997        0.001319                2  OF  \n",
       "3              0.6940            0.691        0.010794               16  OF  \n",
       "4              0.7500            0.749        0.010045                8  OF  \n",
       "5              0.7040            0.768        0.070915                7  OF  \n",
       "6              0.5150            0.528        0.009196               20  OF  \n",
       "7              0.7005            0.702        0.011879               15  OF  \n",
       "8              0.9385            0.946        0.010580                5  OF  \n",
       "9              0.6725            0.673        0.015865               17  OF  \n",
       "10             0.7070            0.704        0.014263               14  OF  \n",
       "11             0.9955            0.997        0.001122                3  OF  \n",
       "12             0.9975            0.997        0.000872                1  OF  \n",
       "13             0.5385            0.531        0.012716               19  OF  \n",
       "14             0.7085            0.705        0.014419               12  OF  \n",
       "15             0.7500            0.749        0.010045                8  OF  \n",
       "16             0.6195            0.629        0.013618               18  OF  \n",
       "17             0.9940            0.995        0.001288                4  OF  \n",
       "18             0.7085            0.705        0.014419               12  OF  \n",
       "19             0.7455            0.784        0.044847                6  OF  "
      ]
     },
     "execution_count": 140,
     "metadata": {},
     "output_type": "execute_result"
    }
   ],
   "source": [
    "df_cv.query('clf == \"OF\"')"
   ]
  },
  {
   "cell_type": "code",
   "execution_count": null,
   "metadata": {},
   "outputs": [],
   "source": []
  }
 ],
 "metadata": {
  "interpreter": {
   "hash": "93e4dc7d4754bd0325258ba14c14aaf66418ce0b9905eb4643088c0b3d7c1548"
  },
  "kernelspec": {
   "display_name": "Python 3.8.13 ('of')",
   "language": "python",
   "name": "python3"
  },
  "language_info": {
   "codemirror_mode": {
    "name": "ipython",
    "version": 3
   },
   "file_extension": ".py",
   "mimetype": "text/x-python",
   "name": "python",
   "nbconvert_exporter": "python",
   "pygments_lexer": "ipython3",
   "version": "3.8.13"
  },
  "orig_nbformat": 4
 },
 "nbformat": 4,
 "nbformat_minor": 2
}
